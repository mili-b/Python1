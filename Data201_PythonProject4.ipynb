{
  "nbformat": 4,
  "nbformat_minor": 0,
  "metadata": {
    "colab": {
      "name": "Data201_PythonProject4.ipynb",
      "provenance": [],
      "collapsed_sections": [],
      "authorship_tag": "ABX9TyNY/O0OXSLCUjPE52R1PG0m",
      "include_colab_link": true
    },
    "kernelspec": {
      "name": "python3",
      "display_name": "Python 3"
    },
    "language_info": {
      "name": "python"
    }
  },
  "cells": [
    {
      "cell_type": "markdown",
      "metadata": {
        "id": "view-in-github",
        "colab_type": "text"
      },
      "source": [
        "<a href=\"https://colab.research.google.com/github/mili-b/mili-b/blob/main/Data201_PythonProject4.ipynb\" target=\"_parent\"><img src=\"https://colab.research.google.com/assets/colab-badge.svg\" alt=\"Open In Colab\"/></a>"
      ]
    },
    {
      "cell_type": "code",
      "metadata": {
        "colab": {
          "base_uri": "https://localhost:8080/",
          "height": 708
        },
        "id": "9BrRaDW9Jzks",
        "outputId": "f7d45d8f-18ac-4474-f673-b9ca35f14626"
      },
      "source": [
        "\n",
        "\n",
        "# data source - https://www.sciencedirect.com/science/article/pii/S2532340918308242#t0010\n",
        "# Data - look at a set of 13 corporate governance indicators for 626 firms across six Asian\n",
        "# countries (China, India, Indonesia, Japan, South Korea, Thailand) from 2010-2017 \n",
        "# (for total 5008 year-observations - 626x8) and combine them to form a coporate governance index\n",
        "# Also provide six financial performance indicators\n",
        "# Goal - to see whether corporate governance factors influence financial performance\n",
        "\n",
        "# The project ananlysis found little evidence to support this hypothesis for these firms\n",
        "# in these countries over this time period, using the financials, goverance factors and index as developed\n",
        "# \n",
        "\n",
        "import pandas as pd\n",
        "import numpy as np\n",
        "import matplotlib.pyplot as plt\n",
        "%matplotlib inline\n",
        "import seaborn as sns\n",
        "\n",
        "df = pd.read_csv('https://raw.githubusercontent.com/mili-b/mili-b/main/CorpGovData.csv')\n",
        "df\n"
      ],
      "execution_count": 59,
      "outputs": [
        {
          "output_type": "execute_result",
          "data": {
            "text/html": [
              "<div>\n",
              "<style scoped>\n",
              "    .dataframe tbody tr th:only-of-type {\n",
              "        vertical-align: middle;\n",
              "    }\n",
              "\n",
              "    .dataframe tbody tr th {\n",
              "        vertical-align: top;\n",
              "    }\n",
              "\n",
              "    .dataframe thead th {\n",
              "        text-align: right;\n",
              "    }\n",
              "</style>\n",
              "<table border=\"1\" class=\"dataframe\">\n",
              "  <thead>\n",
              "    <tr style=\"text-align: right;\">\n",
              "      <th></th>\n",
              "      <th>Ticker_Id</th>\n",
              "      <th>Indx_Members</th>\n",
              "      <th>Country</th>\n",
              "      <th>Year</th>\n",
              "      <th>Board size</th>\n",
              "      <th>Board independence</th>\n",
              "      <th>CEO duality</th>\n",
              "      <th>Board meeting attendance</th>\n",
              "      <th>Independence of audit committee</th>\n",
              "      <th>Auditor ratification</th>\n",
              "      <th>Independence of compensation committee</th>\n",
              "      <th>Independence of nomination committee</th>\n",
              "      <th>Shareholder approved poison pill</th>\n",
              "      <th>Dual class unequal voting rights of common shares</th>\n",
              "      <th>Staggered board</th>\n",
              "      <th>Diversity of board</th>\n",
              "      <th>Board duration</th>\n",
              "      <th>Corporate governance score</th>\n",
              "      <th>LogAsset</th>\n",
              "      <th>CAPEXByAsset</th>\n",
              "      <th>CashByAsset</th>\n",
              "      <th>DebtByAsset</th>\n",
              "      <th>PPNEByAsset</th>\n",
              "      <th>RNDByAsset</th>\n",
              "    </tr>\n",
              "  </thead>\n",
              "  <tbody>\n",
              "    <tr>\n",
              "      <th>0</th>\n",
              "      <td>600000 CH</td>\n",
              "      <td>600000 CH Equity</td>\n",
              "      <td>China</td>\n",
              "      <td>2010</td>\n",
              "      <td>1.0</td>\n",
              "      <td>0.0</td>\n",
              "      <td>1.0</td>\n",
              "      <td>1.0</td>\n",
              "      <td>0.0</td>\n",
              "      <td>0.0</td>\n",
              "      <td>0.0</td>\n",
              "      <td>0.0</td>\n",
              "      <td>0.0</td>\n",
              "      <td>0.0</td>\n",
              "      <td>1.0</td>\n",
              "      <td>1.0</td>\n",
              "      <td>0.0</td>\n",
              "      <td>5.0</td>\n",
              "      <td>14.60</td>\n",
              "      <td>0.00</td>\n",
              "      <td>0.13</td>\n",
              "      <td>0.18</td>\n",
              "      <td>0.00</td>\n",
              "      <td>NaN</td>\n",
              "    </tr>\n",
              "    <tr>\n",
              "      <th>1</th>\n",
              "      <td>600008 CH</td>\n",
              "      <td>600008 CH Equity</td>\n",
              "      <td>China</td>\n",
              "      <td>2010</td>\n",
              "      <td>1.0</td>\n",
              "      <td>0.0</td>\n",
              "      <td>1.0</td>\n",
              "      <td>1.0</td>\n",
              "      <td>0.0</td>\n",
              "      <td>0.0</td>\n",
              "      <td>0.0</td>\n",
              "      <td>0.0</td>\n",
              "      <td>0.0</td>\n",
              "      <td>0.0</td>\n",
              "      <td>1.0</td>\n",
              "      <td>1.0</td>\n",
              "      <td>1.0</td>\n",
              "      <td>6.0</td>\n",
              "      <td>9.73</td>\n",
              "      <td>-0.05</td>\n",
              "      <td>0.12</td>\n",
              "      <td>0.31</td>\n",
              "      <td>0.28</td>\n",
              "      <td>0.0</td>\n",
              "    </tr>\n",
              "    <tr>\n",
              "      <th>2</th>\n",
              "      <td>600009 CH</td>\n",
              "      <td>600009 CH Equity</td>\n",
              "      <td>China</td>\n",
              "      <td>2010</td>\n",
              "      <td>1.0</td>\n",
              "      <td>0.0</td>\n",
              "      <td>1.0</td>\n",
              "      <td>1.0</td>\n",
              "      <td>1.0</td>\n",
              "      <td>0.0</td>\n",
              "      <td>0.0</td>\n",
              "      <td>0.0</td>\n",
              "      <td>0.0</td>\n",
              "      <td>0.0</td>\n",
              "      <td>1.0</td>\n",
              "      <td>1.0</td>\n",
              "      <td>1.0</td>\n",
              "      <td>7.0</td>\n",
              "      <td>9.77</td>\n",
              "      <td>-0.03</td>\n",
              "      <td>0.08</td>\n",
              "      <td>0.14</td>\n",
              "      <td>0.77</td>\n",
              "      <td>0.0</td>\n",
              "    </tr>\n",
              "    <tr>\n",
              "      <th>3</th>\n",
              "      <td>600010 CH</td>\n",
              "      <td>600010 CH Equity</td>\n",
              "      <td>China</td>\n",
              "      <td>2010</td>\n",
              "      <td>1.0</td>\n",
              "      <td>0.0</td>\n",
              "      <td>1.0</td>\n",
              "      <td>1.0</td>\n",
              "      <td>0.0</td>\n",
              "      <td>0.0</td>\n",
              "      <td>0.0</td>\n",
              "      <td>0.0</td>\n",
              "      <td>0.0</td>\n",
              "      <td>0.0</td>\n",
              "      <td>1.0</td>\n",
              "      <td>1.0</td>\n",
              "      <td>0.0</td>\n",
              "      <td>5.0</td>\n",
              "      <td>10.65</td>\n",
              "      <td>-0.05</td>\n",
              "      <td>0.05</td>\n",
              "      <td>0.39</td>\n",
              "      <td>0.49</td>\n",
              "      <td>0.0</td>\n",
              "    </tr>\n",
              "    <tr>\n",
              "      <th>4</th>\n",
              "      <td>600015 CH</td>\n",
              "      <td>600015 CH Equity</td>\n",
              "      <td>China</td>\n",
              "      <td>2010</td>\n",
              "      <td>1.0</td>\n",
              "      <td>0.0</td>\n",
              "      <td>1.0</td>\n",
              "      <td>1.0</td>\n",
              "      <td>0.0</td>\n",
              "      <td>0.0</td>\n",
              "      <td>0.0</td>\n",
              "      <td>0.0</td>\n",
              "      <td>0.0</td>\n",
              "      <td>0.0</td>\n",
              "      <td>1.0</td>\n",
              "      <td>1.0</td>\n",
              "      <td>0.0</td>\n",
              "      <td>5.0</td>\n",
              "      <td>13.85</td>\n",
              "      <td>0.00</td>\n",
              "      <td>0.14</td>\n",
              "      <td>0.21</td>\n",
              "      <td>0.01</td>\n",
              "      <td>NaN</td>\n",
              "    </tr>\n",
              "    <tr>\n",
              "      <th>...</th>\n",
              "      <td>...</td>\n",
              "      <td>...</td>\n",
              "      <td>...</td>\n",
              "      <td>...</td>\n",
              "      <td>...</td>\n",
              "      <td>...</td>\n",
              "      <td>...</td>\n",
              "      <td>...</td>\n",
              "      <td>...</td>\n",
              "      <td>...</td>\n",
              "      <td>...</td>\n",
              "      <td>...</td>\n",
              "      <td>...</td>\n",
              "      <td>...</td>\n",
              "      <td>...</td>\n",
              "      <td>...</td>\n",
              "      <td>...</td>\n",
              "      <td>...</td>\n",
              "      <td>...</td>\n",
              "      <td>...</td>\n",
              "      <td>...</td>\n",
              "      <td>...</td>\n",
              "      <td>...</td>\n",
              "      <td>...</td>\n",
              "    </tr>\n",
              "    <tr>\n",
              "      <th>5003</th>\n",
              "      <td>UNIQ TB</td>\n",
              "      <td>UNIQ TB Equity</td>\n",
              "      <td>Thailand</td>\n",
              "      <td>2017</td>\n",
              "      <td>1.0</td>\n",
              "      <td>0.0</td>\n",
              "      <td>0.0</td>\n",
              "      <td>0.0</td>\n",
              "      <td>0.0</td>\n",
              "      <td>0.0</td>\n",
              "      <td>0.0</td>\n",
              "      <td>0.0</td>\n",
              "      <td>0.0</td>\n",
              "      <td>0.0</td>\n",
              "      <td>0.0</td>\n",
              "      <td>0.0</td>\n",
              "      <td>0.0</td>\n",
              "      <td>1.0</td>\n",
              "      <td>10.22</td>\n",
              "      <td>-0.02</td>\n",
              "      <td>0.01</td>\n",
              "      <td>0.29</td>\n",
              "      <td>0.20</td>\n",
              "      <td>0.0</td>\n",
              "    </tr>\n",
              "    <tr>\n",
              "      <th>5004</th>\n",
              "      <td>UV TB</td>\n",
              "      <td>UV TB Equity</td>\n",
              "      <td>Thailand</td>\n",
              "      <td>2017</td>\n",
              "      <td>1.0</td>\n",
              "      <td>0.0</td>\n",
              "      <td>0.0</td>\n",
              "      <td>0.0</td>\n",
              "      <td>0.0</td>\n",
              "      <td>0.0</td>\n",
              "      <td>0.0</td>\n",
              "      <td>0.0</td>\n",
              "      <td>0.0</td>\n",
              "      <td>0.0</td>\n",
              "      <td>0.0</td>\n",
              "      <td>0.0</td>\n",
              "      <td>0.0</td>\n",
              "      <td>1.0</td>\n",
              "      <td>10.64</td>\n",
              "      <td>-0.01</td>\n",
              "      <td>0.04</td>\n",
              "      <td>0.46</td>\n",
              "      <td>0.31</td>\n",
              "      <td>0.0</td>\n",
              "    </tr>\n",
              "    <tr>\n",
              "      <th>5005</th>\n",
              "      <td>WHA TB</td>\n",
              "      <td>WHA TB Equity</td>\n",
              "      <td>Thailand</td>\n",
              "      <td>2017</td>\n",
              "      <td>1.0</td>\n",
              "      <td>0.0</td>\n",
              "      <td>0.0</td>\n",
              "      <td>0.0</td>\n",
              "      <td>0.0</td>\n",
              "      <td>0.0</td>\n",
              "      <td>0.0</td>\n",
              "      <td>0.0</td>\n",
              "      <td>0.0</td>\n",
              "      <td>0.0</td>\n",
              "      <td>0.0</td>\n",
              "      <td>0.0</td>\n",
              "      <td>0.0</td>\n",
              "      <td>1.0</td>\n",
              "      <td>11.21</td>\n",
              "      <td>-0.02</td>\n",
              "      <td>0.03</td>\n",
              "      <td>0.47</td>\n",
              "      <td>0.19</td>\n",
              "      <td>0.0</td>\n",
              "    </tr>\n",
              "    <tr>\n",
              "      <th>5006</th>\n",
              "      <td>WHAUP TB</td>\n",
              "      <td>WHAUP TB Equity</td>\n",
              "      <td>Thailand</td>\n",
              "      <td>2017</td>\n",
              "      <td>1.0</td>\n",
              "      <td>0.0</td>\n",
              "      <td>0.0</td>\n",
              "      <td>0.0</td>\n",
              "      <td>0.0</td>\n",
              "      <td>0.0</td>\n",
              "      <td>0.0</td>\n",
              "      <td>0.0</td>\n",
              "      <td>0.0</td>\n",
              "      <td>0.0</td>\n",
              "      <td>0.0</td>\n",
              "      <td>0.0</td>\n",
              "      <td>0.0</td>\n",
              "      <td>1.0</td>\n",
              "      <td>9.97</td>\n",
              "      <td>-0.02</td>\n",
              "      <td>0.03</td>\n",
              "      <td>0.18</td>\n",
              "      <td>0.14</td>\n",
              "      <td>0.0</td>\n",
              "    </tr>\n",
              "    <tr>\n",
              "      <th>5007</th>\n",
              "      <td>WORK TB</td>\n",
              "      <td>WORK TB Equity</td>\n",
              "      <td>Thailand</td>\n",
              "      <td>2017</td>\n",
              "      <td>1.0</td>\n",
              "      <td>0.0</td>\n",
              "      <td>0.0</td>\n",
              "      <td>0.0</td>\n",
              "      <td>0.0</td>\n",
              "      <td>0.0</td>\n",
              "      <td>0.0</td>\n",
              "      <td>0.0</td>\n",
              "      <td>0.0</td>\n",
              "      <td>0.0</td>\n",
              "      <td>0.0</td>\n",
              "      <td>0.0</td>\n",
              "      <td>0.0</td>\n",
              "      <td>1.0</td>\n",
              "      <td>8.77</td>\n",
              "      <td>-0.08</td>\n",
              "      <td>0.21</td>\n",
              "      <td>0.07</td>\n",
              "      <td>0.17</td>\n",
              "      <td>0.0</td>\n",
              "    </tr>\n",
              "  </tbody>\n",
              "</table>\n",
              "<p>5008 rows × 24 columns</p>\n",
              "</div>"
            ],
            "text/plain": [
              "      Ticker_Id      Indx_Members  ... PPNEByAsset  RNDByAsset\n",
              "0     600000 CH  600000 CH Equity  ...        0.00         NaN\n",
              "1     600008 CH  600008 CH Equity  ...        0.28         0.0\n",
              "2     600009 CH  600009 CH Equity  ...        0.77         0.0\n",
              "3     600010 CH  600010 CH Equity  ...        0.49         0.0\n",
              "4     600015 CH  600015 CH Equity  ...        0.01         NaN\n",
              "...         ...               ...  ...         ...         ...\n",
              "5003    UNIQ TB    UNIQ TB Equity  ...        0.20         0.0\n",
              "5004      UV TB      UV TB Equity  ...        0.31         0.0\n",
              "5005     WHA TB     WHA TB Equity  ...        0.19         0.0\n",
              "5006   WHAUP TB   WHAUP TB Equity  ...        0.14         0.0\n",
              "5007    WORK TB    WORK TB Equity  ...        0.17         0.0\n",
              "\n",
              "[5008 rows x 24 columns]"
            ]
          },
          "metadata": {
            "tags": []
          },
          "execution_count": 59
        }
      ]
    },
    {
      "cell_type": "code",
      "metadata": {
        "colab": {
          "base_uri": "https://localhost:8080/"
        },
        "id": "cTMNlr13KiwH",
        "outputId": "0558315b-124b-4196-a8e9-9ec355c50e29"
      },
      "source": [
        "\n",
        "df.shape\n"
      ],
      "execution_count": 60,
      "outputs": [
        {
          "output_type": "execute_result",
          "data": {
            "text/plain": [
              "(5008, 24)"
            ]
          },
          "metadata": {
            "tags": []
          },
          "execution_count": 60
        }
      ]
    },
    {
      "cell_type": "markdown",
      "metadata": {
        "id": "0oV5pPLyDb_j"
      },
      "source": [
        "# Data Types "
      ]
    },
    {
      "cell_type": "code",
      "metadata": {
        "colab": {
          "base_uri": "https://localhost:8080/"
        },
        "id": "7-NwufDwLClO",
        "outputId": "c12546ca-6e36-44ea-95eb-b95ca02cfea4"
      },
      "source": [
        "\n",
        "df.dtypes\n"
      ],
      "execution_count": 61,
      "outputs": [
        {
          "output_type": "execute_result",
          "data": {
            "text/plain": [
              "Ticker_Id                                             object\n",
              "Indx_Members                                          object\n",
              "Country                                               object\n",
              "Year                                                   int64\n",
              "Board size                                           float64\n",
              "Board independence                                   float64\n",
              "CEO duality                                          float64\n",
              "Board meeting attendance                             float64\n",
              "Independence of audit committee                      float64\n",
              "Auditor ratification                                 float64\n",
              "Independence of compensation committee               float64\n",
              "Independence of nomination committee                 float64\n",
              "Shareholder approved poison pill                     float64\n",
              "Dual class unequal voting rights of common shares    float64\n",
              "Staggered board                                      float64\n",
              "Diversity of board                                   float64\n",
              "Board duration                                       float64\n",
              "Corporate governance score                           float64\n",
              "LogAsset                                             float64\n",
              "CAPEXByAsset                                         float64\n",
              "CashByAsset                                          float64\n",
              "DebtByAsset                                          float64\n",
              "PPNEByAsset                                          float64\n",
              "RNDByAsset                                           float64\n",
              "dtype: object"
            ]
          },
          "metadata": {
            "tags": []
          },
          "execution_count": 61
        }
      ]
    },
    {
      "cell_type": "code",
      "metadata": {
        "id": "apIGhxbrDlQV"
      },
      "source": [
        ""
      ],
      "execution_count": 61,
      "outputs": []
    },
    {
      "cell_type": "markdown",
      "metadata": {
        "id": "s_fVnZx9DovP"
      },
      "source": [
        "# Missing Values"
      ]
    },
    {
      "cell_type": "code",
      "metadata": {
        "colab": {
          "base_uri": "https://localhost:8080/"
        },
        "id": "QMIWvRLmLb0y",
        "outputId": "3d45f9dc-e0ca-44e1-f76d-cf8a92998991"
      },
      "source": [
        "\n",
        "df.isna().sum()\n"
      ],
      "execution_count": 62,
      "outputs": [
        {
          "output_type": "execute_result",
          "data": {
            "text/plain": [
              "Ticker_Id                                               0\n",
              "Indx_Members                                            0\n",
              "Country                                                 0\n",
              "Year                                                    0\n",
              "Board size                                            144\n",
              "Board independence                                    144\n",
              "CEO duality                                           144\n",
              "Board meeting attendance                              144\n",
              "Independence of audit committee                       144\n",
              "Auditor ratification                                  144\n",
              "Independence of compensation committee                144\n",
              "Independence of nomination committee                  144\n",
              "Shareholder approved poison pill                      144\n",
              "Dual class unequal voting rights of common shares     144\n",
              "Staggered board                                       144\n",
              "Diversity of board                                    144\n",
              "Board duration                                        144\n",
              "Corporate governance score                            144\n",
              "LogAsset                                              203\n",
              "CAPEXByAsset                                          221\n",
              "CashByAsset                                           206\n",
              "DebtByAsset                                           210\n",
              "PPNEByAsset                                           204\n",
              "RNDByAsset                                           1140\n",
              "dtype: int64"
            ]
          },
          "metadata": {
            "tags": []
          },
          "execution_count": 62
        }
      ]
    },
    {
      "cell_type": "code",
      "metadata": {
        "id": "M5Q_678CD2S4"
      },
      "source": [
        ""
      ],
      "execution_count": 62,
      "outputs": []
    },
    {
      "cell_type": "markdown",
      "metadata": {
        "id": "IIx63oUxD4Lr"
      },
      "source": [
        "## Drop rows with missing corporate governance values"
      ]
    },
    {
      "cell_type": "code",
      "metadata": {
        "id": "I1byYjL5fDEj"
      },
      "source": [
        "\n",
        "df1 = df.dropna(subset=['Corporate governance score'])"
      ],
      "execution_count": 63,
      "outputs": []
    },
    {
      "cell_type": "code",
      "metadata": {
        "colab": {
          "base_uri": "https://localhost:8080/"
        },
        "id": "S--1qdyzfODA",
        "outputId": "4ffdae11-8e6b-4fe5-f1da-0c80fe55724e"
      },
      "source": [
        "\n",
        "df1.isna().sum()"
      ],
      "execution_count": 64,
      "outputs": [
        {
          "output_type": "execute_result",
          "data": {
            "text/plain": [
              "Ticker_Id                                               0\n",
              "Indx_Members                                            0\n",
              "Country                                                 0\n",
              "Year                                                    0\n",
              "Board size                                              0\n",
              "Board independence                                      0\n",
              "CEO duality                                             0\n",
              "Board meeting attendance                                0\n",
              "Independence of audit committee                         0\n",
              "Auditor ratification                                    0\n",
              "Independence of compensation committee                  0\n",
              "Independence of nomination committee                    0\n",
              "Shareholder approved poison pill                        0\n",
              "Dual class unequal voting rights of common shares       0\n",
              "Staggered board                                         0\n",
              "Diversity of board                                      0\n",
              "Board duration                                          0\n",
              "Corporate governance score                              0\n",
              "LogAsset                                              181\n",
              "CAPEXByAsset                                          197\n",
              "CashByAsset                                           184\n",
              "DebtByAsset                                           186\n",
              "PPNEByAsset                                           182\n",
              "RNDByAsset                                           1094\n",
              "dtype: int64"
            ]
          },
          "metadata": {
            "tags": []
          },
          "execution_count": 64
        }
      ]
    },
    {
      "cell_type": "code",
      "metadata": {
        "colab": {
          "base_uri": "https://localhost:8080/"
        },
        "id": "ZNvIsWFufrsO",
        "outputId": "4c1b5fb2-d394-4c34-8e4e-8435ef2b05b3"
      },
      "source": [
        "\n",
        "df1.shape"
      ],
      "execution_count": 65,
      "outputs": [
        {
          "output_type": "execute_result",
          "data": {
            "text/plain": [
              "(4864, 24)"
            ]
          },
          "metadata": {
            "tags": []
          },
          "execution_count": 65
        }
      ]
    },
    {
      "cell_type": "code",
      "metadata": {
        "id": "XPFBrsDHENSO"
      },
      "source": [
        ""
      ],
      "execution_count": 65,
      "outputs": []
    },
    {
      "cell_type": "markdown",
      "metadata": {
        "id": "ExhDaTX9EQrX"
      },
      "source": [
        "## Fill remaining missing values with column means"
      ]
    },
    {
      "cell_type": "code",
      "metadata": {
        "colab": {
          "base_uri": "https://localhost:8080/",
          "height": 708
        },
        "id": "jM5PMpJ3sdjD",
        "outputId": "5c23585e-8c74-40f2-dbd8-c34d228c6f63"
      },
      "source": [
        "\n",
        "df2 = df1.fillna(df1.mean())\n",
        "df2\n"
      ],
      "execution_count": 66,
      "outputs": [
        {
          "output_type": "execute_result",
          "data": {
            "text/html": [
              "<div>\n",
              "<style scoped>\n",
              "    .dataframe tbody tr th:only-of-type {\n",
              "        vertical-align: middle;\n",
              "    }\n",
              "\n",
              "    .dataframe tbody tr th {\n",
              "        vertical-align: top;\n",
              "    }\n",
              "\n",
              "    .dataframe thead th {\n",
              "        text-align: right;\n",
              "    }\n",
              "</style>\n",
              "<table border=\"1\" class=\"dataframe\">\n",
              "  <thead>\n",
              "    <tr style=\"text-align: right;\">\n",
              "      <th></th>\n",
              "      <th>Ticker_Id</th>\n",
              "      <th>Indx_Members</th>\n",
              "      <th>Country</th>\n",
              "      <th>Year</th>\n",
              "      <th>Board size</th>\n",
              "      <th>Board independence</th>\n",
              "      <th>CEO duality</th>\n",
              "      <th>Board meeting attendance</th>\n",
              "      <th>Independence of audit committee</th>\n",
              "      <th>Auditor ratification</th>\n",
              "      <th>Independence of compensation committee</th>\n",
              "      <th>Independence of nomination committee</th>\n",
              "      <th>Shareholder approved poison pill</th>\n",
              "      <th>Dual class unequal voting rights of common shares</th>\n",
              "      <th>Staggered board</th>\n",
              "      <th>Diversity of board</th>\n",
              "      <th>Board duration</th>\n",
              "      <th>Corporate governance score</th>\n",
              "      <th>LogAsset</th>\n",
              "      <th>CAPEXByAsset</th>\n",
              "      <th>CashByAsset</th>\n",
              "      <th>DebtByAsset</th>\n",
              "      <th>PPNEByAsset</th>\n",
              "      <th>RNDByAsset</th>\n",
              "    </tr>\n",
              "  </thead>\n",
              "  <tbody>\n",
              "    <tr>\n",
              "      <th>0</th>\n",
              "      <td>600000 CH</td>\n",
              "      <td>600000 CH Equity</td>\n",
              "      <td>China</td>\n",
              "      <td>2010</td>\n",
              "      <td>1.0</td>\n",
              "      <td>0.0</td>\n",
              "      <td>1.0</td>\n",
              "      <td>1.0</td>\n",
              "      <td>0.0</td>\n",
              "      <td>0.0</td>\n",
              "      <td>0.0</td>\n",
              "      <td>0.0</td>\n",
              "      <td>0.0</td>\n",
              "      <td>0.0</td>\n",
              "      <td>1.0</td>\n",
              "      <td>1.0</td>\n",
              "      <td>0.0</td>\n",
              "      <td>5.0</td>\n",
              "      <td>14.60</td>\n",
              "      <td>0.00</td>\n",
              "      <td>0.13</td>\n",
              "      <td>0.18</td>\n",
              "      <td>0.00</td>\n",
              "      <td>0.012268</td>\n",
              "    </tr>\n",
              "    <tr>\n",
              "      <th>1</th>\n",
              "      <td>600008 CH</td>\n",
              "      <td>600008 CH Equity</td>\n",
              "      <td>China</td>\n",
              "      <td>2010</td>\n",
              "      <td>1.0</td>\n",
              "      <td>0.0</td>\n",
              "      <td>1.0</td>\n",
              "      <td>1.0</td>\n",
              "      <td>0.0</td>\n",
              "      <td>0.0</td>\n",
              "      <td>0.0</td>\n",
              "      <td>0.0</td>\n",
              "      <td>0.0</td>\n",
              "      <td>0.0</td>\n",
              "      <td>1.0</td>\n",
              "      <td>1.0</td>\n",
              "      <td>1.0</td>\n",
              "      <td>6.0</td>\n",
              "      <td>9.73</td>\n",
              "      <td>-0.05</td>\n",
              "      <td>0.12</td>\n",
              "      <td>0.31</td>\n",
              "      <td>0.28</td>\n",
              "      <td>0.000000</td>\n",
              "    </tr>\n",
              "    <tr>\n",
              "      <th>2</th>\n",
              "      <td>600009 CH</td>\n",
              "      <td>600009 CH Equity</td>\n",
              "      <td>China</td>\n",
              "      <td>2010</td>\n",
              "      <td>1.0</td>\n",
              "      <td>0.0</td>\n",
              "      <td>1.0</td>\n",
              "      <td>1.0</td>\n",
              "      <td>1.0</td>\n",
              "      <td>0.0</td>\n",
              "      <td>0.0</td>\n",
              "      <td>0.0</td>\n",
              "      <td>0.0</td>\n",
              "      <td>0.0</td>\n",
              "      <td>1.0</td>\n",
              "      <td>1.0</td>\n",
              "      <td>1.0</td>\n",
              "      <td>7.0</td>\n",
              "      <td>9.77</td>\n",
              "      <td>-0.03</td>\n",
              "      <td>0.08</td>\n",
              "      <td>0.14</td>\n",
              "      <td>0.77</td>\n",
              "      <td>0.000000</td>\n",
              "    </tr>\n",
              "    <tr>\n",
              "      <th>3</th>\n",
              "      <td>600010 CH</td>\n",
              "      <td>600010 CH Equity</td>\n",
              "      <td>China</td>\n",
              "      <td>2010</td>\n",
              "      <td>1.0</td>\n",
              "      <td>0.0</td>\n",
              "      <td>1.0</td>\n",
              "      <td>1.0</td>\n",
              "      <td>0.0</td>\n",
              "      <td>0.0</td>\n",
              "      <td>0.0</td>\n",
              "      <td>0.0</td>\n",
              "      <td>0.0</td>\n",
              "      <td>0.0</td>\n",
              "      <td>1.0</td>\n",
              "      <td>1.0</td>\n",
              "      <td>0.0</td>\n",
              "      <td>5.0</td>\n",
              "      <td>10.65</td>\n",
              "      <td>-0.05</td>\n",
              "      <td>0.05</td>\n",
              "      <td>0.39</td>\n",
              "      <td>0.49</td>\n",
              "      <td>0.000000</td>\n",
              "    </tr>\n",
              "    <tr>\n",
              "      <th>4</th>\n",
              "      <td>600015 CH</td>\n",
              "      <td>600015 CH Equity</td>\n",
              "      <td>China</td>\n",
              "      <td>2010</td>\n",
              "      <td>1.0</td>\n",
              "      <td>0.0</td>\n",
              "      <td>1.0</td>\n",
              "      <td>1.0</td>\n",
              "      <td>0.0</td>\n",
              "      <td>0.0</td>\n",
              "      <td>0.0</td>\n",
              "      <td>0.0</td>\n",
              "      <td>0.0</td>\n",
              "      <td>0.0</td>\n",
              "      <td>1.0</td>\n",
              "      <td>1.0</td>\n",
              "      <td>0.0</td>\n",
              "      <td>5.0</td>\n",
              "      <td>13.85</td>\n",
              "      <td>0.00</td>\n",
              "      <td>0.14</td>\n",
              "      <td>0.21</td>\n",
              "      <td>0.01</td>\n",
              "      <td>0.012268</td>\n",
              "    </tr>\n",
              "    <tr>\n",
              "      <th>...</th>\n",
              "      <td>...</td>\n",
              "      <td>...</td>\n",
              "      <td>...</td>\n",
              "      <td>...</td>\n",
              "      <td>...</td>\n",
              "      <td>...</td>\n",
              "      <td>...</td>\n",
              "      <td>...</td>\n",
              "      <td>...</td>\n",
              "      <td>...</td>\n",
              "      <td>...</td>\n",
              "      <td>...</td>\n",
              "      <td>...</td>\n",
              "      <td>...</td>\n",
              "      <td>...</td>\n",
              "      <td>...</td>\n",
              "      <td>...</td>\n",
              "      <td>...</td>\n",
              "      <td>...</td>\n",
              "      <td>...</td>\n",
              "      <td>...</td>\n",
              "      <td>...</td>\n",
              "      <td>...</td>\n",
              "      <td>...</td>\n",
              "    </tr>\n",
              "    <tr>\n",
              "      <th>5003</th>\n",
              "      <td>UNIQ TB</td>\n",
              "      <td>UNIQ TB Equity</td>\n",
              "      <td>Thailand</td>\n",
              "      <td>2017</td>\n",
              "      <td>1.0</td>\n",
              "      <td>0.0</td>\n",
              "      <td>0.0</td>\n",
              "      <td>0.0</td>\n",
              "      <td>0.0</td>\n",
              "      <td>0.0</td>\n",
              "      <td>0.0</td>\n",
              "      <td>0.0</td>\n",
              "      <td>0.0</td>\n",
              "      <td>0.0</td>\n",
              "      <td>0.0</td>\n",
              "      <td>0.0</td>\n",
              "      <td>0.0</td>\n",
              "      <td>1.0</td>\n",
              "      <td>10.22</td>\n",
              "      <td>-0.02</td>\n",
              "      <td>0.01</td>\n",
              "      <td>0.29</td>\n",
              "      <td>0.20</td>\n",
              "      <td>0.000000</td>\n",
              "    </tr>\n",
              "    <tr>\n",
              "      <th>5004</th>\n",
              "      <td>UV TB</td>\n",
              "      <td>UV TB Equity</td>\n",
              "      <td>Thailand</td>\n",
              "      <td>2017</td>\n",
              "      <td>1.0</td>\n",
              "      <td>0.0</td>\n",
              "      <td>0.0</td>\n",
              "      <td>0.0</td>\n",
              "      <td>0.0</td>\n",
              "      <td>0.0</td>\n",
              "      <td>0.0</td>\n",
              "      <td>0.0</td>\n",
              "      <td>0.0</td>\n",
              "      <td>0.0</td>\n",
              "      <td>0.0</td>\n",
              "      <td>0.0</td>\n",
              "      <td>0.0</td>\n",
              "      <td>1.0</td>\n",
              "      <td>10.64</td>\n",
              "      <td>-0.01</td>\n",
              "      <td>0.04</td>\n",
              "      <td>0.46</td>\n",
              "      <td>0.31</td>\n",
              "      <td>0.000000</td>\n",
              "    </tr>\n",
              "    <tr>\n",
              "      <th>5005</th>\n",
              "      <td>WHA TB</td>\n",
              "      <td>WHA TB Equity</td>\n",
              "      <td>Thailand</td>\n",
              "      <td>2017</td>\n",
              "      <td>1.0</td>\n",
              "      <td>0.0</td>\n",
              "      <td>0.0</td>\n",
              "      <td>0.0</td>\n",
              "      <td>0.0</td>\n",
              "      <td>0.0</td>\n",
              "      <td>0.0</td>\n",
              "      <td>0.0</td>\n",
              "      <td>0.0</td>\n",
              "      <td>0.0</td>\n",
              "      <td>0.0</td>\n",
              "      <td>0.0</td>\n",
              "      <td>0.0</td>\n",
              "      <td>1.0</td>\n",
              "      <td>11.21</td>\n",
              "      <td>-0.02</td>\n",
              "      <td>0.03</td>\n",
              "      <td>0.47</td>\n",
              "      <td>0.19</td>\n",
              "      <td>0.000000</td>\n",
              "    </tr>\n",
              "    <tr>\n",
              "      <th>5006</th>\n",
              "      <td>WHAUP TB</td>\n",
              "      <td>WHAUP TB Equity</td>\n",
              "      <td>Thailand</td>\n",
              "      <td>2017</td>\n",
              "      <td>1.0</td>\n",
              "      <td>0.0</td>\n",
              "      <td>0.0</td>\n",
              "      <td>0.0</td>\n",
              "      <td>0.0</td>\n",
              "      <td>0.0</td>\n",
              "      <td>0.0</td>\n",
              "      <td>0.0</td>\n",
              "      <td>0.0</td>\n",
              "      <td>0.0</td>\n",
              "      <td>0.0</td>\n",
              "      <td>0.0</td>\n",
              "      <td>0.0</td>\n",
              "      <td>1.0</td>\n",
              "      <td>9.97</td>\n",
              "      <td>-0.02</td>\n",
              "      <td>0.03</td>\n",
              "      <td>0.18</td>\n",
              "      <td>0.14</td>\n",
              "      <td>0.000000</td>\n",
              "    </tr>\n",
              "    <tr>\n",
              "      <th>5007</th>\n",
              "      <td>WORK TB</td>\n",
              "      <td>WORK TB Equity</td>\n",
              "      <td>Thailand</td>\n",
              "      <td>2017</td>\n",
              "      <td>1.0</td>\n",
              "      <td>0.0</td>\n",
              "      <td>0.0</td>\n",
              "      <td>0.0</td>\n",
              "      <td>0.0</td>\n",
              "      <td>0.0</td>\n",
              "      <td>0.0</td>\n",
              "      <td>0.0</td>\n",
              "      <td>0.0</td>\n",
              "      <td>0.0</td>\n",
              "      <td>0.0</td>\n",
              "      <td>0.0</td>\n",
              "      <td>0.0</td>\n",
              "      <td>1.0</td>\n",
              "      <td>8.77</td>\n",
              "      <td>-0.08</td>\n",
              "      <td>0.21</td>\n",
              "      <td>0.07</td>\n",
              "      <td>0.17</td>\n",
              "      <td>0.000000</td>\n",
              "    </tr>\n",
              "  </tbody>\n",
              "</table>\n",
              "<p>4864 rows × 24 columns</p>\n",
              "</div>"
            ],
            "text/plain": [
              "      Ticker_Id      Indx_Members  ... PPNEByAsset  RNDByAsset\n",
              "0     600000 CH  600000 CH Equity  ...        0.00    0.012268\n",
              "1     600008 CH  600008 CH Equity  ...        0.28    0.000000\n",
              "2     600009 CH  600009 CH Equity  ...        0.77    0.000000\n",
              "3     600010 CH  600010 CH Equity  ...        0.49    0.000000\n",
              "4     600015 CH  600015 CH Equity  ...        0.01    0.012268\n",
              "...         ...               ...  ...         ...         ...\n",
              "5003    UNIQ TB    UNIQ TB Equity  ...        0.20    0.000000\n",
              "5004      UV TB      UV TB Equity  ...        0.31    0.000000\n",
              "5005     WHA TB     WHA TB Equity  ...        0.19    0.000000\n",
              "5006   WHAUP TB   WHAUP TB Equity  ...        0.14    0.000000\n",
              "5007    WORK TB    WORK TB Equity  ...        0.17    0.000000\n",
              "\n",
              "[4864 rows x 24 columns]"
            ]
          },
          "metadata": {
            "tags": []
          },
          "execution_count": 66
        }
      ]
    },
    {
      "cell_type": "code",
      "metadata": {
        "id": "ProLey8iRuTM"
      },
      "source": [
        ""
      ],
      "execution_count": 66,
      "outputs": []
    },
    {
      "cell_type": "code",
      "metadata": {
        "colab": {
          "base_uri": "https://localhost:8080/"
        },
        "id": "ZbgqEk7DRuhp",
        "outputId": "60fe8537-6988-4812-b492-ad5c566862dc"
      },
      "source": [
        "df2.isnull().sum()"
      ],
      "execution_count": 67,
      "outputs": [
        {
          "output_type": "execute_result",
          "data": {
            "text/plain": [
              "Ticker_Id                                            0\n",
              "Indx_Members                                         0\n",
              "Country                                              0\n",
              "Year                                                 0\n",
              "Board size                                           0\n",
              "Board independence                                   0\n",
              "CEO duality                                          0\n",
              "Board meeting attendance                             0\n",
              "Independence of audit committee                      0\n",
              "Auditor ratification                                 0\n",
              "Independence of compensation committee               0\n",
              "Independence of nomination committee                 0\n",
              "Shareholder approved poison pill                     0\n",
              "Dual class unequal voting rights of common shares    0\n",
              "Staggered board                                      0\n",
              "Diversity of board                                   0\n",
              "Board duration                                       0\n",
              "Corporate governance score                           0\n",
              "LogAsset                                             0\n",
              "CAPEXByAsset                                         0\n",
              "CashByAsset                                          0\n",
              "DebtByAsset                                          0\n",
              "PPNEByAsset                                          0\n",
              "RNDByAsset                                           0\n",
              "dtype: int64"
            ]
          },
          "metadata": {
            "tags": []
          },
          "execution_count": 67
        }
      ]
    },
    {
      "cell_type": "code",
      "metadata": {
        "id": "Ie20sMsXOi3P"
      },
      "source": [
        "\n"
      ],
      "execution_count": 67,
      "outputs": []
    },
    {
      "cell_type": "markdown",
      "metadata": {
        "id": "YVOkWYdUIHfq"
      },
      "source": [
        "# Histograms"
      ]
    },
    {
      "cell_type": "markdown",
      "metadata": {
        "id": "w8RWIQ50JFcY"
      },
      "source": [
        "corporate governance vairables are coded as binary - 0, 1;\n",
        "finanical variables are continuous"
      ]
    },
    {
      "cell_type": "code",
      "metadata": {
        "colab": {
          "base_uri": "https://localhost:8080/",
          "height": 1000
        },
        "id": "1J9HRBrOP_Ia",
        "outputId": "d9f6ff55-153b-4906-ef0d-88df66a4b355"
      },
      "source": [
        "# Board Size: size<=5 is 1, 0 otherwise; most boards (over 4000 of 4864) have fewer than 5 members\n",
        "# board independence: >50% indep =1, 0 otherwise; majority less than 50% independent\n",
        "# ceo duality (combined chair/ceo): not combined = 1, 0 otherwise; about half have combined chair/ceo\n",
        "# Board meeting attendance: attend >=2/3 =1; 0 otherwise. little more than half not attend >2/3 meetings\n",
        "# Indep audit committee: >50% indep = 1; 0 otherwise. majority not have audit comm > 50% indep\n",
        "# auditor ratification: shareholders allowed to ratify auditors = 1; 0 otherwise. overwhelming majority not allow ratif.\n",
        "# independence Compensation committee: >3 indep member = 1, 0 otherwise. Overwhelming majority not have >3 indep comp comm members\n",
        "# independence nominating committee: >50% indep = 1, 0 otherwise. most not have >50% indep comm members\n",
        "# allow shareholder approval of poison pill: yes = 1, 0 otherwise. almost no firms allow shareholder vote on pill\n",
        "# dual class unequal voting rights: no, not have = 1, 0 otherwise. almost half of firms not have it in place \n",
        "# staggered/classified board: not have = 1, 0 otherwise. most have classified boards\n",
        "# board diversity: >=1 women on board = 1, 0 otherwise.  most have no women on board\n",
        "# board duration: on  the board < 9 years = 1, 0 otherwise. almost half on board < 9 years\n",
        "\n",
        "\n",
        "df2.hist(figsize=(14,12))\n"
      ],
      "execution_count": 68,
      "outputs": [
        {
          "output_type": "execute_result",
          "data": {
            "text/plain": [
              "array([[<matplotlib.axes._subplots.AxesSubplot object at 0x7fb1997bc3d0>,\n",
              "        <matplotlib.axes._subplots.AxesSubplot object at 0x7fb199763c10>,\n",
              "        <matplotlib.axes._subplots.AxesSubplot object at 0x7fb199729690>,\n",
              "        <matplotlib.axes._subplots.AxesSubplot object at 0x7fb1996dfd10>,\n",
              "        <matplotlib.axes._subplots.AxesSubplot object at 0x7fb1996a23d0>],\n",
              "       [<matplotlib.axes._subplots.AxesSubplot object at 0x7fb199658a50>,\n",
              "        <matplotlib.axes._subplots.AxesSubplot object at 0x7fb19961a110>,\n",
              "        <matplotlib.axes._subplots.AxesSubplot object at 0x7fb1995ce790>,\n",
              "        <matplotlib.axes._subplots.AxesSubplot object at 0x7fb1995d8850>,\n",
              "        <matplotlib.axes._subplots.AxesSubplot object at 0x7fb199595650>],\n",
              "       [<matplotlib.axes._subplots.AxesSubplot object at 0x7fb199576f50>,\n",
              "        <matplotlib.axes._subplots.AxesSubplot object at 0x7fb199539510>,\n",
              "        <matplotlib.axes._subplots.AxesSubplot object at 0x7fb1994eda90>,\n",
              "        <matplotlib.axes._subplots.AxesSubplot object at 0x7fb1994ae050>,\n",
              "        <matplotlib.axes._subplots.AxesSubplot object at 0x7fb1994645d0>],\n",
              "       [<matplotlib.axes._subplots.AxesSubplot object at 0x7fb19941ab50>,\n",
              "        <matplotlib.axes._subplots.AxesSubplot object at 0x7fb1993db110>,\n",
              "        <matplotlib.axes._subplots.AxesSubplot object at 0x7fb199391690>,\n",
              "        <matplotlib.axes._subplots.AxesSubplot object at 0x7fb1993c4c10>,\n",
              "        <matplotlib.axes._subplots.AxesSubplot object at 0x7fb1993881d0>],\n",
              "       [<matplotlib.axes._subplots.AxesSubplot object at 0x7fb19933d750>,\n",
              "        <matplotlib.axes._subplots.AxesSubplot object at 0x7fb1992f3cd0>,\n",
              "        <matplotlib.axes._subplots.AxesSubplot object at 0x7fb1992b5290>,\n",
              "        <matplotlib.axes._subplots.AxesSubplot object at 0x7fb19926c810>,\n",
              "        <matplotlib.axes._subplots.AxesSubplot object at 0x7fb19921fd90>]],\n",
              "      dtype=object)"
            ]
          },
          "metadata": {
            "tags": []
          },
          "execution_count": 68
        },
        {
          "output_type": "display_data",
          "data": {
            "image/png": "[encoded data removed]",
            "text/plain": [
              "<Figure size 1008x864 with 25 Axes>"
            ]
          },
          "metadata": {
            "tags": [],
            "needs_background": "light"
          }
        }
      ]
    },
    {
      "cell_type": "code",
      "metadata": {
        "id": "_6tGA7YEaJYn"
      },
      "source": [
        ""
      ],
      "execution_count": 68,
      "outputs": []
    },
    {
      "cell_type": "markdown",
      "metadata": {
        "id": "F2PiE5SMaVcw"
      },
      "source": [
        "# Correlations"
      ]
    },
    {
      "cell_type": "markdown",
      "metadata": {
        "id": "uSRBBbesaef0"
      },
      "source": [
        "### correlations not strong for corporate governance scores with financial vairables.  \n",
        "\n",
        "\n",
        "\n"
      ]
    },
    {
      "cell_type": "code",
      "metadata": {
        "colab": {
          "base_uri": "https://localhost:8080/",
          "height": 1000
        },
        "id": "Iquh2XKVMugB",
        "outputId": "e5bc3cc3-4d45-42c7-a544-ec3f5f969000"
      },
      "source": [
        "\n",
        "df2.corr()\n"
      ],
      "execution_count": 69,
      "outputs": [
        {
          "output_type": "execute_result",
          "data": {
            "text/html": [
              "<div>\n",
              "<style scoped>\n",
              "    .dataframe tbody tr th:only-of-type {\n",
              "        vertical-align: middle;\n",
              "    }\n",
              "\n",
              "    .dataframe tbody tr th {\n",
              "        vertical-align: top;\n",
              "    }\n",
              "\n",
              "    .dataframe thead th {\n",
              "        text-align: right;\n",
              "    }\n",
              "</style>\n",
              "<table border=\"1\" class=\"dataframe\">\n",
              "  <thead>\n",
              "    <tr style=\"text-align: right;\">\n",
              "      <th></th>\n",
              "      <th>Year</th>\n",
              "      <th>Board size</th>\n",
              "      <th>Board independence</th>\n",
              "      <th>CEO duality</th>\n",
              "      <th>Board meeting attendance</th>\n",
              "      <th>Independence of audit committee</th>\n",
              "      <th>Auditor ratification</th>\n",
              "      <th>Independence of compensation committee</th>\n",
              "      <th>Independence of nomination committee</th>\n",
              "      <th>Shareholder approved poison pill</th>\n",
              "      <th>Dual class unequal voting rights of common shares</th>\n",
              "      <th>Staggered board</th>\n",
              "      <th>Diversity of board</th>\n",
              "      <th>Board duration</th>\n",
              "      <th>Corporate governance score</th>\n",
              "      <th>LogAsset</th>\n",
              "      <th>CAPEXByAsset</th>\n",
              "      <th>CashByAsset</th>\n",
              "      <th>DebtByAsset</th>\n",
              "      <th>PPNEByAsset</th>\n",
              "      <th>RNDByAsset</th>\n",
              "    </tr>\n",
              "  </thead>\n",
              "  <tbody>\n",
              "    <tr>\n",
              "      <th>Year</th>\n",
              "      <td>1.000000</td>\n",
              "      <td>0.014527</td>\n",
              "      <td>0.162619</td>\n",
              "      <td>0.008793</td>\n",
              "      <td>0.030915</td>\n",
              "      <td>0.041455</td>\n",
              "      <td>0.117670</td>\n",
              "      <td>0.064225</td>\n",
              "      <td>0.227770</td>\n",
              "      <td>-0.024436</td>\n",
              "      <td>0.065050</td>\n",
              "      <td>0.029258</td>\n",
              "      <td>0.120992</td>\n",
              "      <td>0.024817</td>\n",
              "      <td>0.122168</td>\n",
              "      <td>0.080109</td>\n",
              "      <td>0.060709</td>\n",
              "      <td>-0.055437</td>\n",
              "      <td>0.009665</td>\n",
              "      <td>-0.025065</td>\n",
              "      <td>-0.002719</td>\n",
              "    </tr>\n",
              "    <tr>\n",
              "      <th>Board size</th>\n",
              "      <td>0.014527</td>\n",
              "      <td>1.000000</td>\n",
              "      <td>-0.067132</td>\n",
              "      <td>-0.066252</td>\n",
              "      <td>-0.011865</td>\n",
              "      <td>0.062625</td>\n",
              "      <td>0.031156</td>\n",
              "      <td>0.042855</td>\n",
              "      <td>0.045747</td>\n",
              "      <td>-0.034874</td>\n",
              "      <td>-0.086802</td>\n",
              "      <td>-0.024122</td>\n",
              "      <td>-0.003706</td>\n",
              "      <td>-0.030292</td>\n",
              "      <td>0.007295</td>\n",
              "      <td>-0.082402</td>\n",
              "      <td>0.025608</td>\n",
              "      <td>-0.000460</td>\n",
              "      <td>0.031421</td>\n",
              "      <td>-0.028007</td>\n",
              "      <td>0.040992</td>\n",
              "    </tr>\n",
              "    <tr>\n",
              "      <th>Board independence</th>\n",
              "      <td>0.162619</td>\n",
              "      <td>-0.067132</td>\n",
              "      <td>1.000000</td>\n",
              "      <td>0.463574</td>\n",
              "      <td>0.634512</td>\n",
              "      <td>0.662629</td>\n",
              "      <td>0.319694</td>\n",
              "      <td>0.388639</td>\n",
              "      <td>0.504477</td>\n",
              "      <td>-0.061666</td>\n",
              "      <td>0.437466</td>\n",
              "      <td>-0.015468</td>\n",
              "      <td>0.390931</td>\n",
              "      <td>0.374171</td>\n",
              "      <td>0.739149</td>\n",
              "      <td>0.088426</td>\n",
              "      <td>-0.090800</td>\n",
              "      <td>-0.068115</td>\n",
              "      <td>-0.025980</td>\n",
              "      <td>-0.041891</td>\n",
              "      <td>-0.037912</td>\n",
              "    </tr>\n",
              "    <tr>\n",
              "      <th>CEO duality</th>\n",
              "      <td>0.008793</td>\n",
              "      <td>-0.066252</td>\n",
              "      <td>0.463574</td>\n",
              "      <td>1.000000</td>\n",
              "      <td>0.602281</td>\n",
              "      <td>0.361175</td>\n",
              "      <td>0.200272</td>\n",
              "      <td>0.245337</td>\n",
              "      <td>0.291788</td>\n",
              "      <td>0.037900</td>\n",
              "      <td>0.296690</td>\n",
              "      <td>0.423222</td>\n",
              "      <td>0.457726</td>\n",
              "      <td>0.424204</td>\n",
              "      <td>0.699281</td>\n",
              "      <td>-0.003560</td>\n",
              "      <td>-0.215869</td>\n",
              "      <td>0.049540</td>\n",
              "      <td>0.025412</td>\n",
              "      <td>-0.026454</td>\n",
              "      <td>-0.050628</td>\n",
              "    </tr>\n",
              "    <tr>\n",
              "      <th>Board meeting attendance</th>\n",
              "      <td>0.030915</td>\n",
              "      <td>-0.011865</td>\n",
              "      <td>0.634512</td>\n",
              "      <td>0.602281</td>\n",
              "      <td>1.000000</td>\n",
              "      <td>0.552043</td>\n",
              "      <td>0.321233</td>\n",
              "      <td>0.357773</td>\n",
              "      <td>0.361271</td>\n",
              "      <td>-0.101436</td>\n",
              "      <td>0.191191</td>\n",
              "      <td>0.227156</td>\n",
              "      <td>0.482259</td>\n",
              "      <td>0.338759</td>\n",
              "      <td>0.728209</td>\n",
              "      <td>-0.193078</td>\n",
              "      <td>-0.256713</td>\n",
              "      <td>0.092364</td>\n",
              "      <td>0.007769</td>\n",
              "      <td>-0.043547</td>\n",
              "      <td>-0.116225</td>\n",
              "    </tr>\n",
              "    <tr>\n",
              "      <th>Independence of audit committee</th>\n",
              "      <td>0.041455</td>\n",
              "      <td>0.062625</td>\n",
              "      <td>0.662629</td>\n",
              "      <td>0.361175</td>\n",
              "      <td>0.552043</td>\n",
              "      <td>1.000000</td>\n",
              "      <td>0.386553</td>\n",
              "      <td>0.576762</td>\n",
              "      <td>0.718749</td>\n",
              "      <td>-0.043437</td>\n",
              "      <td>0.467554</td>\n",
              "      <td>-0.128083</td>\n",
              "      <td>0.356008</td>\n",
              "      <td>0.398836</td>\n",
              "      <td>0.758888</td>\n",
              "      <td>0.050158</td>\n",
              "      <td>-0.087886</td>\n",
              "      <td>-0.095224</td>\n",
              "      <td>0.005744</td>\n",
              "      <td>-0.034477</td>\n",
              "      <td>-0.049242</td>\n",
              "    </tr>\n",
              "    <tr>\n",
              "      <th>Auditor ratification</th>\n",
              "      <td>0.117670</td>\n",
              "      <td>0.031156</td>\n",
              "      <td>0.319694</td>\n",
              "      <td>0.200272</td>\n",
              "      <td>0.321233</td>\n",
              "      <td>0.386553</td>\n",
              "      <td>1.000000</td>\n",
              "      <td>0.263676</td>\n",
              "      <td>0.353504</td>\n",
              "      <td>-0.044017</td>\n",
              "      <td>0.142381</td>\n",
              "      <td>-0.000493</td>\n",
              "      <td>0.223600</td>\n",
              "      <td>0.137029</td>\n",
              "      <td>0.431329</td>\n",
              "      <td>-0.013914</td>\n",
              "      <td>-0.107941</td>\n",
              "      <td>-0.053670</td>\n",
              "      <td>-0.003863</td>\n",
              "      <td>0.036448</td>\n",
              "      <td>-0.057795</td>\n",
              "    </tr>\n",
              "    <tr>\n",
              "      <th>Independence of compensation committee</th>\n",
              "      <td>0.064225</td>\n",
              "      <td>0.042855</td>\n",
              "      <td>0.388639</td>\n",
              "      <td>0.245337</td>\n",
              "      <td>0.357773</td>\n",
              "      <td>0.576762</td>\n",
              "      <td>0.263676</td>\n",
              "      <td>1.000000</td>\n",
              "      <td>0.579790</td>\n",
              "      <td>0.008643</td>\n",
              "      <td>0.299962</td>\n",
              "      <td>0.025632</td>\n",
              "      <td>0.328578</td>\n",
              "      <td>0.295444</td>\n",
              "      <td>0.608276</td>\n",
              "      <td>0.078742</td>\n",
              "      <td>-0.052135</td>\n",
              "      <td>-0.049662</td>\n",
              "      <td>-0.019578</td>\n",
              "      <td>-0.144328</td>\n",
              "      <td>-0.018345</td>\n",
              "    </tr>\n",
              "    <tr>\n",
              "      <th>Independence of nomination committee</th>\n",
              "      <td>0.227770</td>\n",
              "      <td>0.045747</td>\n",
              "      <td>0.504477</td>\n",
              "      <td>0.291788</td>\n",
              "      <td>0.361271</td>\n",
              "      <td>0.718749</td>\n",
              "      <td>0.353504</td>\n",
              "      <td>0.579790</td>\n",
              "      <td>1.000000</td>\n",
              "      <td>-0.006259</td>\n",
              "      <td>0.405810</td>\n",
              "      <td>-0.016361</td>\n",
              "      <td>0.349975</td>\n",
              "      <td>0.377986</td>\n",
              "      <td>0.694021</td>\n",
              "      <td>0.171565</td>\n",
              "      <td>0.029633</td>\n",
              "      <td>-0.105794</td>\n",
              "      <td>0.004462</td>\n",
              "      <td>-0.098011</td>\n",
              "      <td>0.022391</td>\n",
              "    </tr>\n",
              "    <tr>\n",
              "      <th>Shareholder approved poison pill</th>\n",
              "      <td>-0.024436</td>\n",
              "      <td>-0.034874</td>\n",
              "      <td>-0.061666</td>\n",
              "      <td>0.037900</td>\n",
              "      <td>-0.101436</td>\n",
              "      <td>-0.043437</td>\n",
              "      <td>-0.044017</td>\n",
              "      <td>0.008643</td>\n",
              "      <td>-0.006259</td>\n",
              "      <td>1.000000</td>\n",
              "      <td>0.143895</td>\n",
              "      <td>0.158377</td>\n",
              "      <td>-0.028723</td>\n",
              "      <td>0.127924</td>\n",
              "      <td>0.072181</td>\n",
              "      <td>0.071969</td>\n",
              "      <td>-0.036781</td>\n",
              "      <td>-0.046172</td>\n",
              "      <td>0.017925</td>\n",
              "      <td>0.062404</td>\n",
              "      <td>0.076539</td>\n",
              "    </tr>\n",
              "    <tr>\n",
              "      <th>Dual class unequal voting rights of common shares</th>\n",
              "      <td>0.065050</td>\n",
              "      <td>-0.086802</td>\n",
              "      <td>0.437466</td>\n",
              "      <td>0.296690</td>\n",
              "      <td>0.191191</td>\n",
              "      <td>0.467554</td>\n",
              "      <td>0.142381</td>\n",
              "      <td>0.299962</td>\n",
              "      <td>0.405810</td>\n",
              "      <td>0.143895</td>\n",
              "      <td>1.000000</td>\n",
              "      <td>0.016658</td>\n",
              "      <td>0.252054</td>\n",
              "      <td>0.601017</td>\n",
              "      <td>0.604372</td>\n",
              "      <td>0.362157</td>\n",
              "      <td>-0.130738</td>\n",
              "      <td>-0.132908</td>\n",
              "      <td>-0.071598</td>\n",
              "      <td>0.009991</td>\n",
              "      <td>0.087026</td>\n",
              "    </tr>\n",
              "    <tr>\n",
              "      <th>Staggered board</th>\n",
              "      <td>0.029258</td>\n",
              "      <td>-0.024122</td>\n",
              "      <td>-0.015468</td>\n",
              "      <td>0.423222</td>\n",
              "      <td>0.227156</td>\n",
              "      <td>-0.128083</td>\n",
              "      <td>-0.000493</td>\n",
              "      <td>0.025632</td>\n",
              "      <td>-0.016361</td>\n",
              "      <td>0.158377</td>\n",
              "      <td>0.016658</td>\n",
              "      <td>1.000000</td>\n",
              "      <td>0.240196</td>\n",
              "      <td>0.422080</td>\n",
              "      <td>0.338213</td>\n",
              "      <td>-0.011130</td>\n",
              "      <td>-0.156632</td>\n",
              "      <td>0.251863</td>\n",
              "      <td>-0.028042</td>\n",
              "      <td>-0.056115</td>\n",
              "      <td>0.082570</td>\n",
              "    </tr>\n",
              "    <tr>\n",
              "      <th>Diversity of board</th>\n",
              "      <td>0.120992</td>\n",
              "      <td>-0.003706</td>\n",
              "      <td>0.390931</td>\n",
              "      <td>0.457726</td>\n",
              "      <td>0.482259</td>\n",
              "      <td>0.356008</td>\n",
              "      <td>0.223600</td>\n",
              "      <td>0.328578</td>\n",
              "      <td>0.349975</td>\n",
              "      <td>-0.028723</td>\n",
              "      <td>0.252054</td>\n",
              "      <td>0.240196</td>\n",
              "      <td>1.000000</td>\n",
              "      <td>0.341121</td>\n",
              "      <td>0.638123</td>\n",
              "      <td>-0.039621</td>\n",
              "      <td>-0.147176</td>\n",
              "      <td>0.040633</td>\n",
              "      <td>-0.009194</td>\n",
              "      <td>-0.073313</td>\n",
              "      <td>-0.029872</td>\n",
              "    </tr>\n",
              "    <tr>\n",
              "      <th>Board duration</th>\n",
              "      <td>0.024817</td>\n",
              "      <td>-0.030292</td>\n",
              "      <td>0.374171</td>\n",
              "      <td>0.424204</td>\n",
              "      <td>0.338759</td>\n",
              "      <td>0.398836</td>\n",
              "      <td>0.137029</td>\n",
              "      <td>0.295444</td>\n",
              "      <td>0.377986</td>\n",
              "      <td>0.127924</td>\n",
              "      <td>0.601017</td>\n",
              "      <td>0.422080</td>\n",
              "      <td>0.341121</td>\n",
              "      <td>1.000000</td>\n",
              "      <td>0.697064</td>\n",
              "      <td>0.140762</td>\n",
              "      <td>-0.149540</td>\n",
              "      <td>0.027795</td>\n",
              "      <td>-0.056927</td>\n",
              "      <td>-0.025168</td>\n",
              "      <td>0.089284</td>\n",
              "    </tr>\n",
              "    <tr>\n",
              "      <th>Corporate governance score</th>\n",
              "      <td>0.122168</td>\n",
              "      <td>0.007295</td>\n",
              "      <td>0.739149</td>\n",
              "      <td>0.699281</td>\n",
              "      <td>0.728209</td>\n",
              "      <td>0.758888</td>\n",
              "      <td>0.431329</td>\n",
              "      <td>0.608276</td>\n",
              "      <td>0.694021</td>\n",
              "      <td>0.072181</td>\n",
              "      <td>0.604372</td>\n",
              "      <td>0.338213</td>\n",
              "      <td>0.638123</td>\n",
              "      <td>0.697064</td>\n",
              "      <td>1.000000</td>\n",
              "      <td>0.092847</td>\n",
              "      <td>-0.200297</td>\n",
              "      <td>-0.002310</td>\n",
              "      <td>-0.023743</td>\n",
              "      <td>-0.069977</td>\n",
              "      <td>-0.003590</td>\n",
              "    </tr>\n",
              "    <tr>\n",
              "      <th>LogAsset</th>\n",
              "      <td>0.080109</td>\n",
              "      <td>-0.082402</td>\n",
              "      <td>0.088426</td>\n",
              "      <td>-0.003560</td>\n",
              "      <td>-0.193078</td>\n",
              "      <td>0.050158</td>\n",
              "      <td>-0.013914</td>\n",
              "      <td>0.078742</td>\n",
              "      <td>0.171565</td>\n",
              "      <td>0.071969</td>\n",
              "      <td>0.362157</td>\n",
              "      <td>-0.011130</td>\n",
              "      <td>-0.039621</td>\n",
              "      <td>0.140762</td>\n",
              "      <td>0.092847</td>\n",
              "      <td>1.000000</td>\n",
              "      <td>0.386234</td>\n",
              "      <td>-0.223211</td>\n",
              "      <td>-0.030664</td>\n",
              "      <td>-0.134371</td>\n",
              "      <td>0.120990</td>\n",
              "    </tr>\n",
              "    <tr>\n",
              "      <th>CAPEXByAsset</th>\n",
              "      <td>0.060709</td>\n",
              "      <td>0.025608</td>\n",
              "      <td>-0.090800</td>\n",
              "      <td>-0.215869</td>\n",
              "      <td>-0.256713</td>\n",
              "      <td>-0.087886</td>\n",
              "      <td>-0.107941</td>\n",
              "      <td>-0.052135</td>\n",
              "      <td>0.029633</td>\n",
              "      <td>-0.036781</td>\n",
              "      <td>-0.130738</td>\n",
              "      <td>-0.156632</td>\n",
              "      <td>-0.147176</td>\n",
              "      <td>-0.149540</td>\n",
              "      <td>-0.200297</td>\n",
              "      <td>0.386234</td>\n",
              "      <td>1.000000</td>\n",
              "      <td>0.015496</td>\n",
              "      <td>-0.120947</td>\n",
              "      <td>-0.384305</td>\n",
              "      <td>0.209983</td>\n",
              "    </tr>\n",
              "    <tr>\n",
              "      <th>CashByAsset</th>\n",
              "      <td>-0.055437</td>\n",
              "      <td>-0.000460</td>\n",
              "      <td>-0.068115</td>\n",
              "      <td>0.049540</td>\n",
              "      <td>0.092364</td>\n",
              "      <td>-0.095224</td>\n",
              "      <td>-0.053670</td>\n",
              "      <td>-0.049662</td>\n",
              "      <td>-0.105794</td>\n",
              "      <td>-0.046172</td>\n",
              "      <td>-0.132908</td>\n",
              "      <td>0.251863</td>\n",
              "      <td>0.040633</td>\n",
              "      <td>0.027795</td>\n",
              "      <td>-0.002310</td>\n",
              "      <td>-0.223211</td>\n",
              "      <td>0.015496</td>\n",
              "      <td>1.000000</td>\n",
              "      <td>-0.302834</td>\n",
              "      <td>-0.240669</td>\n",
              "      <td>0.035188</td>\n",
              "    </tr>\n",
              "    <tr>\n",
              "      <th>DebtByAsset</th>\n",
              "      <td>0.009665</td>\n",
              "      <td>0.031421</td>\n",
              "      <td>-0.025980</td>\n",
              "      <td>0.025412</td>\n",
              "      <td>0.007769</td>\n",
              "      <td>0.005744</td>\n",
              "      <td>-0.003863</td>\n",
              "      <td>-0.019578</td>\n",
              "      <td>0.004462</td>\n",
              "      <td>0.017925</td>\n",
              "      <td>-0.071598</td>\n",
              "      <td>-0.028042</td>\n",
              "      <td>-0.009194</td>\n",
              "      <td>-0.056927</td>\n",
              "      <td>-0.023743</td>\n",
              "      <td>-0.030664</td>\n",
              "      <td>-0.120947</td>\n",
              "      <td>-0.302834</td>\n",
              "      <td>1.000000</td>\n",
              "      <td>0.201336</td>\n",
              "      <td>-0.169004</td>\n",
              "    </tr>\n",
              "    <tr>\n",
              "      <th>PPNEByAsset</th>\n",
              "      <td>-0.025065</td>\n",
              "      <td>-0.028007</td>\n",
              "      <td>-0.041891</td>\n",
              "      <td>-0.026454</td>\n",
              "      <td>-0.043547</td>\n",
              "      <td>-0.034477</td>\n",
              "      <td>0.036448</td>\n",
              "      <td>-0.144328</td>\n",
              "      <td>-0.098011</td>\n",
              "      <td>0.062404</td>\n",
              "      <td>0.009991</td>\n",
              "      <td>-0.056115</td>\n",
              "      <td>-0.073313</td>\n",
              "      <td>-0.025168</td>\n",
              "      <td>-0.069977</td>\n",
              "      <td>-0.134371</td>\n",
              "      <td>-0.384305</td>\n",
              "      <td>-0.240669</td>\n",
              "      <td>0.201336</td>\n",
              "      <td>1.000000</td>\n",
              "      <td>-0.123978</td>\n",
              "    </tr>\n",
              "    <tr>\n",
              "      <th>RNDByAsset</th>\n",
              "      <td>-0.002719</td>\n",
              "      <td>0.040992</td>\n",
              "      <td>-0.037912</td>\n",
              "      <td>-0.050628</td>\n",
              "      <td>-0.116225</td>\n",
              "      <td>-0.049242</td>\n",
              "      <td>-0.057795</td>\n",
              "      <td>-0.018345</td>\n",
              "      <td>0.022391</td>\n",
              "      <td>0.076539</td>\n",
              "      <td>0.087026</td>\n",
              "      <td>0.082570</td>\n",
              "      <td>-0.029872</td>\n",
              "      <td>0.089284</td>\n",
              "      <td>-0.003590</td>\n",
              "      <td>0.120990</td>\n",
              "      <td>0.209983</td>\n",
              "      <td>0.035188</td>\n",
              "      <td>-0.169004</td>\n",
              "      <td>-0.123978</td>\n",
              "      <td>1.000000</td>\n",
              "    </tr>\n",
              "  </tbody>\n",
              "</table>\n",
              "</div>"
            ],
            "text/plain": [
              "                                                       Year  ...  RNDByAsset\n",
              "Year                                               1.000000  ...   -0.002719\n",
              "Board size                                         0.014527  ...    0.040992\n",
              "Board independence                                 0.162619  ...   -0.037912\n",
              "CEO duality                                        0.008793  ...   -0.050628\n",
              "Board meeting attendance                           0.030915  ...   -0.116225\n",
              "Independence of audit committee                    0.041455  ...   -0.049242\n",
              "Auditor ratification                               0.117670  ...   -0.057795\n",
              "Independence of compensation committee             0.064225  ...   -0.018345\n",
              "Independence of nomination committee               0.227770  ...    0.022391\n",
              "Shareholder approved poison pill                  -0.024436  ...    0.076539\n",
              "Dual class unequal voting rights of common shares  0.065050  ...    0.087026\n",
              "Staggered board                                    0.029258  ...    0.082570\n",
              "Diversity of board                                 0.120992  ...   -0.029872\n",
              "Board duration                                     0.024817  ...    0.089284\n",
              "Corporate governance score                         0.122168  ...   -0.003590\n",
              "LogAsset                                           0.080109  ...    0.120990\n",
              "CAPEXByAsset                                       0.060709  ...    0.209983\n",
              "CashByAsset                                       -0.055437  ...    0.035188\n",
              "DebtByAsset                                        0.009665  ...   -0.169004\n",
              "PPNEByAsset                                       -0.025065  ...   -0.123978\n",
              "RNDByAsset                                        -0.002719  ...    1.000000\n",
              "\n",
              "[21 rows x 21 columns]"
            ]
          },
          "metadata": {
            "tags": []
          },
          "execution_count": 69
        }
      ]
    },
    {
      "cell_type": "code",
      "metadata": {
        "id": "jLTa6NyXaMSW"
      },
      "source": [
        ""
      ],
      "execution_count": 69,
      "outputs": []
    },
    {
      "cell_type": "code",
      "metadata": {
        "id": "gn3PLrPBuHEK"
      },
      "source": [
        ""
      ],
      "execution_count": 69,
      "outputs": []
    },
    {
      "cell_type": "markdown",
      "metadata": {
        "id": "HCRCNGLPatxP"
      },
      "source": [
        "# Distribution of corporate governance scores"
      ]
    },
    {
      "cell_type": "markdown",
      "metadata": {
        "id": "sm6Q4dgua-Ui"
      },
      "source": [
        "### large number (over 1500) appear to have strong governance - as coded (cg = 1)"
      ]
    },
    {
      "cell_type": "code",
      "metadata": {
        "colab": {
          "base_uri": "https://localhost:8080/"
        },
        "id": "CxVY7U0tXqYz",
        "outputId": "f05ee85e-2b9d-4a86-82d1-f98ff808029c"
      },
      "source": [
        "\n",
        "df2.groupby(['Corporate governance score'])['Ticker_Id'].count()\n"
      ],
      "execution_count": 70,
      "outputs": [
        {
          "output_type": "execute_result",
          "data": {
            "text/plain": [
              "Corporate governance score\n",
              "1.0     1549\n",
              "2.0       11\n",
              "3.0       55\n",
              "4.0      296\n",
              "5.0      552\n",
              "6.0      622\n",
              "7.0      466\n",
              "8.0      417\n",
              "9.0      452\n",
              "10.0     324\n",
              "11.0     109\n",
              "12.0      11\n",
              "Name: Ticker_Id, dtype: int64"
            ]
          },
          "metadata": {
            "tags": []
          },
          "execution_count": 70
        }
      ]
    },
    {
      "cell_type": "code",
      "metadata": {
        "colab": {
          "base_uri": "https://localhost:8080/",
          "height": 393
        },
        "id": "3oz9DjIoYYVR",
        "outputId": "93246622-1c95-4522-bf8a-e24d8be47cf7"
      },
      "source": [
        "\n",
        "df2.groupby(['Corporate governance score'])['Ticker_Id'].count().plot(kind=\"bar\")\n",
        "plt.title(\"Corporate Governance Score Distribution\", fontsize=20)\n",
        "plt.ylabel('Number of Observations')\n"
      ],
      "execution_count": 155,
      "outputs": [
        {
          "output_type": "execute_result",
          "data": {
            "text/plain": [
              "Text(0, 0.5, 'Number of Observations')"
            ]
          },
          "metadata": {
            "tags": []
          },
          "execution_count": 155
        },
        {
          "output_type": "display_data",
          "data": {
            "image/png": "[encoded data removed]",
            "text/plain": [
              "<Figure size 720x360 with 1 Axes>"
            ]
          },
          "metadata": {
            "tags": []
          }
        }
      ]
    },
    {
      "cell_type": "markdown",
      "metadata": {
        "id": "HNPXaiK3g-1r"
      },
      "source": [
        "### Corporate governance has trended up (strengthened) over time - though it fell significantly in 2017"
      ]
    },
    {
      "cell_type": "code",
      "metadata": {
        "colab": {
          "base_uri": "https://localhost:8080/",
          "height": 378
        },
        "id": "9u7K0ZGWbRMS",
        "outputId": "ae6db933-104f-48f1-9bf9-d61dc3c0d397"
      },
      "source": [
        "\n",
        "df2.groupby('Year')['Corporate governance score'].mean()\n",
        "df2.groupby('Year')['Corporate governance score'].mean().plot()\n",
        "plt.title(\"Mean Corporate Governance Score by Year\", fontsize=20)\n",
        "plt.ylabel('Mean Governance Score')"
      ],
      "execution_count": 158,
      "outputs": [
        {
          "output_type": "execute_result",
          "data": {
            "text/plain": [
              "Text(0, 0.5, 'Mean Governance Score')"
            ]
          },
          "metadata": {
            "tags": []
          },
          "execution_count": 158
        },
        {
          "output_type": "display_data",
          "data": {
            "image/png": "[encoded data removed]",
            "text/plain": [
              "<Figure size 720x360 with 1 Axes>"
            ]
          },
          "metadata": {
            "tags": []
          }
        }
      ]
    },
    {
      "cell_type": "markdown",
      "metadata": {
        "id": "FSn0WBOUbSwJ"
      },
      "source": [
        "# Create strong and weak corporate governance subgroups \n",
        "stronggov: CG score = 1; \n",
        "  weakgov: CG score >= 8"
      ]
    },
    {
      "cell_type": "code",
      "metadata": {
        "colab": {
          "base_uri": "https://localhost:8080/",
          "height": 708
        },
        "id": "RzmRIZKNr3mI",
        "outputId": "caa615a2-0b68-4ccb-cb0f-0066a06075e8"
      },
      "source": [
        "# Define Strong governance = corporate governance score = 1 (1549 data points)\n",
        "#lower corp gov score, stronger its corp gov framework\n",
        "\n",
        "stronggov = df2.nsmallest(1549, 'Corporate governance score')\n",
        "stronggov"
      ],
      "execution_count": 72,
      "outputs": [
        {
          "output_type": "execute_result",
          "data": {
            "text/html": [
              "<div>\n",
              "<style scoped>\n",
              "    .dataframe tbody tr th:only-of-type {\n",
              "        vertical-align: middle;\n",
              "    }\n",
              "\n",
              "    .dataframe tbody tr th {\n",
              "        vertical-align: top;\n",
              "    }\n",
              "\n",
              "    .dataframe thead th {\n",
              "        text-align: right;\n",
              "    }\n",
              "</style>\n",
              "<table border=\"1\" class=\"dataframe\">\n",
              "  <thead>\n",
              "    <tr style=\"text-align: right;\">\n",
              "      <th></th>\n",
              "      <th>Ticker_Id</th>\n",
              "      <th>Indx_Members</th>\n",
              "      <th>Country</th>\n",
              "      <th>Year</th>\n",
              "      <th>Board size</th>\n",
              "      <th>Board independence</th>\n",
              "      <th>CEO duality</th>\n",
              "      <th>Board meeting attendance</th>\n",
              "      <th>Independence of audit committee</th>\n",
              "      <th>Auditor ratification</th>\n",
              "      <th>Independence of compensation committee</th>\n",
              "      <th>Independence of nomination committee</th>\n",
              "      <th>Shareholder approved poison pill</th>\n",
              "      <th>Dual class unequal voting rights of common shares</th>\n",
              "      <th>Staggered board</th>\n",
              "      <th>Diversity of board</th>\n",
              "      <th>Board duration</th>\n",
              "      <th>Corporate governance score</th>\n",
              "      <th>LogAsset</th>\n",
              "      <th>CAPEXByAsset</th>\n",
              "      <th>CashByAsset</th>\n",
              "      <th>DebtByAsset</th>\n",
              "      <th>PPNEByAsset</th>\n",
              "      <th>RNDByAsset</th>\n",
              "    </tr>\n",
              "  </thead>\n",
              "  <tbody>\n",
              "    <tr>\n",
              "      <th>9</th>\n",
              "      <td>600023 CH</td>\n",
              "      <td>600023 CH Equity</td>\n",
              "      <td>China</td>\n",
              "      <td>2010</td>\n",
              "      <td>1.0</td>\n",
              "      <td>0.0</td>\n",
              "      <td>0.0</td>\n",
              "      <td>0.0</td>\n",
              "      <td>0.0</td>\n",
              "      <td>0.0</td>\n",
              "      <td>0.0</td>\n",
              "      <td>0.0</td>\n",
              "      <td>0.0</td>\n",
              "      <td>0.0</td>\n",
              "      <td>0.0</td>\n",
              "      <td>0.0</td>\n",
              "      <td>0.0</td>\n",
              "      <td>1.0</td>\n",
              "      <td>11.27</td>\n",
              "      <td>-0.08</td>\n",
              "      <td>0.09</td>\n",
              "      <td>0.42</td>\n",
              "      <td>0.62</td>\n",
              "      <td>0.000000</td>\n",
              "    </tr>\n",
              "    <tr>\n",
              "      <th>32</th>\n",
              "      <td>600155 CH</td>\n",
              "      <td>600155 CH Equity</td>\n",
              "      <td>China</td>\n",
              "      <td>2010</td>\n",
              "      <td>1.0</td>\n",
              "      <td>0.0</td>\n",
              "      <td>0.0</td>\n",
              "      <td>0.0</td>\n",
              "      <td>0.0</td>\n",
              "      <td>0.0</td>\n",
              "      <td>0.0</td>\n",
              "      <td>0.0</td>\n",
              "      <td>0.0</td>\n",
              "      <td>0.0</td>\n",
              "      <td>0.0</td>\n",
              "      <td>0.0</td>\n",
              "      <td>0.0</td>\n",
              "      <td>1.0</td>\n",
              "      <td>6.74</td>\n",
              "      <td>-0.06</td>\n",
              "      <td>0.09</td>\n",
              "      <td>3.23</td>\n",
              "      <td>0.71</td>\n",
              "      <td>0.000000</td>\n",
              "    </tr>\n",
              "    <tr>\n",
              "      <th>42</th>\n",
              "      <td>600297 CH</td>\n",
              "      <td>600297 CH Equity</td>\n",
              "      <td>China</td>\n",
              "      <td>2010</td>\n",
              "      <td>1.0</td>\n",
              "      <td>0.0</td>\n",
              "      <td>0.0</td>\n",
              "      <td>0.0</td>\n",
              "      <td>0.0</td>\n",
              "      <td>0.0</td>\n",
              "      <td>0.0</td>\n",
              "      <td>0.0</td>\n",
              "      <td>0.0</td>\n",
              "      <td>0.0</td>\n",
              "      <td>0.0</td>\n",
              "      <td>0.0</td>\n",
              "      <td>0.0</td>\n",
              "      <td>1.0</td>\n",
              "      <td>7.45</td>\n",
              "      <td>-0.07</td>\n",
              "      <td>0.17</td>\n",
              "      <td>0.39</td>\n",
              "      <td>0.33</td>\n",
              "      <td>0.012268</td>\n",
              "    </tr>\n",
              "    <tr>\n",
              "      <th>54</th>\n",
              "      <td>600466 CH</td>\n",
              "      <td>600466 CH Equity</td>\n",
              "      <td>China</td>\n",
              "      <td>2010</td>\n",
              "      <td>1.0</td>\n",
              "      <td>0.0</td>\n",
              "      <td>0.0</td>\n",
              "      <td>0.0</td>\n",
              "      <td>0.0</td>\n",
              "      <td>0.0</td>\n",
              "      <td>0.0</td>\n",
              "      <td>0.0</td>\n",
              "      <td>0.0</td>\n",
              "      <td>0.0</td>\n",
              "      <td>0.0</td>\n",
              "      <td>0.0</td>\n",
              "      <td>0.0</td>\n",
              "      <td>1.0</td>\n",
              "      <td>6.36</td>\n",
              "      <td>-0.03</td>\n",
              "      <td>0.12</td>\n",
              "      <td>0.01</td>\n",
              "      <td>0.46</td>\n",
              "      <td>0.010000</td>\n",
              "    </tr>\n",
              "    <tr>\n",
              "      <th>55</th>\n",
              "      <td>600482 CH</td>\n",
              "      <td>600482 CH Equity</td>\n",
              "      <td>China</td>\n",
              "      <td>2010</td>\n",
              "      <td>1.0</td>\n",
              "      <td>0.0</td>\n",
              "      <td>0.0</td>\n",
              "      <td>0.0</td>\n",
              "      <td>0.0</td>\n",
              "      <td>0.0</td>\n",
              "      <td>0.0</td>\n",
              "      <td>0.0</td>\n",
              "      <td>0.0</td>\n",
              "      <td>0.0</td>\n",
              "      <td>0.0</td>\n",
              "      <td>0.0</td>\n",
              "      <td>0.0</td>\n",
              "      <td>1.0</td>\n",
              "      <td>8.01</td>\n",
              "      <td>-0.03</td>\n",
              "      <td>0.10</td>\n",
              "      <td>0.38</td>\n",
              "      <td>0.36</td>\n",
              "      <td>0.010000</td>\n",
              "    </tr>\n",
              "    <tr>\n",
              "      <th>...</th>\n",
              "      <td>...</td>\n",
              "      <td>...</td>\n",
              "      <td>...</td>\n",
              "      <td>...</td>\n",
              "      <td>...</td>\n",
              "      <td>...</td>\n",
              "      <td>...</td>\n",
              "      <td>...</td>\n",
              "      <td>...</td>\n",
              "      <td>...</td>\n",
              "      <td>...</td>\n",
              "      <td>...</td>\n",
              "      <td>...</td>\n",
              "      <td>...</td>\n",
              "      <td>...</td>\n",
              "      <td>...</td>\n",
              "      <td>...</td>\n",
              "      <td>...</td>\n",
              "      <td>...</td>\n",
              "      <td>...</td>\n",
              "      <td>...</td>\n",
              "      <td>...</td>\n",
              "      <td>...</td>\n",
              "      <td>...</td>\n",
              "    </tr>\n",
              "    <tr>\n",
              "      <th>5003</th>\n",
              "      <td>UNIQ TB</td>\n",
              "      <td>UNIQ TB Equity</td>\n",
              "      <td>Thailand</td>\n",
              "      <td>2017</td>\n",
              "      <td>1.0</td>\n",
              "      <td>0.0</td>\n",
              "      <td>0.0</td>\n",
              "      <td>0.0</td>\n",
              "      <td>0.0</td>\n",
              "      <td>0.0</td>\n",
              "      <td>0.0</td>\n",
              "      <td>0.0</td>\n",
              "      <td>0.0</td>\n",
              "      <td>0.0</td>\n",
              "      <td>0.0</td>\n",
              "      <td>0.0</td>\n",
              "      <td>0.0</td>\n",
              "      <td>1.0</td>\n",
              "      <td>10.22</td>\n",
              "      <td>-0.02</td>\n",
              "      <td>0.01</td>\n",
              "      <td>0.29</td>\n",
              "      <td>0.20</td>\n",
              "      <td>0.000000</td>\n",
              "    </tr>\n",
              "    <tr>\n",
              "      <th>5004</th>\n",
              "      <td>UV TB</td>\n",
              "      <td>UV TB Equity</td>\n",
              "      <td>Thailand</td>\n",
              "      <td>2017</td>\n",
              "      <td>1.0</td>\n",
              "      <td>0.0</td>\n",
              "      <td>0.0</td>\n",
              "      <td>0.0</td>\n",
              "      <td>0.0</td>\n",
              "      <td>0.0</td>\n",
              "      <td>0.0</td>\n",
              "      <td>0.0</td>\n",
              "      <td>0.0</td>\n",
              "      <td>0.0</td>\n",
              "      <td>0.0</td>\n",
              "      <td>0.0</td>\n",
              "      <td>0.0</td>\n",
              "      <td>1.0</td>\n",
              "      <td>10.64</td>\n",
              "      <td>-0.01</td>\n",
              "      <td>0.04</td>\n",
              "      <td>0.46</td>\n",
              "      <td>0.31</td>\n",
              "      <td>0.000000</td>\n",
              "    </tr>\n",
              "    <tr>\n",
              "      <th>5005</th>\n",
              "      <td>WHA TB</td>\n",
              "      <td>WHA TB Equity</td>\n",
              "      <td>Thailand</td>\n",
              "      <td>2017</td>\n",
              "      <td>1.0</td>\n",
              "      <td>0.0</td>\n",
              "      <td>0.0</td>\n",
              "      <td>0.0</td>\n",
              "      <td>0.0</td>\n",
              "      <td>0.0</td>\n",
              "      <td>0.0</td>\n",
              "      <td>0.0</td>\n",
              "      <td>0.0</td>\n",
              "      <td>0.0</td>\n",
              "      <td>0.0</td>\n",
              "      <td>0.0</td>\n",
              "      <td>0.0</td>\n",
              "      <td>1.0</td>\n",
              "      <td>11.21</td>\n",
              "      <td>-0.02</td>\n",
              "      <td>0.03</td>\n",
              "      <td>0.47</td>\n",
              "      <td>0.19</td>\n",
              "      <td>0.000000</td>\n",
              "    </tr>\n",
              "    <tr>\n",
              "      <th>5006</th>\n",
              "      <td>WHAUP TB</td>\n",
              "      <td>WHAUP TB Equity</td>\n",
              "      <td>Thailand</td>\n",
              "      <td>2017</td>\n",
              "      <td>1.0</td>\n",
              "      <td>0.0</td>\n",
              "      <td>0.0</td>\n",
              "      <td>0.0</td>\n",
              "      <td>0.0</td>\n",
              "      <td>0.0</td>\n",
              "      <td>0.0</td>\n",
              "      <td>0.0</td>\n",
              "      <td>0.0</td>\n",
              "      <td>0.0</td>\n",
              "      <td>0.0</td>\n",
              "      <td>0.0</td>\n",
              "      <td>0.0</td>\n",
              "      <td>1.0</td>\n",
              "      <td>9.97</td>\n",
              "      <td>-0.02</td>\n",
              "      <td>0.03</td>\n",
              "      <td>0.18</td>\n",
              "      <td>0.14</td>\n",
              "      <td>0.000000</td>\n",
              "    </tr>\n",
              "    <tr>\n",
              "      <th>5007</th>\n",
              "      <td>WORK TB</td>\n",
              "      <td>WORK TB Equity</td>\n",
              "      <td>Thailand</td>\n",
              "      <td>2017</td>\n",
              "      <td>1.0</td>\n",
              "      <td>0.0</td>\n",
              "      <td>0.0</td>\n",
              "      <td>0.0</td>\n",
              "      <td>0.0</td>\n",
              "      <td>0.0</td>\n",
              "      <td>0.0</td>\n",
              "      <td>0.0</td>\n",
              "      <td>0.0</td>\n",
              "      <td>0.0</td>\n",
              "      <td>0.0</td>\n",
              "      <td>0.0</td>\n",
              "      <td>0.0</td>\n",
              "      <td>1.0</td>\n",
              "      <td>8.77</td>\n",
              "      <td>-0.08</td>\n",
              "      <td>0.21</td>\n",
              "      <td>0.07</td>\n",
              "      <td>0.17</td>\n",
              "      <td>0.000000</td>\n",
              "    </tr>\n",
              "  </tbody>\n",
              "</table>\n",
              "<p>1549 rows × 24 columns</p>\n",
              "</div>"
            ],
            "text/plain": [
              "      Ticker_Id      Indx_Members  ... PPNEByAsset  RNDByAsset\n",
              "9     600023 CH  600023 CH Equity  ...        0.62    0.000000\n",
              "32    600155 CH  600155 CH Equity  ...        0.71    0.000000\n",
              "42    600297 CH  600297 CH Equity  ...        0.33    0.012268\n",
              "54    600466 CH  600466 CH Equity  ...        0.46    0.010000\n",
              "55    600482 CH  600482 CH Equity  ...        0.36    0.010000\n",
              "...         ...               ...  ...         ...         ...\n",
              "5003    UNIQ TB    UNIQ TB Equity  ...        0.20    0.000000\n",
              "5004      UV TB      UV TB Equity  ...        0.31    0.000000\n",
              "5005     WHA TB     WHA TB Equity  ...        0.19    0.000000\n",
              "5006   WHAUP TB   WHAUP TB Equity  ...        0.14    0.000000\n",
              "5007    WORK TB    WORK TB Equity  ...        0.17    0.000000\n",
              "\n",
              "[1549 rows x 24 columns]"
            ]
          },
          "metadata": {
            "tags": []
          },
          "execution_count": 72
        }
      ]
    },
    {
      "cell_type": "code",
      "metadata": {
        "colab": {
          "base_uri": "https://localhost:8080/",
          "height": 708
        },
        "id": "o2t1ZEYMvk-I",
        "outputId": "ec507c63-c900-424a-9354-b759c5b21968"
      },
      "source": [
        "\n",
        "# Define weak governance = corporate governance score >= 8 (1313 data points)\n",
        "\n",
        "weakgov = df2.nlargest(1313, 'Corporate governance score')\n",
        "weakgov"
      ],
      "execution_count": 73,
      "outputs": [
        {
          "output_type": "execute_result",
          "data": {
            "text/html": [
              "<div>\n",
              "<style scoped>\n",
              "    .dataframe tbody tr th:only-of-type {\n",
              "        vertical-align: middle;\n",
              "    }\n",
              "\n",
              "    .dataframe tbody tr th {\n",
              "        vertical-align: top;\n",
              "    }\n",
              "\n",
              "    .dataframe thead th {\n",
              "        text-align: right;\n",
              "    }\n",
              "</style>\n",
              "<table border=\"1\" class=\"dataframe\">\n",
              "  <thead>\n",
              "    <tr style=\"text-align: right;\">\n",
              "      <th></th>\n",
              "      <th>Ticker_Id</th>\n",
              "      <th>Indx_Members</th>\n",
              "      <th>Country</th>\n",
              "      <th>Year</th>\n",
              "      <th>Board size</th>\n",
              "      <th>Board independence</th>\n",
              "      <th>CEO duality</th>\n",
              "      <th>Board meeting attendance</th>\n",
              "      <th>Independence of audit committee</th>\n",
              "      <th>Auditor ratification</th>\n",
              "      <th>Independence of compensation committee</th>\n",
              "      <th>Independence of nomination committee</th>\n",
              "      <th>Shareholder approved poison pill</th>\n",
              "      <th>Dual class unequal voting rights of common shares</th>\n",
              "      <th>Staggered board</th>\n",
              "      <th>Diversity of board</th>\n",
              "      <th>Board duration</th>\n",
              "      <th>Corporate governance score</th>\n",
              "      <th>LogAsset</th>\n",
              "      <th>CAPEXByAsset</th>\n",
              "      <th>CashByAsset</th>\n",
              "      <th>DebtByAsset</th>\n",
              "      <th>PPNEByAsset</th>\n",
              "      <th>RNDByAsset</th>\n",
              "    </tr>\n",
              "  </thead>\n",
              "  <tbody>\n",
              "    <tr>\n",
              "      <th>757</th>\n",
              "      <td>601336 CH</td>\n",
              "      <td>601336 CH Equity</td>\n",
              "      <td>China</td>\n",
              "      <td>2011</td>\n",
              "      <td>1.0</td>\n",
              "      <td>1.0</td>\n",
              "      <td>1.0</td>\n",
              "      <td>1.0</td>\n",
              "      <td>1.0</td>\n",
              "      <td>1.0</td>\n",
              "      <td>1.0</td>\n",
              "      <td>1.0</td>\n",
              "      <td>0.0</td>\n",
              "      <td>1.0</td>\n",
              "      <td>1.0</td>\n",
              "      <td>1.0</td>\n",
              "      <td>1.0</td>\n",
              "      <td>12.0</td>\n",
              "      <td>12.87</td>\n",
              "      <td>0.00</td>\n",
              "      <td>0.05</td>\n",
              "      <td>0.10</td>\n",
              "      <td>0.01</td>\n",
              "      <td>0.012268</td>\n",
              "    </tr>\n",
              "    <tr>\n",
              "      <th>1595</th>\n",
              "      <td>4523 JT</td>\n",
              "      <td>4523 JT Equity</td>\n",
              "      <td>Japan</td>\n",
              "      <td>2012</td>\n",
              "      <td>1.0</td>\n",
              "      <td>1.0</td>\n",
              "      <td>1.0</td>\n",
              "      <td>1.0</td>\n",
              "      <td>1.0</td>\n",
              "      <td>0.0</td>\n",
              "      <td>1.0</td>\n",
              "      <td>1.0</td>\n",
              "      <td>1.0</td>\n",
              "      <td>1.0</td>\n",
              "      <td>1.0</td>\n",
              "      <td>1.0</td>\n",
              "      <td>1.0</td>\n",
              "      <td>12.0</td>\n",
              "      <td>13.82</td>\n",
              "      <td>-0.01</td>\n",
              "      <td>0.10</td>\n",
              "      <td>0.35</td>\n",
              "      <td>0.14</td>\n",
              "      <td>0.120000</td>\n",
              "    </tr>\n",
              "    <tr>\n",
              "      <th>2221</th>\n",
              "      <td>4523 JT</td>\n",
              "      <td>4523 JT Equity</td>\n",
              "      <td>Japan</td>\n",
              "      <td>2013</td>\n",
              "      <td>1.0</td>\n",
              "      <td>1.0</td>\n",
              "      <td>1.0</td>\n",
              "      <td>1.0</td>\n",
              "      <td>1.0</td>\n",
              "      <td>0.0</td>\n",
              "      <td>1.0</td>\n",
              "      <td>1.0</td>\n",
              "      <td>1.0</td>\n",
              "      <td>1.0</td>\n",
              "      <td>1.0</td>\n",
              "      <td>1.0</td>\n",
              "      <td>1.0</td>\n",
              "      <td>12.0</td>\n",
              "      <td>13.81</td>\n",
              "      <td>-0.01</td>\n",
              "      <td>0.09</td>\n",
              "      <td>0.32</td>\n",
              "      <td>0.14</td>\n",
              "      <td>0.120000</td>\n",
              "    </tr>\n",
              "    <tr>\n",
              "      <th>2669</th>\n",
              "      <td>601939 CH</td>\n",
              "      <td>601939 CH Equity</td>\n",
              "      <td>China</td>\n",
              "      <td>2014</td>\n",
              "      <td>1.0</td>\n",
              "      <td>1.0</td>\n",
              "      <td>1.0</td>\n",
              "      <td>1.0</td>\n",
              "      <td>1.0</td>\n",
              "      <td>1.0</td>\n",
              "      <td>1.0</td>\n",
              "      <td>1.0</td>\n",
              "      <td>0.0</td>\n",
              "      <td>1.0</td>\n",
              "      <td>1.0</td>\n",
              "      <td>1.0</td>\n",
              "      <td>1.0</td>\n",
              "      <td>12.0</td>\n",
              "      <td>16.63</td>\n",
              "      <td>0.00</td>\n",
              "      <td>0.16</td>\n",
              "      <td>0.10</td>\n",
              "      <td>0.01</td>\n",
              "      <td>0.012268</td>\n",
              "    </tr>\n",
              "    <tr>\n",
              "      <th>2847</th>\n",
              "      <td>4523 JT</td>\n",
              "      <td>4523 JT Equity</td>\n",
              "      <td>Japan</td>\n",
              "      <td>2014</td>\n",
              "      <td>1.0</td>\n",
              "      <td>1.0</td>\n",
              "      <td>1.0</td>\n",
              "      <td>1.0</td>\n",
              "      <td>1.0</td>\n",
              "      <td>0.0</td>\n",
              "      <td>1.0</td>\n",
              "      <td>1.0</td>\n",
              "      <td>1.0</td>\n",
              "      <td>1.0</td>\n",
              "      <td>1.0</td>\n",
              "      <td>1.0</td>\n",
              "      <td>1.0</td>\n",
              "      <td>12.0</td>\n",
              "      <td>13.79</td>\n",
              "      <td>-0.01</td>\n",
              "      <td>0.16</td>\n",
              "      <td>0.26</td>\n",
              "      <td>0.14</td>\n",
              "      <td>0.140000</td>\n",
              "    </tr>\n",
              "    <tr>\n",
              "      <th>...</th>\n",
              "      <td>...</td>\n",
              "      <td>...</td>\n",
              "      <td>...</td>\n",
              "      <td>...</td>\n",
              "      <td>...</td>\n",
              "      <td>...</td>\n",
              "      <td>...</td>\n",
              "      <td>...</td>\n",
              "      <td>...</td>\n",
              "      <td>...</td>\n",
              "      <td>...</td>\n",
              "      <td>...</td>\n",
              "      <td>...</td>\n",
              "      <td>...</td>\n",
              "      <td>...</td>\n",
              "      <td>...</td>\n",
              "      <td>...</td>\n",
              "      <td>...</td>\n",
              "      <td>...</td>\n",
              "      <td>...</td>\n",
              "      <td>...</td>\n",
              "      <td>...</td>\n",
              "      <td>...</td>\n",
              "      <td>...</td>\n",
              "    </tr>\n",
              "    <tr>\n",
              "      <th>4869</th>\n",
              "      <td>029780 KS</td>\n",
              "      <td>029780 KS Equity</td>\n",
              "      <td>South Korea</td>\n",
              "      <td>2017</td>\n",
              "      <td>1.0</td>\n",
              "      <td>1.0</td>\n",
              "      <td>1.0</td>\n",
              "      <td>1.0</td>\n",
              "      <td>1.0</td>\n",
              "      <td>0.0</td>\n",
              "      <td>0.0</td>\n",
              "      <td>1.0</td>\n",
              "      <td>0.0</td>\n",
              "      <td>1.0</td>\n",
              "      <td>0.0</td>\n",
              "      <td>0.0</td>\n",
              "      <td>1.0</td>\n",
              "      <td>8.0</td>\n",
              "      <td>16.95</td>\n",
              "      <td>0.04</td>\n",
              "      <td>0.04</td>\n",
              "      <td>0.56</td>\n",
              "      <td>0.03</td>\n",
              "      <td>0.012268</td>\n",
              "    </tr>\n",
              "    <tr>\n",
              "      <th>4873</th>\n",
              "      <td>032830 KS</td>\n",
              "      <td>032830 KS Equity</td>\n",
              "      <td>South Korea</td>\n",
              "      <td>2017</td>\n",
              "      <td>1.0</td>\n",
              "      <td>1.0</td>\n",
              "      <td>1.0</td>\n",
              "      <td>1.0</td>\n",
              "      <td>1.0</td>\n",
              "      <td>0.0</td>\n",
              "      <td>0.0</td>\n",
              "      <td>1.0</td>\n",
              "      <td>0.0</td>\n",
              "      <td>1.0</td>\n",
              "      <td>0.0</td>\n",
              "      <td>0.0</td>\n",
              "      <td>1.0</td>\n",
              "      <td>8.0</td>\n",
              "      <td>19.46</td>\n",
              "      <td>0.01</td>\n",
              "      <td>0.01</td>\n",
              "      <td>0.05</td>\n",
              "      <td>0.00</td>\n",
              "      <td>0.012268</td>\n",
              "    </tr>\n",
              "    <tr>\n",
              "      <th>4880</th>\n",
              "      <td>035720 KS</td>\n",
              "      <td>035720 KS Equity</td>\n",
              "      <td>South Korea</td>\n",
              "      <td>2017</td>\n",
              "      <td>1.0</td>\n",
              "      <td>1.0</td>\n",
              "      <td>1.0</td>\n",
              "      <td>0.0</td>\n",
              "      <td>1.0</td>\n",
              "      <td>0.0</td>\n",
              "      <td>0.0</td>\n",
              "      <td>1.0</td>\n",
              "      <td>0.0</td>\n",
              "      <td>1.0</td>\n",
              "      <td>0.0</td>\n",
              "      <td>1.0</td>\n",
              "      <td>1.0</td>\n",
              "      <td>8.0</td>\n",
              "      <td>15.66</td>\n",
              "      <td>0.18</td>\n",
              "      <td>0.18</td>\n",
              "      <td>0.13</td>\n",
              "      <td>0.04</td>\n",
              "      <td>0.040000</td>\n",
              "    </tr>\n",
              "    <tr>\n",
              "      <th>4899</th>\n",
              "      <td>096770 KS</td>\n",
              "      <td>096770 KS Equity</td>\n",
              "      <td>South Korea</td>\n",
              "      <td>2017</td>\n",
              "      <td>1.0</td>\n",
              "      <td>1.0</td>\n",
              "      <td>1.0</td>\n",
              "      <td>0.0</td>\n",
              "      <td>1.0</td>\n",
              "      <td>0.0</td>\n",
              "      <td>0.0</td>\n",
              "      <td>1.0</td>\n",
              "      <td>0.0</td>\n",
              "      <td>1.0</td>\n",
              "      <td>0.0</td>\n",
              "      <td>1.0</td>\n",
              "      <td>1.0</td>\n",
              "      <td>8.0</td>\n",
              "      <td>17.35</td>\n",
              "      <td>0.06</td>\n",
              "      <td>0.06</td>\n",
              "      <td>0.16</td>\n",
              "      <td>0.40</td>\n",
              "      <td>0.010000</td>\n",
              "    </tr>\n",
              "    <tr>\n",
              "      <th>4916</th>\n",
              "      <td>BBL TB</td>\n",
              "      <td>BBL TB Equity</td>\n",
              "      <td>Thailand</td>\n",
              "      <td>2017</td>\n",
              "      <td>1.0</td>\n",
              "      <td>1.0</td>\n",
              "      <td>1.0</td>\n",
              "      <td>0.0</td>\n",
              "      <td>1.0</td>\n",
              "      <td>0.0</td>\n",
              "      <td>0.0</td>\n",
              "      <td>1.0</td>\n",
              "      <td>0.0</td>\n",
              "      <td>1.0</td>\n",
              "      <td>0.0</td>\n",
              "      <td>1.0</td>\n",
              "      <td>1.0</td>\n",
              "      <td>8.0</td>\n",
              "      <td>14.94</td>\n",
              "      <td>0.00</td>\n",
              "      <td>0.02</td>\n",
              "      <td>0.08</td>\n",
              "      <td>0.01</td>\n",
              "      <td>0.012268</td>\n",
              "    </tr>\n",
              "  </tbody>\n",
              "</table>\n",
              "<p>1313 rows × 24 columns</p>\n",
              "</div>"
            ],
            "text/plain": [
              "      Ticker_Id      Indx_Members  ... PPNEByAsset  RNDByAsset\n",
              "757   601336 CH  601336 CH Equity  ...        0.01    0.012268\n",
              "1595    4523 JT    4523 JT Equity  ...        0.14    0.120000\n",
              "2221    4523 JT    4523 JT Equity  ...        0.14    0.120000\n",
              "2669  601939 CH  601939 CH Equity  ...        0.01    0.012268\n",
              "2847    4523 JT    4523 JT Equity  ...        0.14    0.140000\n",
              "...         ...               ...  ...         ...         ...\n",
              "4869  029780 KS  029780 KS Equity  ...        0.03    0.012268\n",
              "4873  032830 KS  032830 KS Equity  ...        0.00    0.012268\n",
              "4880  035720 KS  035720 KS Equity  ...        0.04    0.040000\n",
              "4899  096770 KS  096770 KS Equity  ...        0.40    0.010000\n",
              "4916     BBL TB     BBL TB Equity  ...        0.01    0.012268\n",
              "\n",
              "[1313 rows x 24 columns]"
            ]
          },
          "metadata": {
            "tags": []
          },
          "execution_count": 73
        }
      ]
    },
    {
      "cell_type": "code",
      "metadata": {
        "id": "_KOpMvfqi9bB"
      },
      "source": [
        ""
      ],
      "execution_count": 73,
      "outputs": []
    },
    {
      "cell_type": "markdown",
      "metadata": {
        "id": "nrKwHN7jlzEs"
      },
      "source": [
        "# Compare country distributions for three groups - all, stronggov and weakgov"
      ]
    },
    {
      "cell_type": "markdown",
      "metadata": {
        "id": "oYTa9uwivNll"
      },
      "source": [
        "## firms in South Korea and Thailand appear to have the strongest governance framework, Indian firms have the weakest governace framework followed by Chinese firms"
      ]
    },
    {
      "cell_type": "markdown",
      "metadata": {
        "id": "MeLf-ZAdvbNr"
      },
      "source": [
        "### China accounts for most of the overall distribution, followed by India, Japan, South Korea, Thailand"
      ]
    },
    {
      "cell_type": "markdown",
      "metadata": {
        "id": "jglnw0syvyHR"
      },
      "source": [
        "### South Korea and Thailand companies account for most of the strong governace group, India and Japan the least"
      ]
    },
    {
      "cell_type": "markdown",
      "metadata": {
        "id": "xD7uayiIwgxx"
      },
      "source": [
        "### India and China account for most of the weak governance group, South Korea and Thailand the least"
      ]
    },
    {
      "cell_type": "code",
      "metadata": {
        "colab": {
          "base_uri": "https://localhost:8080/"
        },
        "id": "BF2ZvFKvdiw1",
        "outputId": "304a4eb9-179b-4e88-9fa3-0158303f7bc1"
      },
      "source": [
        "# all data - country distribution - China has most observations and highest percent of total\n",
        "All_country = df2.groupby(['Country'])['Ticker_Id'].count()\n",
        "All_country"
      ],
      "execution_count": 74,
      "outputs": [
        {
          "output_type": "execute_result",
          "data": {
            "text/plain": [
              "Country\n",
              "China          1296\n",
              "India           808\n",
              "Indonesia       360\n",
              "Japan           800\n",
              "South Korea     800\n",
              "Thailand        800\n",
              "Name: Ticker_Id, dtype: int64"
            ]
          },
          "metadata": {
            "tags": []
          },
          "execution_count": 74
        }
      ]
    },
    {
      "cell_type": "code",
      "metadata": {
        "colab": {
          "base_uri": "https://localhost:8080/",
          "height": 423
        },
        "id": "3BFgIejVak3Y",
        "outputId": "dbcb5f4f-5d8a-4115-a906-b935a2dea4ad"
      },
      "source": [
        "\n",
        "All_countrypercent = All_country/4864\n",
        "All_countrypercent.plot(kind=\"bar\", color=\"orange\", rot=45)\n",
        "plt.title(\"All - Country Distribution, Percent\", fontsize=20)\n",
        "plt.ylabel(\" Portion of Observations\")\n"
      ],
      "execution_count": 134,
      "outputs": [
        {
          "output_type": "execute_result",
          "data": {
            "text/plain": [
              "Text(0, 0.5, ' Portion of Observations')"
            ]
          },
          "metadata": {
            "tags": []
          },
          "execution_count": 134
        },
        {
          "output_type": "display_data",
          "data": {
            "image/png": "[encoded data removed]",
            "text/plain": [
              "<Figure size 720x360 with 1 Axes>"
            ]
          },
          "metadata": {
            "tags": []
          }
        }
      ]
    },
    {
      "cell_type": "code",
      "metadata": {
        "colab": {
          "base_uri": "https://localhost:8080/"
        },
        "id": "WX6IRbPjj-T6",
        "outputId": "0e30349c-d4de-494b-a931-93f6a110f3be"
      },
      "source": [
        "df2.groupby(['Year'])['Ticker_Id'].count()"
      ],
      "execution_count": 76,
      "outputs": [
        {
          "output_type": "execute_result",
          "data": {
            "text/plain": [
              "Year\n",
              "2010    608\n",
              "2011    608\n",
              "2012    608\n",
              "2013    608\n",
              "2014    608\n",
              "2015    608\n",
              "2016    608\n",
              "2017    608\n",
              "Name: Ticker_Id, dtype: int64"
            ]
          },
          "metadata": {
            "tags": []
          },
          "execution_count": 76
        }
      ]
    },
    {
      "cell_type": "code",
      "metadata": {
        "id": "1qUWmm0B5B7m",
        "colab": {
          "base_uri": "https://localhost:8080/"
        },
        "outputId": "222b2178-5534-40aa-9787-03222faeb574"
      },
      "source": [
        "# South Korea and Thailand dominate the strong goverance group\n",
        "stronggov_country = stronggov.groupby('Country')['Ticker_Id'].count()\n",
        "stronggov_country"
      ],
      "execution_count": 77,
      "outputs": [
        {
          "output_type": "execute_result",
          "data": {
            "text/plain": [
              "Country\n",
              "China          250\n",
              "India           81\n",
              "Indonesia      116\n",
              "Japan            9\n",
              "South Korea    565\n",
              "Thailand       528\n",
              "Name: Ticker_Id, dtype: int64"
            ]
          },
          "metadata": {
            "tags": []
          },
          "execution_count": 77
        }
      ]
    },
    {
      "cell_type": "code",
      "metadata": {
        "colab": {
          "base_uri": "https://localhost:8080/",
          "height": 423
        },
        "id": "5PawbG7nZnUU",
        "outputId": "daf67e68-690b-4a4e-e4fa-45ea724dea89"
      },
      "source": [
        "\n",
        "stronggovpercent = stronggov_country/1549\n",
        "stronggovpercent.plot(kind=\"bar\", color=\"orange\", rot=45)\n",
        "plt.title(\"Strong Governance, Country Distribution, Percent\", fontsize=20)\n",
        "plt.ylabel(\" Portion of Observations\")"
      ],
      "execution_count": 135,
      "outputs": [
        {
          "output_type": "execute_result",
          "data": {
            "text/plain": [
              "Text(0, 0.5, ' Portion of Observations')"
            ]
          },
          "metadata": {
            "tags": []
          },
          "execution_count": 135
        },
        {
          "output_type": "display_data",
          "data": {
            "image/png": "[encoded data removed]",
            "text/plain": [
              "<Figure size 720x360 with 1 Axes>"
            ]
          },
          "metadata": {
            "tags": []
          }
        }
      ]
    },
    {
      "cell_type": "code",
      "metadata": {
        "colab": {
          "base_uri": "https://localhost:8080/"
        },
        "id": "Lxvofs9K60nb",
        "outputId": "b19a8d09-d6f9-419c-8dc5-94ab21486e4a"
      },
      "source": [
        "# India, followed by China, have the most companies in the weak governace group\n",
        "weakgov_country = weakgov.groupby('Country')['Ticker_Id'].count()\n",
        "weakgov_country\n"
      ],
      "execution_count": 79,
      "outputs": [
        {
          "output_type": "execute_result",
          "data": {
            "text/plain": [
              "Country\n",
              "China          319\n",
              "India          519\n",
              "Indonesia       36\n",
              "Japan          146\n",
              "South Korea     89\n",
              "Thailand       204\n",
              "Name: Ticker_Id, dtype: int64"
            ]
          },
          "metadata": {
            "tags": []
          },
          "execution_count": 79
        }
      ]
    },
    {
      "cell_type": "code",
      "metadata": {
        "colab": {
          "base_uri": "https://localhost:8080/",
          "height": 423
        },
        "id": "CGFDGCtF61aP",
        "outputId": "42e68be2-9651-4e29-9e60-6c554a972d75"
      },
      "source": [
        "\n",
        "weakgovpercent = weakgov_country/1313\n",
        "weakgovpercent.plot(kind=\"bar\", color=\"orange\", rot=45)\n",
        "plt.title(\"Weak Governance, Country Distribution, Percent\", fontsize=20)\n",
        "plt.ylabel(\" Portion of Observations\")"
      ],
      "execution_count": 136,
      "outputs": [
        {
          "output_type": "execute_result",
          "data": {
            "text/plain": [
              "Text(0, 0.5, ' Portion of Observations')"
            ]
          },
          "metadata": {
            "tags": []
          },
          "execution_count": 136
        },
        {
          "output_type": "display_data",
          "data": {
            "image/png": "[encoded data removed]",
            "text/plain": [
              "<Figure size 720x360 with 1 Axes>"
            ]
          },
          "metadata": {
            "tags": []
          }
        }
      ]
    },
    {
      "cell_type": "code",
      "metadata": {
        "id": "_9SrzutQh0Er"
      },
      "source": [
        ""
      ],
      "execution_count": 81,
      "outputs": []
    },
    {
      "cell_type": "markdown",
      "metadata": {
        "id": "Z6t9g3z3i_le"
      },
      "source": [
        "# Compare Descriptive Statistics for 3 groups - All, stronggov and weakgov"
      ]
    },
    {
      "cell_type": "markdown",
      "metadata": {
        "id": "Ayq49o-4-8wM"
      },
      "source": [
        "### This Dataset does NOT provide strong support for the hypothesis that corporate governace matters to financial performance for these 6 Asian economies during the period 2010-2017. If governace mattered, one would expect the mean/median of financial indicators to be highest (lower for DebyByAsset) for firms in the strong governance group, and lowest for firms in the weak governace group. The dataset does not support this "
      ]
    },
    {
      "cell_type": "code",
      "metadata": {
        "id": "pbUce6zW6JX3"
      },
      "source": [
        "# EXTRACTED FROM THE DESCRIPTIVE STATS:\n",
        "# No evidence the means, medians are better for strong governance group for the financial metrics\n",
        "\n",
        "#LogAsset (rate of return on asset) - expect to be highest for stronggov\n",
        "# LogAsset_All:       mean=13.17 median=13.3\n",
        "# LogAsset_stronggov: mean=12.69 median=12.35\n",
        "# LogAsset_weakgov:   mean=13.46 median=13.13\n",
        "\n",
        "#CAPEXByAsset (ratio capital expenditure to asset) - expect absolute value to be highest for stronggov\n",
        "# CAPEXByAsset:           mean=-0.28 median=-0.02\n",
        "# CAPEXByAsset_stronggov: mean=-0.003 median=0\n",
        "# CAPEXByAsset_weakgov:   mean=-0.04 median=-0.03\n",
        "\n",
        "#CashByAsset - expect to be highest for stronggov\n",
        "# CashByAsset_All:       mean=0.11 median=0.08\n",
        "# CashByAsset_stronggov: mean=0.09 median=0.06\n",
        "# CashByAsset_weakgov:   mean=0.09 median=0.06\n",
        "\n",
        "#DebtByAsset (financial leverage) - expect to be lowest for stronggov\n",
        "# DebtByAsset_All:       mean=0.25 median=0.23\n",
        "# DebtByAsset_stronggov: mean=0.26 median=0.25\n",
        "# DebtByAsset_weakgov:   mean=0.24 median=0.18\n",
        "\n",
        "#PPNEByAsset (ratio propert, plant & equipment to asset) - expect to be highest for stronggov\n",
        "# PPNEByAsset_All:       mean=0.28 median=0.25\n",
        "# PPNEByAsset_stronggov: mean=0.3 median=0.28\n",
        "# PPNEByAsset_weakgov:   mean=0.25 median=0.18\n",
        "\n",
        "#RNDByAsset (ratio research & development to asset) - expect to be highest for stronggov\n",
        "# RNDByAsset_All:       mean=0.01 median=0\n",
        "# RNDByAsset_stronggov: mean=0.01 median=0\n",
        "# RNDByAsset_weakgov:   mean=0.01 median=0\n"
      ],
      "execution_count": 83,
      "outputs": []
    },
    {
      "cell_type": "code",
      "metadata": {
        "colab": {
          "base_uri": "https://localhost:8080/",
          "height": 400
        },
        "id": "52n1CLNoLzeh",
        "outputId": "96f9756e-f057-4bdc-b7c0-56df5d017030"
      },
      "source": [
        "# descriptive stats - all\n",
        "df2.describe()\n"
      ],
      "execution_count": 84,
      "outputs": [
        {
          "output_type": "execute_result",
          "data": {
            "text/html": [
              "<div>\n",
              "<style scoped>\n",
              "    .dataframe tbody tr th:only-of-type {\n",
              "        vertical-align: middle;\n",
              "    }\n",
              "\n",
              "    .dataframe tbody tr th {\n",
              "        vertical-align: top;\n",
              "    }\n",
              "\n",
              "    .dataframe thead th {\n",
              "        text-align: right;\n",
              "    }\n",
              "</style>\n",
              "<table border=\"1\" class=\"dataframe\">\n",
              "  <thead>\n",
              "    <tr style=\"text-align: right;\">\n",
              "      <th></th>\n",
              "      <th>Year</th>\n",
              "      <th>Board size</th>\n",
              "      <th>Board independence</th>\n",
              "      <th>CEO duality</th>\n",
              "      <th>Board meeting attendance</th>\n",
              "      <th>Independence of audit committee</th>\n",
              "      <th>Auditor ratification</th>\n",
              "      <th>Independence of compensation committee</th>\n",
              "      <th>Independence of nomination committee</th>\n",
              "      <th>Shareholder approved poison pill</th>\n",
              "      <th>Dual class unequal voting rights of common shares</th>\n",
              "      <th>Staggered board</th>\n",
              "      <th>Diversity of board</th>\n",
              "      <th>Board duration</th>\n",
              "      <th>Corporate governance score</th>\n",
              "      <th>LogAsset</th>\n",
              "      <th>CAPEXByAsset</th>\n",
              "      <th>CashByAsset</th>\n",
              "      <th>DebtByAsset</th>\n",
              "      <th>PPNEByAsset</th>\n",
              "      <th>RNDByAsset</th>\n",
              "    </tr>\n",
              "  </thead>\n",
              "  <tbody>\n",
              "    <tr>\n",
              "      <th>count</th>\n",
              "      <td>4864.000000</td>\n",
              "      <td>4864.000000</td>\n",
              "      <td>4864.000000</td>\n",
              "      <td>4864.000000</td>\n",
              "      <td>4864.000000</td>\n",
              "      <td>4864.000000</td>\n",
              "      <td>4864.000000</td>\n",
              "      <td>4864.000000</td>\n",
              "      <td>4864.000000</td>\n",
              "      <td>4864.000000</td>\n",
              "      <td>4864.000000</td>\n",
              "      <td>4864.000000</td>\n",
              "      <td>4864.000000</td>\n",
              "      <td>4864.000000</td>\n",
              "      <td>4864.000000</td>\n",
              "      <td>4864.000000</td>\n",
              "      <td>4864.000000</td>\n",
              "      <td>4864.000000</td>\n",
              "      <td>4864.000000</td>\n",
              "      <td>4864.000000</td>\n",
              "      <td>4864.000000</td>\n",
              "    </tr>\n",
              "    <tr>\n",
              "      <th>mean</th>\n",
              "      <td>2013.500000</td>\n",
              "      <td>0.990748</td>\n",
              "      <td>0.413446</td>\n",
              "      <td>0.501645</td>\n",
              "      <td>0.472039</td>\n",
              "      <td>0.354441</td>\n",
              "      <td>0.094161</td>\n",
              "      <td>0.199424</td>\n",
              "      <td>0.278988</td>\n",
              "      <td>0.018298</td>\n",
              "      <td>0.463199</td>\n",
              "      <td>0.389391</td>\n",
              "      <td>0.359375</td>\n",
              "      <td>0.532484</td>\n",
              "      <td>5.067640</td>\n",
              "      <td>13.168381</td>\n",
              "      <td>-0.028177</td>\n",
              "      <td>0.109271</td>\n",
              "      <td>0.247886</td>\n",
              "      <td>0.279263</td>\n",
              "      <td>0.012268</td>\n",
              "    </tr>\n",
              "    <tr>\n",
              "      <th>std</th>\n",
              "      <td>2.291523</td>\n",
              "      <td>0.095749</td>\n",
              "      <td>0.492502</td>\n",
              "      <td>0.500049</td>\n",
              "      <td>0.499269</td>\n",
              "      <td>0.478393</td>\n",
              "      <td>0.292083</td>\n",
              "      <td>0.399609</td>\n",
              "      <td>0.448548</td>\n",
              "      <td>0.134039</td>\n",
              "      <td>0.498695</td>\n",
              "      <td>0.487662</td>\n",
              "      <td>0.479867</td>\n",
              "      <td>0.498995</td>\n",
              "      <td>3.251433</td>\n",
              "      <td>2.894869</td>\n",
              "      <td>0.063911</td>\n",
              "      <td>0.106495</td>\n",
              "      <td>0.185560</td>\n",
              "      <td>0.222621</td>\n",
              "      <td>0.025018</td>\n",
              "    </tr>\n",
              "    <tr>\n",
              "      <th>min</th>\n",
              "      <td>2010.000000</td>\n",
              "      <td>0.000000</td>\n",
              "      <td>0.000000</td>\n",
              "      <td>0.000000</td>\n",
              "      <td>0.000000</td>\n",
              "      <td>0.000000</td>\n",
              "      <td>0.000000</td>\n",
              "      <td>0.000000</td>\n",
              "      <td>0.000000</td>\n",
              "      <td>0.000000</td>\n",
              "      <td>0.000000</td>\n",
              "      <td>0.000000</td>\n",
              "      <td>0.000000</td>\n",
              "      <td>0.000000</td>\n",
              "      <td>1.000000</td>\n",
              "      <td>4.680000</td>\n",
              "      <td>-0.660000</td>\n",
              "      <td>0.000000</td>\n",
              "      <td>0.000000</td>\n",
              "      <td>0.000000</td>\n",
              "      <td>0.000000</td>\n",
              "    </tr>\n",
              "    <tr>\n",
              "      <th>25%</th>\n",
              "      <td>2011.750000</td>\n",
              "      <td>1.000000</td>\n",
              "      <td>0.000000</td>\n",
              "      <td>0.000000</td>\n",
              "      <td>0.000000</td>\n",
              "      <td>0.000000</td>\n",
              "      <td>0.000000</td>\n",
              "      <td>0.000000</td>\n",
              "      <td>0.000000</td>\n",
              "      <td>0.000000</td>\n",
              "      <td>0.000000</td>\n",
              "      <td>0.000000</td>\n",
              "      <td>0.000000</td>\n",
              "      <td>0.000000</td>\n",
              "      <td>1.000000</td>\n",
              "      <td>10.910000</td>\n",
              "      <td>-0.060000</td>\n",
              "      <td>0.040000</td>\n",
              "      <td>0.100000</td>\n",
              "      <td>0.087500</td>\n",
              "      <td>0.000000</td>\n",
              "    </tr>\n",
              "    <tr>\n",
              "      <th>50%</th>\n",
              "      <td>2013.500000</td>\n",
              "      <td>1.000000</td>\n",
              "      <td>0.000000</td>\n",
              "      <td>1.000000</td>\n",
              "      <td>0.000000</td>\n",
              "      <td>0.000000</td>\n",
              "      <td>0.000000</td>\n",
              "      <td>0.000000</td>\n",
              "      <td>0.000000</td>\n",
              "      <td>0.000000</td>\n",
              "      <td>0.000000</td>\n",
              "      <td>0.000000</td>\n",
              "      <td>0.000000</td>\n",
              "      <td>1.000000</td>\n",
              "      <td>5.000000</td>\n",
              "      <td>13.168381</td>\n",
              "      <td>-0.028177</td>\n",
              "      <td>0.080000</td>\n",
              "      <td>0.240000</td>\n",
              "      <td>0.260000</td>\n",
              "      <td>0.010000</td>\n",
              "    </tr>\n",
              "    <tr>\n",
              "      <th>75%</th>\n",
              "      <td>2015.250000</td>\n",
              "      <td>1.000000</td>\n",
              "      <td>1.000000</td>\n",
              "      <td>1.000000</td>\n",
              "      <td>1.000000</td>\n",
              "      <td>1.000000</td>\n",
              "      <td>0.000000</td>\n",
              "      <td>0.000000</td>\n",
              "      <td>1.000000</td>\n",
              "      <td>0.000000</td>\n",
              "      <td>1.000000</td>\n",
              "      <td>1.000000</td>\n",
              "      <td>1.000000</td>\n",
              "      <td>1.000000</td>\n",
              "      <td>8.000000</td>\n",
              "      <td>15.330000</td>\n",
              "      <td>0.000000</td>\n",
              "      <td>0.140000</td>\n",
              "      <td>0.360000</td>\n",
              "      <td>0.430000</td>\n",
              "      <td>0.012268</td>\n",
              "    </tr>\n",
              "    <tr>\n",
              "      <th>max</th>\n",
              "      <td>2017.000000</td>\n",
              "      <td>1.000000</td>\n",
              "      <td>1.000000</td>\n",
              "      <td>1.000000</td>\n",
              "      <td>1.000000</td>\n",
              "      <td>1.000000</td>\n",
              "      <td>1.000000</td>\n",
              "      <td>1.000000</td>\n",
              "      <td>1.000000</td>\n",
              "      <td>1.000000</td>\n",
              "      <td>1.000000</td>\n",
              "      <td>1.000000</td>\n",
              "      <td>1.000000</td>\n",
              "      <td>1.000000</td>\n",
              "      <td>12.000000</td>\n",
              "      <td>20.840000</td>\n",
              "      <td>0.360000</td>\n",
              "      <td>0.890000</td>\n",
              "      <td>3.230000</td>\n",
              "      <td>0.920000</td>\n",
              "      <td>0.450000</td>\n",
              "    </tr>\n",
              "  </tbody>\n",
              "</table>\n",
              "</div>"
            ],
            "text/plain": [
              "              Year   Board size  ...  PPNEByAsset   RNDByAsset\n",
              "count  4864.000000  4864.000000  ...  4864.000000  4864.000000\n",
              "mean   2013.500000     0.990748  ...     0.279263     0.012268\n",
              "std       2.291523     0.095749  ...     0.222621     0.025018\n",
              "min    2010.000000     0.000000  ...     0.000000     0.000000\n",
              "25%    2011.750000     1.000000  ...     0.087500     0.000000\n",
              "50%    2013.500000     1.000000  ...     0.260000     0.010000\n",
              "75%    2015.250000     1.000000  ...     0.430000     0.012268\n",
              "max    2017.000000     1.000000  ...     0.920000     0.450000\n",
              "\n",
              "[8 rows x 21 columns]"
            ]
          },
          "metadata": {
            "tags": []
          },
          "execution_count": 84
        }
      ]
    },
    {
      "cell_type": "code",
      "metadata": {
        "colab": {
          "base_uri": "https://localhost:8080/",
          "height": 434
        },
        "id": "86w8qMGiyr9g",
        "outputId": "f7f43390-3b00-4a50-d939-297bf097cbe8"
      },
      "source": [
        "# descriptive stats - strong governace grooup\n",
        "stronggov.describe()\n"
      ],
      "execution_count": 85,
      "outputs": [
        {
          "output_type": "execute_result",
          "data": {
            "text/html": [
              "<div>\n",
              "<style scoped>\n",
              "    .dataframe tbody tr th:only-of-type {\n",
              "        vertical-align: middle;\n",
              "    }\n",
              "\n",
              "    .dataframe tbody tr th {\n",
              "        vertical-align: top;\n",
              "    }\n",
              "\n",
              "    .dataframe thead th {\n",
              "        text-align: right;\n",
              "    }\n",
              "</style>\n",
              "<table border=\"1\" class=\"dataframe\">\n",
              "  <thead>\n",
              "    <tr style=\"text-align: right;\">\n",
              "      <th></th>\n",
              "      <th>Year</th>\n",
              "      <th>Board size</th>\n",
              "      <th>Board independence</th>\n",
              "      <th>CEO duality</th>\n",
              "      <th>Board meeting attendance</th>\n",
              "      <th>Independence of audit committee</th>\n",
              "      <th>Auditor ratification</th>\n",
              "      <th>Independence of compensation committee</th>\n",
              "      <th>Independence of nomination committee</th>\n",
              "      <th>Shareholder approved poison pill</th>\n",
              "      <th>Dual class unequal voting rights of common shares</th>\n",
              "      <th>Staggered board</th>\n",
              "      <th>Diversity of board</th>\n",
              "      <th>Board duration</th>\n",
              "      <th>Corporate governance score</th>\n",
              "      <th>LogAsset</th>\n",
              "      <th>CAPEXByAsset</th>\n",
              "      <th>CashByAsset</th>\n",
              "      <th>DebtByAsset</th>\n",
              "      <th>PPNEByAsset</th>\n",
              "      <th>RNDByAsset</th>\n",
              "    </tr>\n",
              "  </thead>\n",
              "  <tbody>\n",
              "    <tr>\n",
              "      <th>count</th>\n",
              "      <td>1549.000000</td>\n",
              "      <td>1549.0</td>\n",
              "      <td>1549.0</td>\n",
              "      <td>1549.0</td>\n",
              "      <td>1549.0</td>\n",
              "      <td>1549.0</td>\n",
              "      <td>1549.0</td>\n",
              "      <td>1549.0</td>\n",
              "      <td>1549.0</td>\n",
              "      <td>1549.0</td>\n",
              "      <td>1549.0</td>\n",
              "      <td>1549.0</td>\n",
              "      <td>1549.0</td>\n",
              "      <td>1549.0</td>\n",
              "      <td>1549.0</td>\n",
              "      <td>1549.000000</td>\n",
              "      <td>1549.000000</td>\n",
              "      <td>1549.000000</td>\n",
              "      <td>1549.000000</td>\n",
              "      <td>1549.000000</td>\n",
              "      <td>1549.000000</td>\n",
              "    </tr>\n",
              "    <tr>\n",
              "      <th>mean</th>\n",
              "      <td>2013.362815</td>\n",
              "      <td>1.0</td>\n",
              "      <td>0.0</td>\n",
              "      <td>0.0</td>\n",
              "      <td>0.0</td>\n",
              "      <td>0.0</td>\n",
              "      <td>0.0</td>\n",
              "      <td>0.0</td>\n",
              "      <td>0.0</td>\n",
              "      <td>0.0</td>\n",
              "      <td>0.0</td>\n",
              "      <td>0.0</td>\n",
              "      <td>0.0</td>\n",
              "      <td>0.0</td>\n",
              "      <td>1.0</td>\n",
              "      <td>12.747030</td>\n",
              "      <td>-0.005989</td>\n",
              "      <td>0.094343</td>\n",
              "      <td>0.263178</td>\n",
              "      <td>0.293219</td>\n",
              "      <td>0.011015</td>\n",
              "    </tr>\n",
              "    <tr>\n",
              "      <th>std</th>\n",
              "      <td>2.382931</td>\n",
              "      <td>0.0</td>\n",
              "      <td>0.0</td>\n",
              "      <td>0.0</td>\n",
              "      <td>0.0</td>\n",
              "      <td>0.0</td>\n",
              "      <td>0.0</td>\n",
              "      <td>0.0</td>\n",
              "      <td>0.0</td>\n",
              "      <td>0.0</td>\n",
              "      <td>0.0</td>\n",
              "      <td>0.0</td>\n",
              "      <td>0.0</td>\n",
              "      <td>0.0</td>\n",
              "      <td>0.0</td>\n",
              "      <td>3.209595</td>\n",
              "      <td>0.076652</td>\n",
              "      <td>0.094250</td>\n",
              "      <td>0.197468</td>\n",
              "      <td>0.213177</td>\n",
              "      <td>0.029677</td>\n",
              "    </tr>\n",
              "    <tr>\n",
              "      <th>min</th>\n",
              "      <td>2010.000000</td>\n",
              "      <td>1.0</td>\n",
              "      <td>0.0</td>\n",
              "      <td>0.0</td>\n",
              "      <td>0.0</td>\n",
              "      <td>0.0</td>\n",
              "      <td>0.0</td>\n",
              "      <td>0.0</td>\n",
              "      <td>0.0</td>\n",
              "      <td>0.0</td>\n",
              "      <td>0.0</td>\n",
              "      <td>0.0</td>\n",
              "      <td>0.0</td>\n",
              "      <td>0.0</td>\n",
              "      <td>1.0</td>\n",
              "      <td>4.680000</td>\n",
              "      <td>-0.660000</td>\n",
              "      <td>0.000000</td>\n",
              "      <td>0.000000</td>\n",
              "      <td>0.000000</td>\n",
              "      <td>0.000000</td>\n",
              "    </tr>\n",
              "    <tr>\n",
              "      <th>25%</th>\n",
              "      <td>2011.000000</td>\n",
              "      <td>1.0</td>\n",
              "      <td>0.0</td>\n",
              "      <td>0.0</td>\n",
              "      <td>0.0</td>\n",
              "      <td>0.0</td>\n",
              "      <td>0.0</td>\n",
              "      <td>0.0</td>\n",
              "      <td>0.0</td>\n",
              "      <td>0.0</td>\n",
              "      <td>0.0</td>\n",
              "      <td>0.0</td>\n",
              "      <td>0.0</td>\n",
              "      <td>0.0</td>\n",
              "      <td>1.0</td>\n",
              "      <td>10.140000</td>\n",
              "      <td>-0.030000</td>\n",
              "      <td>0.030000</td>\n",
              "      <td>0.120000</td>\n",
              "      <td>0.100000</td>\n",
              "      <td>0.000000</td>\n",
              "    </tr>\n",
              "    <tr>\n",
              "      <th>50%</th>\n",
              "      <td>2013.000000</td>\n",
              "      <td>1.0</td>\n",
              "      <td>0.0</td>\n",
              "      <td>0.0</td>\n",
              "      <td>0.0</td>\n",
              "      <td>0.0</td>\n",
              "      <td>0.0</td>\n",
              "      <td>0.0</td>\n",
              "      <td>0.0</td>\n",
              "      <td>0.0</td>\n",
              "      <td>0.0</td>\n",
              "      <td>0.0</td>\n",
              "      <td>0.0</td>\n",
              "      <td>0.0</td>\n",
              "      <td>1.0</td>\n",
              "      <td>13.168381</td>\n",
              "      <td>-0.010000</td>\n",
              "      <td>0.070000</td>\n",
              "      <td>0.247886</td>\n",
              "      <td>0.279263</td>\n",
              "      <td>0.010000</td>\n",
              "    </tr>\n",
              "    <tr>\n",
              "      <th>75%</th>\n",
              "      <td>2015.000000</td>\n",
              "      <td>1.0</td>\n",
              "      <td>0.0</td>\n",
              "      <td>0.0</td>\n",
              "      <td>0.0</td>\n",
              "      <td>0.0</td>\n",
              "      <td>0.0</td>\n",
              "      <td>0.0</td>\n",
              "      <td>0.0</td>\n",
              "      <td>0.0</td>\n",
              "      <td>0.0</td>\n",
              "      <td>0.0</td>\n",
              "      <td>0.0</td>\n",
              "      <td>0.0</td>\n",
              "      <td>1.0</td>\n",
              "      <td>15.520000</td>\n",
              "      <td>0.030000</td>\n",
              "      <td>0.110000</td>\n",
              "      <td>0.380000</td>\n",
              "      <td>0.440000</td>\n",
              "      <td>0.012268</td>\n",
              "    </tr>\n",
              "    <tr>\n",
              "      <th>max</th>\n",
              "      <td>2017.000000</td>\n",
              "      <td>1.0</td>\n",
              "      <td>0.0</td>\n",
              "      <td>0.0</td>\n",
              "      <td>0.0</td>\n",
              "      <td>0.0</td>\n",
              "      <td>0.0</td>\n",
              "      <td>0.0</td>\n",
              "      <td>0.0</td>\n",
              "      <td>0.0</td>\n",
              "      <td>0.0</td>\n",
              "      <td>0.0</td>\n",
              "      <td>0.0</td>\n",
              "      <td>0.0</td>\n",
              "      <td>1.0</td>\n",
              "      <td>20.840000</td>\n",
              "      <td>0.360000</td>\n",
              "      <td>0.890000</td>\n",
              "      <td>3.230000</td>\n",
              "      <td>0.890000</td>\n",
              "      <td>0.450000</td>\n",
              "    </tr>\n",
              "  </tbody>\n",
              "</table>\n",
              "</div>"
            ],
            "text/plain": [
              "              Year  Board size  ...  PPNEByAsset   RNDByAsset\n",
              "count  1549.000000      1549.0  ...  1549.000000  1549.000000\n",
              "mean   2013.362815         1.0  ...     0.293219     0.011015\n",
              "std       2.382931         0.0  ...     0.213177     0.029677\n",
              "min    2010.000000         1.0  ...     0.000000     0.000000\n",
              "25%    2011.000000         1.0  ...     0.100000     0.000000\n",
              "50%    2013.000000         1.0  ...     0.279263     0.010000\n",
              "75%    2015.000000         1.0  ...     0.440000     0.012268\n",
              "max    2017.000000         1.0  ...     0.890000     0.450000\n",
              "\n",
              "[8 rows x 21 columns]"
            ]
          },
          "metadata": {
            "tags": []
          },
          "execution_count": 85
        }
      ]
    },
    {
      "cell_type": "code",
      "metadata": {
        "colab": {
          "base_uri": "https://localhost:8080/",
          "height": 400
        },
        "id": "PVPDuOkvy13W",
        "outputId": "c1f691c7-0cef-470b-e90b-c68087692c89"
      },
      "source": [
        "\n",
        "# descriptive stats weak governance group\n",
        "weakgov.describe()"
      ],
      "execution_count": 86,
      "outputs": [
        {
          "output_type": "execute_result",
          "data": {
            "text/html": [
              "<div>\n",
              "<style scoped>\n",
              "    .dataframe tbody tr th:only-of-type {\n",
              "        vertical-align: middle;\n",
              "    }\n",
              "\n",
              "    .dataframe tbody tr th {\n",
              "        vertical-align: top;\n",
              "    }\n",
              "\n",
              "    .dataframe thead th {\n",
              "        text-align: right;\n",
              "    }\n",
              "</style>\n",
              "<table border=\"1\" class=\"dataframe\">\n",
              "  <thead>\n",
              "    <tr style=\"text-align: right;\">\n",
              "      <th></th>\n",
              "      <th>Year</th>\n",
              "      <th>Board size</th>\n",
              "      <th>Board independence</th>\n",
              "      <th>CEO duality</th>\n",
              "      <th>Board meeting attendance</th>\n",
              "      <th>Independence of audit committee</th>\n",
              "      <th>Auditor ratification</th>\n",
              "      <th>Independence of compensation committee</th>\n",
              "      <th>Independence of nomination committee</th>\n",
              "      <th>Shareholder approved poison pill</th>\n",
              "      <th>Dual class unequal voting rights of common shares</th>\n",
              "      <th>Staggered board</th>\n",
              "      <th>Diversity of board</th>\n",
              "      <th>Board duration</th>\n",
              "      <th>Corporate governance score</th>\n",
              "      <th>LogAsset</th>\n",
              "      <th>CAPEXByAsset</th>\n",
              "      <th>CashByAsset</th>\n",
              "      <th>DebtByAsset</th>\n",
              "      <th>PPNEByAsset</th>\n",
              "      <th>RNDByAsset</th>\n",
              "    </tr>\n",
              "  </thead>\n",
              "  <tbody>\n",
              "    <tr>\n",
              "      <th>count</th>\n",
              "      <td>1313.000000</td>\n",
              "      <td>1313.0</td>\n",
              "      <td>1313.000000</td>\n",
              "      <td>1313.000000</td>\n",
              "      <td>1313.000000</td>\n",
              "      <td>1313.000000</td>\n",
              "      <td>1313.000000</td>\n",
              "      <td>1313.000000</td>\n",
              "      <td>1313.000000</td>\n",
              "      <td>1313.000000</td>\n",
              "      <td>1313.000000</td>\n",
              "      <td>1313.000000</td>\n",
              "      <td>1313.000000</td>\n",
              "      <td>1313.000000</td>\n",
              "      <td>1313.000000</td>\n",
              "      <td>1313.000000</td>\n",
              "      <td>1313.000000</td>\n",
              "      <td>1313.000000</td>\n",
              "      <td>1313.000000</td>\n",
              "      <td>1313.000000</td>\n",
              "      <td>1313.000000</td>\n",
              "    </tr>\n",
              "    <tr>\n",
              "      <th>mean</th>\n",
              "      <td>2013.958873</td>\n",
              "      <td>1.0</td>\n",
              "      <td>0.883473</td>\n",
              "      <td>0.843107</td>\n",
              "      <td>0.887281</td>\n",
              "      <td>0.939071</td>\n",
              "      <td>0.321401</td>\n",
              "      <td>0.641280</td>\n",
              "      <td>0.820259</td>\n",
              "      <td>0.016756</td>\n",
              "      <td>0.785225</td>\n",
              "      <td>0.372430</td>\n",
              "      <td>0.747144</td>\n",
              "      <td>0.862909</td>\n",
              "      <td>9.120335</td>\n",
              "      <td>13.457792</td>\n",
              "      <td>-0.039011</td>\n",
              "      <td>0.092449</td>\n",
              "      <td>0.246286</td>\n",
              "      <td>0.251444</td>\n",
              "      <td>0.010437</td>\n",
              "    </tr>\n",
              "    <tr>\n",
              "      <th>std</th>\n",
              "      <td>2.203064</td>\n",
              "      <td>0.0</td>\n",
              "      <td>0.320978</td>\n",
              "      <td>0.363838</td>\n",
              "      <td>0.316369</td>\n",
              "      <td>0.239291</td>\n",
              "      <td>0.467192</td>\n",
              "      <td>0.479808</td>\n",
              "      <td>0.384118</td>\n",
              "      <td>0.128403</td>\n",
              "      <td>0.410823</td>\n",
              "      <td>0.483636</td>\n",
              "      <td>0.434815</td>\n",
              "      <td>0.344074</td>\n",
              "      <td>0.978810</td>\n",
              "      <td>2.443823</td>\n",
              "      <td>0.053639</td>\n",
              "      <td>0.094197</td>\n",
              "      <td>0.183724</td>\n",
              "      <td>0.236286</td>\n",
              "      <td>0.018437</td>\n",
              "    </tr>\n",
              "    <tr>\n",
              "      <th>min</th>\n",
              "      <td>2010.000000</td>\n",
              "      <td>1.0</td>\n",
              "      <td>0.000000</td>\n",
              "      <td>0.000000</td>\n",
              "      <td>0.000000</td>\n",
              "      <td>0.000000</td>\n",
              "      <td>0.000000</td>\n",
              "      <td>0.000000</td>\n",
              "      <td>0.000000</td>\n",
              "      <td>0.000000</td>\n",
              "      <td>0.000000</td>\n",
              "      <td>0.000000</td>\n",
              "      <td>0.000000</td>\n",
              "      <td>0.000000</td>\n",
              "      <td>8.000000</td>\n",
              "      <td>7.710000</td>\n",
              "      <td>-0.450000</td>\n",
              "      <td>0.000000</td>\n",
              "      <td>0.000000</td>\n",
              "      <td>0.000000</td>\n",
              "      <td>0.000000</td>\n",
              "    </tr>\n",
              "    <tr>\n",
              "      <th>25%</th>\n",
              "      <td>2012.000000</td>\n",
              "      <td>1.0</td>\n",
              "      <td>1.000000</td>\n",
              "      <td>1.000000</td>\n",
              "      <td>1.000000</td>\n",
              "      <td>1.000000</td>\n",
              "      <td>0.000000</td>\n",
              "      <td>0.000000</td>\n",
              "      <td>1.000000</td>\n",
              "      <td>0.000000</td>\n",
              "      <td>1.000000</td>\n",
              "      <td>0.000000</td>\n",
              "      <td>0.000000</td>\n",
              "      <td>1.000000</td>\n",
              "      <td>8.000000</td>\n",
              "      <td>11.580000</td>\n",
              "      <td>-0.060000</td>\n",
              "      <td>0.030000</td>\n",
              "      <td>0.100000</td>\n",
              "      <td>0.010000</td>\n",
              "      <td>0.000000</td>\n",
              "    </tr>\n",
              "    <tr>\n",
              "      <th>50%</th>\n",
              "      <td>2014.000000</td>\n",
              "      <td>1.0</td>\n",
              "      <td>1.000000</td>\n",
              "      <td>1.000000</td>\n",
              "      <td>1.000000</td>\n",
              "      <td>1.000000</td>\n",
              "      <td>0.000000</td>\n",
              "      <td>1.000000</td>\n",
              "      <td>1.000000</td>\n",
              "      <td>0.000000</td>\n",
              "      <td>1.000000</td>\n",
              "      <td>0.000000</td>\n",
              "      <td>1.000000</td>\n",
              "      <td>1.000000</td>\n",
              "      <td>9.000000</td>\n",
              "      <td>13.140000</td>\n",
              "      <td>-0.030000</td>\n",
              "      <td>0.060000</td>\n",
              "      <td>0.220000</td>\n",
              "      <td>0.190000</td>\n",
              "      <td>0.010000</td>\n",
              "    </tr>\n",
              "    <tr>\n",
              "      <th>75%</th>\n",
              "      <td>2016.000000</td>\n",
              "      <td>1.0</td>\n",
              "      <td>1.000000</td>\n",
              "      <td>1.000000</td>\n",
              "      <td>1.000000</td>\n",
              "      <td>1.000000</td>\n",
              "      <td>1.000000</td>\n",
              "      <td>1.000000</td>\n",
              "      <td>1.000000</td>\n",
              "      <td>0.000000</td>\n",
              "      <td>1.000000</td>\n",
              "      <td>1.000000</td>\n",
              "      <td>1.000000</td>\n",
              "      <td>1.000000</td>\n",
              "      <td>10.000000</td>\n",
              "      <td>14.860000</td>\n",
              "      <td>0.000000</td>\n",
              "      <td>0.130000</td>\n",
              "      <td>0.360000</td>\n",
              "      <td>0.430000</td>\n",
              "      <td>0.012268</td>\n",
              "    </tr>\n",
              "    <tr>\n",
              "      <th>max</th>\n",
              "      <td>2017.000000</td>\n",
              "      <td>1.0</td>\n",
              "      <td>1.000000</td>\n",
              "      <td>1.000000</td>\n",
              "      <td>1.000000</td>\n",
              "      <td>1.000000</td>\n",
              "      <td>1.000000</td>\n",
              "      <td>1.000000</td>\n",
              "      <td>1.000000</td>\n",
              "      <td>1.000000</td>\n",
              "      <td>1.000000</td>\n",
              "      <td>1.000000</td>\n",
              "      <td>1.000000</td>\n",
              "      <td>1.000000</td>\n",
              "      <td>12.000000</td>\n",
              "      <td>20.760000</td>\n",
              "      <td>0.180000</td>\n",
              "      <td>0.650000</td>\n",
              "      <td>0.910000</td>\n",
              "      <td>0.890000</td>\n",
              "      <td>0.160000</td>\n",
              "    </tr>\n",
              "  </tbody>\n",
              "</table>\n",
              "</div>"
            ],
            "text/plain": [
              "              Year  Board size  ...  PPNEByAsset   RNDByAsset\n",
              "count  1313.000000      1313.0  ...  1313.000000  1313.000000\n",
              "mean   2013.958873         1.0  ...     0.251444     0.010437\n",
              "std       2.203064         0.0  ...     0.236286     0.018437\n",
              "min    2010.000000         1.0  ...     0.000000     0.000000\n",
              "25%    2012.000000         1.0  ...     0.010000     0.000000\n",
              "50%    2014.000000         1.0  ...     0.190000     0.010000\n",
              "75%    2016.000000         1.0  ...     0.430000     0.012268\n",
              "max    2017.000000         1.0  ...     0.890000     0.160000\n",
              "\n",
              "[8 rows x 21 columns]"
            ]
          },
          "metadata": {
            "tags": []
          },
          "execution_count": 86
        }
      ]
    },
    {
      "cell_type": "code",
      "metadata": {
        "id": "d-DGTdpRPIwC"
      },
      "source": [
        "\n",
        "\n"
      ],
      "execution_count": null,
      "outputs": []
    },
    {
      "cell_type": "markdown",
      "metadata": {
        "id": "oNxMPkKpMEYh"
      },
      "source": [
        "# Compare mean LogAsset (rate of return on asset) across countries. The country means for weak governance group (green) are highest, while the country means for strong governance group (orange) are lowest - again - NOT supporting the hypothesis that governace matters to financial performance"
      ]
    },
    {
      "cell_type": "markdown",
      "metadata": {
        "id": "zDBsAEHtRZ-r"
      },
      "source": [
        "### South Korea, which dominate the strong governance group, has the highest means in the three groups (all, stronggov, weakgov) - (weak support that governace may matter?). - But... Thailand, which is also well-represented in the strong governance group, has the lowest returns in the three groups (all, strongggov, weakgov).  India, which has the worst governance practices, has low returns in the three groups (weak support that governace may matter?)"
      ]
    },
    {
      "cell_type": "code",
      "metadata": {
        "colab": {
          "base_uri": "https://localhost:8080/"
        },
        "id": "hJBwgoCCncw8",
        "outputId": "d05698f3-82ee-4637-823c-428eb9b6b83b"
      },
      "source": [
        "\n",
        "LogAsset_country_all = df2.groupby('Country')['LogAsset'].mean().round(2)\n",
        "LogAsset_country_all"
      ],
      "execution_count": 104,
      "outputs": [
        {
          "output_type": "execute_result",
          "data": {
            "text/plain": [
              "Country\n",
              "China          11.20\n",
              "India          12.62\n",
              "Indonesia      15.29\n",
              "Japan          15.11\n",
              "South Korea    16.19\n",
              "Thailand       11.00\n",
              "Name: LogAsset, dtype: float64"
            ]
          },
          "metadata": {
            "tags": []
          },
          "execution_count": 104
        }
      ]
    },
    {
      "cell_type": "code",
      "metadata": {
        "colab": {
          "base_uri": "https://localhost:8080/"
        },
        "id": "35YMT3uendFG",
        "outputId": "a046040a-ba6a-4a08-8cb1-32f071ce6b9a"
      },
      "source": [
        "LogAsset_country_stronggov = stronggov.groupby('Country')['LogAsset'].mean().round(2)\n",
        "LogAsset_country_stronggov"
      ],
      "execution_count": 106,
      "outputs": [
        {
          "output_type": "execute_result",
          "data": {
            "text/plain": [
              "Country\n",
              "China          10.55\n",
              "India          12.37\n",
              "Indonesia      13.25\n",
              "Japan          13.92\n",
              "South Korea    15.79\n",
              "Thailand       10.46\n",
              "Name: LogAsset, dtype: float64"
            ]
          },
          "metadata": {
            "tags": []
          },
          "execution_count": 106
        }
      ]
    },
    {
      "cell_type": "code",
      "metadata": {
        "colab": {
          "base_uri": "https://localhost:8080/"
        },
        "id": "zQ8Gylh5lFyH",
        "outputId": "8ec024ba-e80e-42c7-d10f-2aba2f5d06ac"
      },
      "source": [
        "\n",
        "LogAsset_country_weakgov = weakgov.groupby('Country')['LogAsset'].mean().round(2)\n",
        "LogAsset_country_weakgov"
      ],
      "execution_count": 112,
      "outputs": [
        {
          "output_type": "execute_result",
          "data": {
            "text/plain": [
              "Country\n",
              "China          12.93\n",
              "India          12.59\n",
              "Indonesia      16.42\n",
              "Japan          15.83\n",
              "South Korea    18.09\n",
              "Thailand       12.24\n",
              "Name: LogAsset, dtype: float64"
            ]
          },
          "metadata": {
            "tags": []
          },
          "execution_count": 112
        }
      ]
    },
    {
      "cell_type": "code",
      "metadata": {
        "id": "lak9nfqFlHyK",
        "colab": {
          "base_uri": "https://localhost:8080/",
          "height": 378
        },
        "outputId": "560defb8-2407-4a85-ceca-3620ce229258"
      },
      "source": [
        "LogAsset_country_all.plot(color=\"purple\", label='All Governance'), LogAsset_country_stronggov.plot(color=\"orange\", label='Strong Governance'), LogAsset_country_weakgov.plot(color=\"green\", label='Weak Governance')\n",
        "plt.legend()\n",
        "plt.title(\"Mean of LogAsset (Rate of Return on Asset) By Country\", fontsize=20)\n",
        "plt.ylabel(\"Mean of LogAsset\")\n"
      ],
      "execution_count": 138,
      "outputs": [
        {
          "output_type": "execute_result",
          "data": {
            "text/plain": [
              "Text(0, 0.5, 'Mean of LogAsset')"
            ]
          },
          "metadata": {
            "tags": []
          },
          "execution_count": 138
        },
        {
          "output_type": "display_data",
          "data": {
            "image/png": "[encoded data removed]",
            "text/plain": [
              "<Figure size 720x360 with 1 Axes>"
            ]
          },
          "metadata": {
            "tags": []
          }
        }
      ]
    },
    {
      "cell_type": "code",
      "metadata": {
        "id": "awoeMLEYn2Fi"
      },
      "source": [
        ""
      ],
      "execution_count": null,
      "outputs": []
    },
    {
      "cell_type": "markdown",
      "metadata": {
        "id": "uXMUJahCnlFc"
      },
      "source": [
        "# Scatter plots - governace score vs financial variables - again - little support that governace matters"
      ]
    },
    {
      "cell_type": "code",
      "metadata": {
        "colab": {
          "base_uri": "https://localhost:8080/",
          "height": 356
        },
        "id": "bULW9fiI5vhg",
        "outputId": "0cc771e3-a6e3-4a1a-8080-368871f266c5"
      },
      "source": [
        "# Not see declining returns for higher/weaker governace scores\n",
        "# Consistent with previous findings,\n",
        "# Korean and Thai firms dominate group CG =1 scores; India dominate the weaker scores\n",
        "\n",
        "sns.set(rc={\"figure.figsize\":(10, 5)}) #width=10, height=5\n",
        "sns.scatterplot(data=df2, x='Corporate governance score', y='LogAsset', hue='Country')\n"
      ],
      "execution_count": 157,
      "outputs": [
        {
          "output_type": "execute_result",
          "data": {
            "text/plain": [
              "<matplotlib.axes._subplots.AxesSubplot at 0x7fb198e35f90>"
            ]
          },
          "metadata": {
            "tags": []
          },
          "execution_count": 157
        },
        {
          "output_type": "display_data",
          "data": {
            "image/png": "[encoded data removed]",
            "text/plain": [
              "<Figure size 720x360 with 1 Axes>"
            ]
          },
          "metadata": {
            "tags": []
          }
        }
      ]
    },
    {
      "cell_type": "code",
      "metadata": {
        "colab": {
          "base_uri": "https://localhost:8080/",
          "height": 359
        },
        "id": "c2HEV0-B5vvb",
        "outputId": "59b51c7a-17a8-454c-e77d-da0fd0b22279"
      },
      "source": [
        "# Not see overall declining  CAPEXByAsset for higher/weaker governace scores\n",
        "# Korean firams appear to top capex spending in each group\n",
        "\n",
        "sns.set(rc={\"figure.figsize\":(10, 5)}) #width=10, height=5\n",
        "sns.scatterplot(data=df2, x='Corporate governance score', y='CAPEXByAsset', hue='Country')\n"
      ],
      "execution_count": 88,
      "outputs": [
        {
          "output_type": "execute_result",
          "data": {
            "text/plain": [
              "<matplotlib.axes._subplots.AxesSubplot at 0x7fb198b59990>"
            ]
          },
          "metadata": {
            "tags": []
          },
          "execution_count": 88
        },
        {
          "output_type": "display_data",
          "data": {
            "image/png": "[encoded data removed]",
            "text/plain": [
              "<Figure size 720x360 with 1 Axes>"
            ]
          },
          "metadata": {
            "tags": []
          }
        }
      ]
    },
    {
      "cell_type": "code",
      "metadata": {
        "colab": {
          "base_uri": "https://localhost:8080/",
          "height": 356
        },
        "id": "vjUI6imG6LLo",
        "outputId": "4b1119d9-ce55-4351-ce2f-8861f44ad6fa"
      },
      "source": [
        "# Chinese firms in group 1 (and most groups) appear to have the most cash by asset\n",
        "\n",
        "sns.set(rc={\"figure.figsize\":(10, 5)}) #width=10, height=5\n",
        "sns.scatterplot(data=df2, x='Corporate governance score', y='CashByAsset', hue='Country')\n"
      ],
      "execution_count": 89,
      "outputs": [
        {
          "output_type": "execute_result",
          "data": {
            "text/plain": [
              "<matplotlib.axes._subplots.AxesSubplot at 0x7fb198b02d90>"
            ]
          },
          "metadata": {
            "tags": []
          },
          "execution_count": 89
        },
        {
          "output_type": "display_data",
          "data": {
            "image/png": "[encoded data removed]",
            "text/plain": [
              "<Figure size 720x360 with 1 Axes>"
            ]
          },
          "metadata": {
            "tags": []
          }
        }
      ]
    },
    {
      "cell_type": "code",
      "metadata": {
        "colab": {
          "base_uri": "https://localhost:8080/",
          "height": 356
        },
        "id": "SCJMKHeE6LX3",
        "outputId": "f839ef82-7409-4770-aa26-90d8e5130579"
      },
      "source": [
        "# Indonesian firms seem to be more highly leveraged\n",
        "\n",
        "sns.set(rc={\"figure.figsize\":(10, 5)}) #width=10, height=6\n",
        "sns.scatterplot(data=df2, x='Corporate governance score', y='DebtByAsset', hue='Country')\n"
      ],
      "execution_count": 90,
      "outputs": [
        {
          "output_type": "execute_result",
          "data": {
            "text/plain": [
              "<matplotlib.axes._subplots.AxesSubplot at 0x7fb19724ad90>"
            ]
          },
          "metadata": {
            "tags": []
          },
          "execution_count": 90
        },
        {
          "output_type": "display_data",
          "data": {
            "image/png": "[encoded data removed]",
            "text/plain": [
              "<Figure size 720x360 with 1 Axes>"
            ]
          },
          "metadata": {
            "tags": []
          }
        }
      ]
    },
    {
      "cell_type": "code",
      "metadata": {
        "colab": {
          "base_uri": "https://localhost:8080/",
          "height": 356
        },
        "id": "Klm5LpHm6Lj5",
        "outputId": "02c94789-b3c5-4677-dc1e-1c54d4b76f26"
      },
      "source": [
        "\n",
        "sns.set(rc={\"figure.figsize\":(10, 5)}) #width=10, height=5\n",
        "sns.scatterplot(data=df2, x='Corporate governance score', y='PPNEByAsset', hue='Country')\n"
      ],
      "execution_count": 91,
      "outputs": [
        {
          "output_type": "execute_result",
          "data": {
            "text/plain": [
              "<matplotlib.axes._subplots.AxesSubplot at 0x7fb1971a0710>"
            ]
          },
          "metadata": {
            "tags": []
          },
          "execution_count": 91
        },
        {
          "output_type": "display_data",
          "data": {
            "image/png": "[encoded data removed]",
            "text/plain": [
              "<Figure size 720x360 with 1 Axes>"
            ]
          },
          "metadata": {
            "tags": []
          }
        }
      ]
    },
    {
      "cell_type": "code",
      "metadata": {
        "colab": {
          "base_uri": "https://localhost:8080/",
          "height": 356
        },
        "id": "XpC6yPAQ7ypb",
        "outputId": "d1453bcd-7a3c-43fb-fa35-c01fb56ca591"
      },
      "source": [
        "# Korean firms in group 1 dominate R&D spending. Indian firms in group 11 dominate R&D\n",
        "# Korean, Japanese and Indian firms are well-represented in R&D spending. some strong Chinese firms present too\n",
        "sns.set(rc={\"figure.figsize\":(10, 5)}) #width=10, height=6\n",
        "sns.scatterplot(data=df2, x='Corporate governance score', y='RNDByAsset', hue='Country')\n"
      ],
      "execution_count": 92,
      "outputs": [
        {
          "output_type": "execute_result",
          "data": {
            "text/plain": [
              "<matplotlib.axes._subplots.AxesSubplot at 0x7fb19713b8d0>"
            ]
          },
          "metadata": {
            "tags": []
          },
          "execution_count": 92
        },
        {
          "output_type": "display_data",
          "data": {
            "image/png": "[encoded data removed]",
            "text/plain": [
              "<Figure size 720x360 with 1 Axes>"
            ]
          },
          "metadata": {
            "tags": []
          }
        }
      ]
    },
    {
      "cell_type": "code",
      "metadata": {
        "id": "gkhwgN_L6Lyk"
      },
      "source": [
        ""
      ],
      "execution_count": 92,
      "outputs": []
    },
    {
      "cell_type": "code",
      "metadata": {
        "id": "JvHOKgt8lIB6"
      },
      "source": [
        ""
      ],
      "execution_count": 95,
      "outputs": []
    }
  ]
}