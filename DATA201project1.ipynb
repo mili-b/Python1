{
  "nbformat": 4,
  "nbformat_minor": 0,
  "metadata": {
    "colab": {
      "name": "DATA201project1.ipynb",
      "provenance": [],
      "collapsed_sections": [],
      "authorship_tag": "ABX9TyNvxwGP/NV7x/dT+bygYlnG",
      "include_colab_link": true
    },
    "kernelspec": {
      "name": "python3",
      "display_name": "Python 3"
    },
    "language_info": {
      "name": "python"
    }
  },
  "cells": [
    {
      "cell_type": "markdown",
      "metadata": {
        "id": "view-in-github",
        "colab_type": "text"
      },
      "source": [
        "<a href=\"https://colab.research.google.com/github/mili-b/mili-b/blob/main/DATA201project1.ipynb\" target=\"_parent\"><img src=\"https://colab.research.google.com/assets/colab-badge.svg\" alt=\"Open In Colab\"/></a>"
      ]
    },
    {
      "cell_type": "code",
      "metadata": {
        "colab": {
          "base_uri": "https://localhost:8080/"
        },
        "id": "c1E0_yJTACdX",
        "outputId": "b1a111fa-3277-427b-aa6c-d724f328ba79"
      },
      "source": [
        "# m budhai\n",
        "# REGENTS EXAM RESULTS FOR NYC SCHOOLS 2014-2015 - 2016-2017\n",
        "# PROJECT FOCUSES ON MEAN SCORE\n",
        "#COMPARES STUYVESANT HS WITH ALL HIGH SCHOOLS AND ALL SCHOOLS - Stuyvesant outperforms\n",
        "#COMPARES THREE TOP SPECIALIZED HIGH SCHOOLS (STUYESANT, BRONX SCIENCE, BROOKLYN TECH) - more competitive but Stuyvesant does best\n",
        "\n",
        "import pandas as pd\n",
        "import numpy as np\n",
        "import matplotlib.pyplot as plt\n",
        "\n",
        "\n",
        "df = pd.read_csv('https://raw.githubusercontent.com/CunyLaguardiaDataAnalytics/datasets/master/2014-15_To_2016-17_School-_Level_NYC_Regents_Report_For_All_Variables.csv')\n",
        "\n",
        "df.shape\n"
      ],
      "execution_count": 34,
      "outputs": [
        {
          "output_type": "execute_result",
          "data": {
            "text/plain": [
              "(212331, 15)"
            ]
          },
          "metadata": {
            "tags": []
          },
          "execution_count": 34
        }
      ]
    },
    {
      "cell_type": "code",
      "metadata": {
        "colab": {
          "base_uri": "https://localhost:8080/",
          "height": 503
        },
        "id": "1RBTrhU5LcyS",
        "outputId": "fde29165-843b-4eef-c16c-2b91aafcb6ec"
      },
      "source": [
        "\n",
        "df.head(5)"
      ],
      "execution_count": 35,
      "outputs": [
        {
          "output_type": "execute_result",
          "data": {
            "text/html": [
              "<div>\n",
              "<style scoped>\n",
              "    .dataframe tbody tr th:only-of-type {\n",
              "        vertical-align: middle;\n",
              "    }\n",
              "\n",
              "    .dataframe tbody tr th {\n",
              "        vertical-align: top;\n",
              "    }\n",
              "\n",
              "    .dataframe thead th {\n",
              "        text-align: right;\n",
              "    }\n",
              "</style>\n",
              "<table border=\"1\" class=\"dataframe\">\n",
              "  <thead>\n",
              "    <tr style=\"text-align: right;\">\n",
              "      <th></th>\n",
              "      <th>School DBN</th>\n",
              "      <th>School Name</th>\n",
              "      <th>School Level</th>\n",
              "      <th>Regents Exam</th>\n",
              "      <th>Year</th>\n",
              "      <th>Total Tested</th>\n",
              "      <th>Mean Score</th>\n",
              "      <th>Number Scoring Below 65</th>\n",
              "      <th>Percent Scoring Below 65</th>\n",
              "      <th>Number Scoring 65 or Above</th>\n",
              "      <th>Percent Scoring 65 or Above</th>\n",
              "      <th>Number Scoring 80 or Above</th>\n",
              "      <th>Percent Scoring 80 or Above</th>\n",
              "      <th>Number Scoring CR</th>\n",
              "      <th>Percent Scoring CR</th>\n",
              "    </tr>\n",
              "  </thead>\n",
              "  <tbody>\n",
              "    <tr>\n",
              "      <th>0</th>\n",
              "      <td>01M034</td>\n",
              "      <td>P.S. 034 Franklin D. Roosevelt</td>\n",
              "      <td>K-8</td>\n",
              "      <td>Common Core Algebra</td>\n",
              "      <td>2017</td>\n",
              "      <td>4</td>\n",
              "      <td>s</td>\n",
              "      <td>s</td>\n",
              "      <td>s</td>\n",
              "      <td>s</td>\n",
              "      <td>s</td>\n",
              "      <td>s</td>\n",
              "      <td>s</td>\n",
              "      <td>na</td>\n",
              "      <td>na</td>\n",
              "    </tr>\n",
              "    <tr>\n",
              "      <th>1</th>\n",
              "      <td>01M034</td>\n",
              "      <td>P.S. 034 Franklin D. Roosevelt</td>\n",
              "      <td>K-8</td>\n",
              "      <td>Living Environment</td>\n",
              "      <td>2015</td>\n",
              "      <td>16</td>\n",
              "      <td>77.9</td>\n",
              "      <td>1</td>\n",
              "      <td>6.3</td>\n",
              "      <td>15</td>\n",
              "      <td>93.8</td>\n",
              "      <td>7</td>\n",
              "      <td>43.8</td>\n",
              "      <td>na</td>\n",
              "      <td>na</td>\n",
              "    </tr>\n",
              "    <tr>\n",
              "      <th>2</th>\n",
              "      <td>01M034</td>\n",
              "      <td>P.S. 034 Franklin D. Roosevelt</td>\n",
              "      <td>K-8</td>\n",
              "      <td>Living Environment</td>\n",
              "      <td>2016</td>\n",
              "      <td>9</td>\n",
              "      <td>74</td>\n",
              "      <td>1</td>\n",
              "      <td>11.1</td>\n",
              "      <td>8</td>\n",
              "      <td>88.9</td>\n",
              "      <td>2</td>\n",
              "      <td>22.2</td>\n",
              "      <td>na</td>\n",
              "      <td>na</td>\n",
              "    </tr>\n",
              "    <tr>\n",
              "      <th>3</th>\n",
              "      <td>01M140</td>\n",
              "      <td>P.S. 140 Nathan Straus</td>\n",
              "      <td>K-8</td>\n",
              "      <td>Common Core Algebra</td>\n",
              "      <td>2016</td>\n",
              "      <td>3</td>\n",
              "      <td>s</td>\n",
              "      <td>s</td>\n",
              "      <td>s</td>\n",
              "      <td>s</td>\n",
              "      <td>s</td>\n",
              "      <td>s</td>\n",
              "      <td>s</td>\n",
              "      <td>na</td>\n",
              "      <td>na</td>\n",
              "    </tr>\n",
              "    <tr>\n",
              "      <th>4</th>\n",
              "      <td>01M140</td>\n",
              "      <td>P.S. 140 Nathan Straus</td>\n",
              "      <td>K-8</td>\n",
              "      <td>Common Core Algebra</td>\n",
              "      <td>2017</td>\n",
              "      <td>2</td>\n",
              "      <td>s</td>\n",
              "      <td>s</td>\n",
              "      <td>s</td>\n",
              "      <td>s</td>\n",
              "      <td>s</td>\n",
              "      <td>s</td>\n",
              "      <td>s</td>\n",
              "      <td>na</td>\n",
              "      <td>na</td>\n",
              "    </tr>\n",
              "  </tbody>\n",
              "</table>\n",
              "</div>"
            ],
            "text/plain": [
              "  School DBN  ... Percent Scoring CR\n",
              "0     01M034  ...                 na\n",
              "1     01M034  ...                 na\n",
              "2     01M034  ...                 na\n",
              "3     01M140  ...                 na\n",
              "4     01M140  ...                 na\n",
              "\n",
              "[5 rows x 15 columns]"
            ]
          },
          "metadata": {
            "tags": []
          },
          "execution_count": 35
        }
      ]
    },
    {
      "cell_type": "code",
      "metadata": {
        "colab": {
          "base_uri": "https://localhost:8080/"
        },
        "id": "LHnJhf1K-3V9",
        "outputId": "a1965b84-7efd-4b8c-8572-17f64ec2c0bc"
      },
      "source": [
        "df.info()"
      ],
      "execution_count": 36,
      "outputs": [
        {
          "output_type": "stream",
          "text": [
            "<class 'pandas.core.frame.DataFrame'>\n",
            "RangeIndex: 212331 entries, 0 to 212330\n",
            "Data columns (total 15 columns):\n",
            " #   Column                       Non-Null Count   Dtype \n",
            "---  ------                       --------------   ----- \n",
            " 0   School DBN                   212331 non-null  object\n",
            " 1   School Name                  212331 non-null  object\n",
            " 2   School Level                 212331 non-null  object\n",
            " 3   Regents Exam                 212321 non-null  object\n",
            " 4   Year                         212331 non-null  int64 \n",
            " 5   Total Tested                 212331 non-null  int64 \n",
            " 6   Mean Score                   212331 non-null  object\n",
            " 7   Number Scoring Below 65      212331 non-null  object\n",
            " 8   Percent Scoring Below 65     212331 non-null  object\n",
            " 9   Number Scoring 65 or Above   212331 non-null  object\n",
            " 10  Percent Scoring 65 or Above  212331 non-null  object\n",
            " 11  Number Scoring 80 or Above   212331 non-null  object\n",
            " 12  Percent Scoring 80 or Above  212331 non-null  object\n",
            " 13  Number Scoring CR            212331 non-null  object\n",
            " 14  Percent Scoring CR           212331 non-null  object\n",
            "dtypes: int64(2), object(13)\n",
            "memory usage: 24.3+ MB\n"
          ],
          "name": "stdout"
        }
      ]
    },
    {
      "cell_type": "code",
      "metadata": {
        "id": "jdJWET9LWez_"
      },
      "source": [
        ""
      ],
      "execution_count": 36,
      "outputs": []
    },
    {
      "cell_type": "code",
      "metadata": {
        "colab": {
          "base_uri": "https://localhost:8080/",
          "height": 503
        },
        "id": "GyERLxKi5P22",
        "outputId": "7e412f94-06d5-454b-a2e8-c2a993700e41"
      },
      "source": [
        "# MISSING VALUES\n",
        "missing_values = [\"s\", \"na\"]\n",
        "df = pd.read_csv('https://raw.githubusercontent.com/CunyLaguardiaDataAnalytics/datasets/master/2014-15_To_2016-17_School-_Level_NYC_Regents_Report_For_All_Variables.csv', na_values = missing_values)\n",
        "df.head()"
      ],
      "execution_count": 37,
      "outputs": [
        {
          "output_type": "execute_result",
          "data": {
            "text/html": [
              "<div>\n",
              "<style scoped>\n",
              "    .dataframe tbody tr th:only-of-type {\n",
              "        vertical-align: middle;\n",
              "    }\n",
              "\n",
              "    .dataframe tbody tr th {\n",
              "        vertical-align: top;\n",
              "    }\n",
              "\n",
              "    .dataframe thead th {\n",
              "        text-align: right;\n",
              "    }\n",
              "</style>\n",
              "<table border=\"1\" class=\"dataframe\">\n",
              "  <thead>\n",
              "    <tr style=\"text-align: right;\">\n",
              "      <th></th>\n",
              "      <th>School DBN</th>\n",
              "      <th>School Name</th>\n",
              "      <th>School Level</th>\n",
              "      <th>Regents Exam</th>\n",
              "      <th>Year</th>\n",
              "      <th>Total Tested</th>\n",
              "      <th>Mean Score</th>\n",
              "      <th>Number Scoring Below 65</th>\n",
              "      <th>Percent Scoring Below 65</th>\n",
              "      <th>Number Scoring 65 or Above</th>\n",
              "      <th>Percent Scoring 65 or Above</th>\n",
              "      <th>Number Scoring 80 or Above</th>\n",
              "      <th>Percent Scoring 80 or Above</th>\n",
              "      <th>Number Scoring CR</th>\n",
              "      <th>Percent Scoring CR</th>\n",
              "    </tr>\n",
              "  </thead>\n",
              "  <tbody>\n",
              "    <tr>\n",
              "      <th>0</th>\n",
              "      <td>01M034</td>\n",
              "      <td>P.S. 034 Franklin D. Roosevelt</td>\n",
              "      <td>K-8</td>\n",
              "      <td>Common Core Algebra</td>\n",
              "      <td>2017</td>\n",
              "      <td>4</td>\n",
              "      <td>NaN</td>\n",
              "      <td>NaN</td>\n",
              "      <td>NaN</td>\n",
              "      <td>NaN</td>\n",
              "      <td>NaN</td>\n",
              "      <td>NaN</td>\n",
              "      <td>NaN</td>\n",
              "      <td>NaN</td>\n",
              "      <td>NaN</td>\n",
              "    </tr>\n",
              "    <tr>\n",
              "      <th>1</th>\n",
              "      <td>01M034</td>\n",
              "      <td>P.S. 034 Franklin D. Roosevelt</td>\n",
              "      <td>K-8</td>\n",
              "      <td>Living Environment</td>\n",
              "      <td>2015</td>\n",
              "      <td>16</td>\n",
              "      <td>77.9</td>\n",
              "      <td>1.0</td>\n",
              "      <td>6.3</td>\n",
              "      <td>15.0</td>\n",
              "      <td>93.8</td>\n",
              "      <td>7.0</td>\n",
              "      <td>43.8</td>\n",
              "      <td>NaN</td>\n",
              "      <td>NaN</td>\n",
              "    </tr>\n",
              "    <tr>\n",
              "      <th>2</th>\n",
              "      <td>01M034</td>\n",
              "      <td>P.S. 034 Franklin D. Roosevelt</td>\n",
              "      <td>K-8</td>\n",
              "      <td>Living Environment</td>\n",
              "      <td>2016</td>\n",
              "      <td>9</td>\n",
              "      <td>74.0</td>\n",
              "      <td>1.0</td>\n",
              "      <td>11.1</td>\n",
              "      <td>8.0</td>\n",
              "      <td>88.9</td>\n",
              "      <td>2.0</td>\n",
              "      <td>22.2</td>\n",
              "      <td>NaN</td>\n",
              "      <td>NaN</td>\n",
              "    </tr>\n",
              "    <tr>\n",
              "      <th>3</th>\n",
              "      <td>01M140</td>\n",
              "      <td>P.S. 140 Nathan Straus</td>\n",
              "      <td>K-8</td>\n",
              "      <td>Common Core Algebra</td>\n",
              "      <td>2016</td>\n",
              "      <td>3</td>\n",
              "      <td>NaN</td>\n",
              "      <td>NaN</td>\n",
              "      <td>NaN</td>\n",
              "      <td>NaN</td>\n",
              "      <td>NaN</td>\n",
              "      <td>NaN</td>\n",
              "      <td>NaN</td>\n",
              "      <td>NaN</td>\n",
              "      <td>NaN</td>\n",
              "    </tr>\n",
              "    <tr>\n",
              "      <th>4</th>\n",
              "      <td>01M140</td>\n",
              "      <td>P.S. 140 Nathan Straus</td>\n",
              "      <td>K-8</td>\n",
              "      <td>Common Core Algebra</td>\n",
              "      <td>2017</td>\n",
              "      <td>2</td>\n",
              "      <td>NaN</td>\n",
              "      <td>NaN</td>\n",
              "      <td>NaN</td>\n",
              "      <td>NaN</td>\n",
              "      <td>NaN</td>\n",
              "      <td>NaN</td>\n",
              "      <td>NaN</td>\n",
              "      <td>NaN</td>\n",
              "      <td>NaN</td>\n",
              "    </tr>\n",
              "  </tbody>\n",
              "</table>\n",
              "</div>"
            ],
            "text/plain": [
              "  School DBN  ... Percent Scoring CR\n",
              "0     01M034  ...                NaN\n",
              "1     01M034  ...                NaN\n",
              "2     01M034  ...                NaN\n",
              "3     01M140  ...                NaN\n",
              "4     01M140  ...                NaN\n",
              "\n",
              "[5 rows x 15 columns]"
            ]
          },
          "metadata": {
            "tags": []
          },
          "execution_count": 37
        }
      ]
    },
    {
      "cell_type": "code",
      "metadata": {
        "colab": {
          "base_uri": "https://localhost:8080/",
          "height": 486
        },
        "id": "H5yaMwu67x17",
        "outputId": "9ed0b789-fff7-43cf-bc48-948a02729da4"
      },
      "source": [
        "# DROP ROWS WITH 9 MISSING VALUES - TOTAL TESTED TO PERCENT SCORING CR\n",
        "# college readiness - last 2 columns, have many NANs but will keep to get some general idea of college readiness\n",
        "\n",
        "df = df.dropna(thresh=9)\n",
        "df.head()"
      ],
      "execution_count": 38,
      "outputs": [
        {
          "output_type": "execute_result",
          "data": {
            "text/html": [
              "<div>\n",
              "<style scoped>\n",
              "    .dataframe tbody tr th:only-of-type {\n",
              "        vertical-align: middle;\n",
              "    }\n",
              "\n",
              "    .dataframe tbody tr th {\n",
              "        vertical-align: top;\n",
              "    }\n",
              "\n",
              "    .dataframe thead th {\n",
              "        text-align: right;\n",
              "    }\n",
              "</style>\n",
              "<table border=\"1\" class=\"dataframe\">\n",
              "  <thead>\n",
              "    <tr style=\"text-align: right;\">\n",
              "      <th></th>\n",
              "      <th>School DBN</th>\n",
              "      <th>School Name</th>\n",
              "      <th>School Level</th>\n",
              "      <th>Regents Exam</th>\n",
              "      <th>Year</th>\n",
              "      <th>Total Tested</th>\n",
              "      <th>Mean Score</th>\n",
              "      <th>Number Scoring Below 65</th>\n",
              "      <th>Percent Scoring Below 65</th>\n",
              "      <th>Number Scoring 65 or Above</th>\n",
              "      <th>Percent Scoring 65 or Above</th>\n",
              "      <th>Number Scoring 80 or Above</th>\n",
              "      <th>Percent Scoring 80 or Above</th>\n",
              "      <th>Number Scoring CR</th>\n",
              "      <th>Percent Scoring CR</th>\n",
              "    </tr>\n",
              "  </thead>\n",
              "  <tbody>\n",
              "    <tr>\n",
              "      <th>1</th>\n",
              "      <td>01M034</td>\n",
              "      <td>P.S. 034 Franklin D. Roosevelt</td>\n",
              "      <td>K-8</td>\n",
              "      <td>Living Environment</td>\n",
              "      <td>2015</td>\n",
              "      <td>16</td>\n",
              "      <td>77.9</td>\n",
              "      <td>1.0</td>\n",
              "      <td>6.3</td>\n",
              "      <td>15.0</td>\n",
              "      <td>93.8</td>\n",
              "      <td>7.0</td>\n",
              "      <td>43.8</td>\n",
              "      <td>NaN</td>\n",
              "      <td>NaN</td>\n",
              "    </tr>\n",
              "    <tr>\n",
              "      <th>2</th>\n",
              "      <td>01M034</td>\n",
              "      <td>P.S. 034 Franklin D. Roosevelt</td>\n",
              "      <td>K-8</td>\n",
              "      <td>Living Environment</td>\n",
              "      <td>2016</td>\n",
              "      <td>9</td>\n",
              "      <td>74.0</td>\n",
              "      <td>1.0</td>\n",
              "      <td>11.1</td>\n",
              "      <td>8.0</td>\n",
              "      <td>88.9</td>\n",
              "      <td>2.0</td>\n",
              "      <td>22.2</td>\n",
              "      <td>NaN</td>\n",
              "      <td>NaN</td>\n",
              "    </tr>\n",
              "    <tr>\n",
              "      <th>5</th>\n",
              "      <td>01M140</td>\n",
              "      <td>P.S. 140 Nathan Straus</td>\n",
              "      <td>K-8</td>\n",
              "      <td>Living Environment</td>\n",
              "      <td>2015</td>\n",
              "      <td>9</td>\n",
              "      <td>67.4</td>\n",
              "      <td>3.0</td>\n",
              "      <td>33.3</td>\n",
              "      <td>6.0</td>\n",
              "      <td>66.7</td>\n",
              "      <td>0.0</td>\n",
              "      <td>0.0</td>\n",
              "      <td>NaN</td>\n",
              "      <td>NaN</td>\n",
              "    </tr>\n",
              "    <tr>\n",
              "      <th>6</th>\n",
              "      <td>01M140</td>\n",
              "      <td>P.S. 140 Nathan Straus</td>\n",
              "      <td>K-8</td>\n",
              "      <td>Living Environment</td>\n",
              "      <td>2016</td>\n",
              "      <td>15</td>\n",
              "      <td>72.6</td>\n",
              "      <td>2.0</td>\n",
              "      <td>13.3</td>\n",
              "      <td>13.0</td>\n",
              "      <td>86.7</td>\n",
              "      <td>5.0</td>\n",
              "      <td>33.3</td>\n",
              "      <td>NaN</td>\n",
              "      <td>NaN</td>\n",
              "    </tr>\n",
              "    <tr>\n",
              "      <th>7</th>\n",
              "      <td>01M140</td>\n",
              "      <td>P.S. 140 Nathan Straus</td>\n",
              "      <td>K-8</td>\n",
              "      <td>Living Environment</td>\n",
              "      <td>2017</td>\n",
              "      <td>9</td>\n",
              "      <td>64.4</td>\n",
              "      <td>5.0</td>\n",
              "      <td>55.6</td>\n",
              "      <td>4.0</td>\n",
              "      <td>44.4</td>\n",
              "      <td>1.0</td>\n",
              "      <td>11.1</td>\n",
              "      <td>NaN</td>\n",
              "      <td>NaN</td>\n",
              "    </tr>\n",
              "  </tbody>\n",
              "</table>\n",
              "</div>"
            ],
            "text/plain": [
              "  School DBN  ... Percent Scoring CR\n",
              "1     01M034  ...                NaN\n",
              "2     01M034  ...                NaN\n",
              "5     01M140  ...                NaN\n",
              "6     01M140  ...                NaN\n",
              "7     01M140  ...                NaN\n",
              "\n",
              "[5 rows x 15 columns]"
            ]
          },
          "metadata": {
            "tags": []
          },
          "execution_count": 38
        }
      ]
    },
    {
      "cell_type": "code",
      "metadata": {
        "id": "wlP8ThsSC7C4"
      },
      "source": [
        "\n",
        "# RENAME COLUMNS 13, 14 - LAST TWO COLUMNS - TO MAKE THEM CLEARER\n",
        "df = df.rename(columns={'Number Scoring CR': 'Number Scoring College Readiness', 'Percent Scoring CR': 'Percent Scoring College Readiness'})\n"
      ],
      "execution_count": 39,
      "outputs": []
    },
    {
      "cell_type": "code",
      "metadata": {
        "colab": {
          "base_uri": "https://localhost:8080/"
        },
        "id": "gW156n1KMV4B",
        "outputId": "b0596eb5-e088-447b-d42c-2fd8d4466fc5"
      },
      "source": [
        "\n",
        "# CHECK DATA TYPES\n",
        "df.info()"
      ],
      "execution_count": 40,
      "outputs": [
        {
          "output_type": "stream",
          "text": [
            "<class 'pandas.core.frame.DataFrame'>\n",
            "Int64Index: 137109 entries, 1 to 212325\n",
            "Data columns (total 15 columns):\n",
            " #   Column                             Non-Null Count   Dtype  \n",
            "---  ------                             --------------   -----  \n",
            " 0   School DBN                         137109 non-null  object \n",
            " 1   School Name                        137109 non-null  object \n",
            " 2   School Level                       137109 non-null  object \n",
            " 3   Regents Exam                       137101 non-null  object \n",
            " 4   Year                               137109 non-null  int64  \n",
            " 5   Total Tested                       137109 non-null  int64  \n",
            " 6   Mean Score                         137109 non-null  float64\n",
            " 7   Number Scoring Below 65            137109 non-null  float64\n",
            " 8   Percent Scoring Below 65           137109 non-null  float64\n",
            " 9   Number Scoring 65 or Above         137109 non-null  float64\n",
            " 10  Percent Scoring 65 or Above        137109 non-null  float64\n",
            " 11  Number Scoring 80 or Above         137109 non-null  float64\n",
            " 12  Percent Scoring 80 or Above        137109 non-null  float64\n",
            " 13  Number Scoring College Readiness   69651 non-null   float64\n",
            " 14  Percent Scoring College Readiness  69651 non-null   float64\n",
            "dtypes: float64(9), int64(2), object(4)\n",
            "memory usage: 16.7+ MB\n"
          ],
          "name": "stdout"
        }
      ]
    },
    {
      "cell_type": "code",
      "metadata": {
        "colab": {
          "base_uri": "https://localhost:8080/"
        },
        "id": "IZvKruiGaUix",
        "outputId": "04bede0d-fea9-4fcd-9235-286275f4e6b1"
      },
      "source": [
        "# PRINT UNIQUE VARIABLES\n",
        "\n",
        "print(pd.unique(df['Year']))"
      ],
      "execution_count": 41,
      "outputs": [
        {
          "output_type": "stream",
          "text": [
            "[2015 2016 2017]\n"
          ],
          "name": "stdout"
        }
      ]
    },
    {
      "cell_type": "code",
      "metadata": {
        "colab": {
          "base_uri": "https://localhost:8080/"
        },
        "id": "zNXPS0NXjDy_",
        "outputId": "b9fdd3f4-c2a1-4887-d0db-7e0a652b27e1"
      },
      "source": [
        "print(pd.unique(df['Regents Exam']))"
      ],
      "execution_count": 42,
      "outputs": [
        {
          "output_type": "stream",
          "text": [
            "['Living Environment' 'Common Core Algebra' 'Common Core Algebra2'\n",
            " 'Common Core English' 'Common Core Geometry' 'English' 'Geometry'\n",
            " 'Global History and Geography' 'Integrated Algebra'\n",
            " 'Physical Settings/Earth Science' 'U.S. History and Government'\n",
            " 'Algebra2/Trigonometry' 'Physical Settings/Chemistry'\n",
            " 'Physical Settings/Physics' nan]\n"
          ],
          "name": "stdout"
        }
      ]
    },
    {
      "cell_type": "code",
      "metadata": {
        "colab": {
          "base_uri": "https://localhost:8080/"
        },
        "id": "4H7Ob8TtjeNQ",
        "outputId": "947108da-7e91-4778-dd35-f71a45689782"
      },
      "source": [
        "print(pd.unique(df['School Level']))"
      ],
      "execution_count": 43,
      "outputs": [
        {
          "output_type": "stream",
          "text": [
            "['K-8' 'High school' 'Junior High-Intermediate-Middle' 'Secondary School'\n",
            " 'K-12 all grades' 'Elementary']\n"
          ],
          "name": "stdout"
        }
      ]
    },
    {
      "cell_type": "code",
      "metadata": {
        "id": "gBJMFyW2ieKc"
      },
      "source": [
        ""
      ],
      "execution_count": 43,
      "outputs": []
    },
    {
      "cell_type": "code",
      "metadata": {
        "colab": {
          "base_uri": "https://localhost:8080/"
        },
        "id": "rs7MbcoqAX1A",
        "outputId": "48df1065-6076-4bf1-e8ec-d735f9cb11a4"
      },
      "source": [
        "df.isnull().sum()"
      ],
      "execution_count": 44,
      "outputs": [
        {
          "output_type": "execute_result",
          "data": {
            "text/plain": [
              "School DBN                               0\n",
              "School Name                              0\n",
              "School Level                             0\n",
              "Regents Exam                             8\n",
              "Year                                     0\n",
              "Total Tested                             0\n",
              "Mean Score                               0\n",
              "Number Scoring Below 65                  0\n",
              "Percent Scoring Below 65                 0\n",
              "Number Scoring 65 or Above               0\n",
              "Percent Scoring 65 or Above              0\n",
              "Number Scoring 80 or Above               0\n",
              "Percent Scoring 80 or Above              0\n",
              "Number Scoring College Readiness     67458\n",
              "Percent Scoring College Readiness    67458\n",
              "dtype: int64"
            ]
          },
          "metadata": {
            "tags": []
          },
          "execution_count": 44
        }
      ]
    },
    {
      "cell_type": "code",
      "metadata": {
        "id": "v1II11U9LUUB",
        "colab": {
          "base_uri": "https://localhost:8080/",
          "height": 372
        },
        "outputId": "d53a767d-b687-4412-c2fc-1e221c30812a"
      },
      "source": [
        "df.describe()"
      ],
      "execution_count": 45,
      "outputs": [
        {
          "output_type": "execute_result",
          "data": {
            "text/html": [
              "<div>\n",
              "<style scoped>\n",
              "    .dataframe tbody tr th:only-of-type {\n",
              "        vertical-align: middle;\n",
              "    }\n",
              "\n",
              "    .dataframe tbody tr th {\n",
              "        vertical-align: top;\n",
              "    }\n",
              "\n",
              "    .dataframe thead th {\n",
              "        text-align: right;\n",
              "    }\n",
              "</style>\n",
              "<table border=\"1\" class=\"dataframe\">\n",
              "  <thead>\n",
              "    <tr style=\"text-align: right;\">\n",
              "      <th></th>\n",
              "      <th>Year</th>\n",
              "      <th>Total Tested</th>\n",
              "      <th>Mean Score</th>\n",
              "      <th>Number Scoring Below 65</th>\n",
              "      <th>Percent Scoring Below 65</th>\n",
              "      <th>Number Scoring 65 or Above</th>\n",
              "      <th>Percent Scoring 65 or Above</th>\n",
              "      <th>Number Scoring 80 or Above</th>\n",
              "      <th>Percent Scoring 80 or Above</th>\n",
              "      <th>Number Scoring College Readiness</th>\n",
              "      <th>Percent Scoring College Readiness</th>\n",
              "    </tr>\n",
              "  </thead>\n",
              "  <tbody>\n",
              "    <tr>\n",
              "      <th>count</th>\n",
              "      <td>137109.000000</td>\n",
              "      <td>137109.000000</td>\n",
              "      <td>137109.000000</td>\n",
              "      <td>137109.000000</td>\n",
              "      <td>137109.000000</td>\n",
              "      <td>137109.000000</td>\n",
              "      <td>137109.000000</td>\n",
              "      <td>137109.000000</td>\n",
              "      <td>137109.000000</td>\n",
              "      <td>69651.000000</td>\n",
              "      <td>69651.000000</td>\n",
              "    </tr>\n",
              "    <tr>\n",
              "      <th>mean</th>\n",
              "      <td>2015.957574</td>\n",
              "      <td>71.583813</td>\n",
              "      <td>65.998967</td>\n",
              "      <td>25.140297</td>\n",
              "      <td>41.933632</td>\n",
              "      <td>46.443516</td>\n",
              "      <td>58.067855</td>\n",
              "      <td>20.506655</td>\n",
              "      <td>22.692027</td>\n",
              "      <td>29.959340</td>\n",
              "      <td>36.213730</td>\n",
              "    </tr>\n",
              "    <tr>\n",
              "      <th>std</th>\n",
              "      <td>0.809287</td>\n",
              "      <td>107.834374</td>\n",
              "      <td>11.288883</td>\n",
              "      <td>37.155199</td>\n",
              "      <td>28.405737</td>\n",
              "      <td>85.187123</td>\n",
              "      <td>28.405517</td>\n",
              "      <td>56.301578</td>\n",
              "      <td>26.160987</td>\n",
              "      <td>68.306798</td>\n",
              "      <td>31.092605</td>\n",
              "    </tr>\n",
              "    <tr>\n",
              "      <th>min</th>\n",
              "      <td>2015.000000</td>\n",
              "      <td>6.000000</td>\n",
              "      <td>15.000000</td>\n",
              "      <td>0.000000</td>\n",
              "      <td>0.000000</td>\n",
              "      <td>0.000000</td>\n",
              "      <td>0.000000</td>\n",
              "      <td>0.000000</td>\n",
              "      <td>0.000000</td>\n",
              "      <td>0.000000</td>\n",
              "      <td>0.000000</td>\n",
              "    </tr>\n",
              "    <tr>\n",
              "      <th>25%</th>\n",
              "      <td>2015.000000</td>\n",
              "      <td>18.000000</td>\n",
              "      <td>58.300000</td>\n",
              "      <td>5.000000</td>\n",
              "      <td>17.500000</td>\n",
              "      <td>8.000000</td>\n",
              "      <td>36.000000</td>\n",
              "      <td>1.000000</td>\n",
              "      <td>2.200000</td>\n",
              "      <td>2.000000</td>\n",
              "      <td>8.800000</td>\n",
              "    </tr>\n",
              "    <tr>\n",
              "      <th>50%</th>\n",
              "      <td>2016.000000</td>\n",
              "      <td>39.000000</td>\n",
              "      <td>65.400000</td>\n",
              "      <td>13.000000</td>\n",
              "      <td>40.200000</td>\n",
              "      <td>21.000000</td>\n",
              "      <td>59.800000</td>\n",
              "      <td>5.000000</td>\n",
              "      <td>12.500000</td>\n",
              "      <td>9.000000</td>\n",
              "      <td>29.000000</td>\n",
              "    </tr>\n",
              "    <tr>\n",
              "      <th>75%</th>\n",
              "      <td>2017.000000</td>\n",
              "      <td>82.000000</td>\n",
              "      <td>73.400000</td>\n",
              "      <td>31.000000</td>\n",
              "      <td>64.000000</td>\n",
              "      <td>52.000000</td>\n",
              "      <td>82.500000</td>\n",
              "      <td>18.000000</td>\n",
              "      <td>34.500000</td>\n",
              "      <td>31.000000</td>\n",
              "      <td>58.800000</td>\n",
              "    </tr>\n",
              "    <tr>\n",
              "      <th>max</th>\n",
              "      <td>2017.000000</td>\n",
              "      <td>1729.000000</td>\n",
              "      <td>98.700000</td>\n",
              "      <td>697.000000</td>\n",
              "      <td>100.000000</td>\n",
              "      <td>1607.000000</td>\n",
              "      <td>100.000000</td>\n",
              "      <td>1365.000000</td>\n",
              "      <td>100.000000</td>\n",
              "      <td>1465.000000</td>\n",
              "      <td>100.000000</td>\n",
              "    </tr>\n",
              "  </tbody>\n",
              "</table>\n",
              "</div>"
            ],
            "text/plain": [
              "                Year  ...  Percent Scoring College Readiness\n",
              "count  137109.000000  ...                       69651.000000\n",
              "mean     2015.957574  ...                          36.213730\n",
              "std         0.809287  ...                          31.092605\n",
              "min      2015.000000  ...                           0.000000\n",
              "25%      2015.000000  ...                           8.800000\n",
              "50%      2016.000000  ...                          29.000000\n",
              "75%      2017.000000  ...                          58.800000\n",
              "max      2017.000000  ...                         100.000000\n",
              "\n",
              "[8 rows x 11 columns]"
            ]
          },
          "metadata": {
            "tags": []
          },
          "execution_count": 45
        }
      ]
    },
    {
      "cell_type": "code",
      "metadata": {
        "id": "K7AXVnRhesDT"
      },
      "source": [
        ""
      ],
      "execution_count": 45,
      "outputs": []
    },
    {
      "cell_type": "code",
      "metadata": {
        "colab": {
          "base_uri": "https://localhost:8080/"
        },
        "id": "vdEx8cUkflnu",
        "outputId": "e0c72756-6ec3-417e-ab14-5693bce78e19"
      },
      "source": [
        "# Average of Mean Score over all schools and subjects, by year\n",
        "# scores steady with slight improvement in 2017\n",
        "df.groupby(['Year'])['Mean Score'].mean()\n"
      ],
      "execution_count": 46,
      "outputs": [
        {
          "output_type": "execute_result",
          "data": {
            "text/plain": [
              "Year\n",
              "2015    65.721566\n",
              "2016    65.646636\n",
              "2017    66.708425\n",
              "Name: Mean Score, dtype: float64"
            ]
          },
          "metadata": {
            "tags": []
          },
          "execution_count": 46
        }
      ]
    },
    {
      "cell_type": "code",
      "metadata": {
        "colab": {
          "base_uri": "https://localhost:8080/"
        },
        "id": "phkUz4N09Jan",
        "outputId": "b88bf38c-bc90-44ca-963f-6595b9e0dbf9"
      },
      "source": [
        "# Average of Mean Scores over all subjects, for High schools\n",
        "df[df['School Level'] == 'High school']['Mean Score'].mean()"
      ],
      "execution_count": 47,
      "outputs": [
        {
          "output_type": "execute_result",
          "data": {
            "text/plain": [
              "64.39989497671436"
            ]
          },
          "metadata": {
            "tags": []
          },
          "execution_count": 47
        }
      ]
    },
    {
      "cell_type": "code",
      "metadata": {
        "colab": {
          "base_uri": "https://localhost:8080/"
        },
        "id": "h8AQ63bLhUa3",
        "outputId": "3aabd8c6-5aa7-45c7-b8cb-3564fe00586a"
      },
      "source": [
        "# Average of mean scores over all subjects for high schools, grouped by year\n",
        "# scores steady with slight improvement in 2017\n",
        "df[df['School Level'] == 'High school'].groupby(['Year'])['Mean Score'].mean()"
      ],
      "execution_count": 48,
      "outputs": [
        {
          "output_type": "execute_result",
          "data": {
            "text/plain": [
              "Year\n",
              "2015    64.417958\n",
              "2016    63.944899\n",
              "2017    64.908444\n",
              "Name: Mean Score, dtype: float64"
            ]
          },
          "metadata": {
            "tags": []
          },
          "execution_count": 48
        }
      ]
    },
    {
      "cell_type": "code",
      "metadata": {
        "id": "VcqkSPdTHss-"
      },
      "source": [
        ""
      ],
      "execution_count": 48,
      "outputs": []
    },
    {
      "cell_type": "code",
      "metadata": {
        "colab": {
          "base_uri": "https://localhost:8080/"
        },
        "id": "WCowCN5A9eb3",
        "outputId": "81317a00-4411-4f73-f41e-a9d66707d100"
      },
      "source": [
        "# Average of mean scores for Algebra2/Trigonometry for high schools, grouped by year\n",
        "# Note-even though this gave a result, not sure it is correct - seem like too many rows - 100930\n",
        "\n",
        "df[df['School Level'] == 'High school'],df[df['Regents Exam'] == 'Algebra2/Trigonometry'].groupby(['Year'])['Mean Score'].mean()\n"
      ],
      "execution_count": 49,
      "outputs": [
        {
          "output_type": "execute_result",
          "data": {
            "text/plain": [
              "(       School DBN  ... Percent Scoring College Readiness\n",
              " 20         01M292  ...                               0.0\n",
              " 21         01M292  ...                              30.0\n",
              " 22         01M292  ...                              54.7\n",
              " 23         01M292  ...                               0.0\n",
              " 25         01M292  ...                              32.4\n",
              " ...           ...  ...                               ...\n",
              " 212088     84X553  ...                               NaN\n",
              " 212089     84X553  ...                               NaN\n",
              " 212093     84X553  ...                               NaN\n",
              " 212094     84X553  ...                               NaN\n",
              " 212099     84X581  ...                               NaN\n",
              " \n",
              " [100930 rows x 15 columns], Year\n",
              " 2015    57.276965\n",
              " 2016    56.382823\n",
              " 2017    52.847756\n",
              " Name: Mean Score, dtype: float64)"
            ]
          },
          "metadata": {
            "tags": []
          },
          "execution_count": 49
        }
      ]
    },
    {
      "cell_type": "code",
      "metadata": {
        "colab": {
          "base_uri": "https://localhost:8080/",
          "height": 372
        },
        "id": "2i9Po70KFfhB",
        "outputId": "f57d2e00-608b-4d4e-c11b-c7231287baa2"
      },
      "source": [
        "#HIGH SCHOOLS\n",
        "HighSchools = df[df['School Level'] == 'High school']\n",
        "HighSchools.head(3)\n",
        "HighSchools.describe()\n"
      ],
      "execution_count": 50,
      "outputs": [
        {
          "output_type": "execute_result",
          "data": {
            "text/html": [
              "<div>\n",
              "<style scoped>\n",
              "    .dataframe tbody tr th:only-of-type {\n",
              "        vertical-align: middle;\n",
              "    }\n",
              "\n",
              "    .dataframe tbody tr th {\n",
              "        vertical-align: top;\n",
              "    }\n",
              "\n",
              "    .dataframe thead th {\n",
              "        text-align: right;\n",
              "    }\n",
              "</style>\n",
              "<table border=\"1\" class=\"dataframe\">\n",
              "  <thead>\n",
              "    <tr style=\"text-align: right;\">\n",
              "      <th></th>\n",
              "      <th>Year</th>\n",
              "      <th>Total Tested</th>\n",
              "      <th>Mean Score</th>\n",
              "      <th>Number Scoring Below 65</th>\n",
              "      <th>Percent Scoring Below 65</th>\n",
              "      <th>Number Scoring 65 or Above</th>\n",
              "      <th>Percent Scoring 65 or Above</th>\n",
              "      <th>Number Scoring 80 or Above</th>\n",
              "      <th>Percent Scoring 80 or Above</th>\n",
              "      <th>Number Scoring College Readiness</th>\n",
              "      <th>Percent Scoring College Readiness</th>\n",
              "    </tr>\n",
              "  </thead>\n",
              "  <tbody>\n",
              "    <tr>\n",
              "      <th>count</th>\n",
              "      <td>100930.000000</td>\n",
              "      <td>100930.000000</td>\n",
              "      <td>100930.000000</td>\n",
              "      <td>100930.000000</td>\n",
              "      <td>100930.000000</td>\n",
              "      <td>100930.000000</td>\n",
              "      <td>100930.000000</td>\n",
              "      <td>100930.000000</td>\n",
              "      <td>100930.000000</td>\n",
              "      <td>51459.000000</td>\n",
              "      <td>51459.000000</td>\n",
              "    </tr>\n",
              "    <tr>\n",
              "      <th>mean</th>\n",
              "      <td>2015.943278</td>\n",
              "      <td>80.544536</td>\n",
              "      <td>64.399895</td>\n",
              "      <td>29.440137</td>\n",
              "      <td>45.859519</td>\n",
              "      <td>51.104399</td>\n",
              "      <td>54.141966</td>\n",
              "      <td>22.022243</td>\n",
              "      <td>19.309966</td>\n",
              "      <td>31.917060</td>\n",
              "      <td>31.091966</td>\n",
              "    </tr>\n",
              "    <tr>\n",
              "      <th>std</th>\n",
              "      <td>0.805970</td>\n",
              "      <td>121.699059</td>\n",
              "      <td>10.837816</td>\n",
              "      <td>41.083150</td>\n",
              "      <td>27.497200</td>\n",
              "      <td>96.517160</td>\n",
              "      <td>27.496950</td>\n",
              "      <td>63.740971</td>\n",
              "      <td>23.528431</td>\n",
              "      <td>77.038042</td>\n",
              "      <td>28.204015</td>\n",
              "    </tr>\n",
              "    <tr>\n",
              "      <th>min</th>\n",
              "      <td>2015.000000</td>\n",
              "      <td>6.000000</td>\n",
              "      <td>15.000000</td>\n",
              "      <td>0.000000</td>\n",
              "      <td>0.000000</td>\n",
              "      <td>0.000000</td>\n",
              "      <td>0.000000</td>\n",
              "      <td>0.000000</td>\n",
              "      <td>0.000000</td>\n",
              "      <td>0.000000</td>\n",
              "      <td>0.000000</td>\n",
              "    </tr>\n",
              "    <tr>\n",
              "      <th>25%</th>\n",
              "      <td>2015.000000</td>\n",
              "      <td>19.000000</td>\n",
              "      <td>57.200000</td>\n",
              "      <td>7.000000</td>\n",
              "      <td>23.500000</td>\n",
              "      <td>7.000000</td>\n",
              "      <td>33.300000</td>\n",
              "      <td>1.000000</td>\n",
              "      <td>1.300000</td>\n",
              "      <td>2.000000</td>\n",
              "      <td>6.800000</td>\n",
              "    </tr>\n",
              "    <tr>\n",
              "      <th>50%</th>\n",
              "      <td>2016.000000</td>\n",
              "      <td>43.000000</td>\n",
              "      <td>63.900000</td>\n",
              "      <td>16.000000</td>\n",
              "      <td>45.000000</td>\n",
              "      <td>21.000000</td>\n",
              "      <td>55.000000</td>\n",
              "      <td>4.000000</td>\n",
              "      <td>10.200000</td>\n",
              "      <td>8.000000</td>\n",
              "      <td>23.800000</td>\n",
              "    </tr>\n",
              "    <tr>\n",
              "      <th>75%</th>\n",
              "      <td>2017.000000</td>\n",
              "      <td>91.000000</td>\n",
              "      <td>71.000000</td>\n",
              "      <td>36.000000</td>\n",
              "      <td>66.700000</td>\n",
              "      <td>55.000000</td>\n",
              "      <td>76.500000</td>\n",
              "      <td>17.000000</td>\n",
              "      <td>28.600000</td>\n",
              "      <td>30.000000</td>\n",
              "      <td>50.000000</td>\n",
              "    </tr>\n",
              "    <tr>\n",
              "      <th>max</th>\n",
              "      <td>2017.000000</td>\n",
              "      <td>1729.000000</td>\n",
              "      <td>98.700000</td>\n",
              "      <td>697.000000</td>\n",
              "      <td>100.000000</td>\n",
              "      <td>1607.000000</td>\n",
              "      <td>100.000000</td>\n",
              "      <td>1365.000000</td>\n",
              "      <td>100.000000</td>\n",
              "      <td>1465.000000</td>\n",
              "      <td>100.000000</td>\n",
              "    </tr>\n",
              "  </tbody>\n",
              "</table>\n",
              "</div>"
            ],
            "text/plain": [
              "                Year  ...  Percent Scoring College Readiness\n",
              "count  100930.000000  ...                       51459.000000\n",
              "mean     2015.943278  ...                          31.091966\n",
              "std         0.805970  ...                          28.204015\n",
              "min      2015.000000  ...                           0.000000\n",
              "25%      2015.000000  ...                           6.800000\n",
              "50%      2016.000000  ...                          23.800000\n",
              "75%      2017.000000  ...                          50.000000\n",
              "max      2017.000000  ...                         100.000000\n",
              "\n",
              "[8 rows x 11 columns]"
            ]
          },
          "metadata": {
            "tags": []
          },
          "execution_count": 50
        }
      ]
    },
    {
      "cell_type": "code",
      "metadata": {
        "colab": {
          "base_uri": "https://localhost:8080/",
          "height": 842
        },
        "id": "RPb3Oud40K8N",
        "outputId": "40ce0def-7c25-4752-f7c3-040ae69d6170"
      },
      "source": [
        "\n",
        "# STUYVESANT HIGH SCHOOL\n",
        "Stuyvesant = df[df['School DBN'] == '02M475']\n",
        "Stuyvesant"
      ],
      "execution_count": 51,
      "outputs": [
        {
          "output_type": "execute_result",
          "data": {
            "text/html": [
              "<div>\n",
              "<style scoped>\n",
              "    .dataframe tbody tr th:only-of-type {\n",
              "        vertical-align: middle;\n",
              "    }\n",
              "\n",
              "    .dataframe tbody tr th {\n",
              "        vertical-align: top;\n",
              "    }\n",
              "\n",
              "    .dataframe thead th {\n",
              "        text-align: right;\n",
              "    }\n",
              "</style>\n",
              "<table border=\"1\" class=\"dataframe\">\n",
              "  <thead>\n",
              "    <tr style=\"text-align: right;\">\n",
              "      <th></th>\n",
              "      <th>School DBN</th>\n",
              "      <th>School Name</th>\n",
              "      <th>School Level</th>\n",
              "      <th>Regents Exam</th>\n",
              "      <th>Year</th>\n",
              "      <th>Total Tested</th>\n",
              "      <th>Mean Score</th>\n",
              "      <th>Number Scoring Below 65</th>\n",
              "      <th>Percent Scoring Below 65</th>\n",
              "      <th>Number Scoring 65 or Above</th>\n",
              "      <th>Percent Scoring 65 or Above</th>\n",
              "      <th>Number Scoring 80 or Above</th>\n",
              "      <th>Percent Scoring 80 or Above</th>\n",
              "      <th>Number Scoring College Readiness</th>\n",
              "      <th>Percent Scoring College Readiness</th>\n",
              "    </tr>\n",
              "  </thead>\n",
              "  <tbody>\n",
              "    <tr>\n",
              "      <th>1511</th>\n",
              "      <td>02M475</td>\n",
              "      <td>Stuyvesant High School</td>\n",
              "      <td>High school</td>\n",
              "      <td>Algebra2/Trigonometry</td>\n",
              "      <td>2015</td>\n",
              "      <td>875</td>\n",
              "      <td>92.9</td>\n",
              "      <td>8.0</td>\n",
              "      <td>0.9</td>\n",
              "      <td>867.0</td>\n",
              "      <td>99.1</td>\n",
              "      <td>819.0</td>\n",
              "      <td>93.6</td>\n",
              "      <td>819.0</td>\n",
              "      <td>93.6</td>\n",
              "    </tr>\n",
              "    <tr>\n",
              "      <th>1512</th>\n",
              "      <td>02M475</td>\n",
              "      <td>Stuyvesant High School</td>\n",
              "      <td>High school</td>\n",
              "      <td>Algebra2/Trigonometry</td>\n",
              "      <td>2016</td>\n",
              "      <td>792</td>\n",
              "      <td>93.1</td>\n",
              "      <td>5.0</td>\n",
              "      <td>0.6</td>\n",
              "      <td>787.0</td>\n",
              "      <td>99.4</td>\n",
              "      <td>743.0</td>\n",
              "      <td>93.8</td>\n",
              "      <td>743.0</td>\n",
              "      <td>93.8</td>\n",
              "    </tr>\n",
              "    <tr>\n",
              "      <th>1513</th>\n",
              "      <td>02M475</td>\n",
              "      <td>Stuyvesant High School</td>\n",
              "      <td>High school</td>\n",
              "      <td>Common Core Algebra</td>\n",
              "      <td>2015</td>\n",
              "      <td>35</td>\n",
              "      <td>82.3</td>\n",
              "      <td>0.0</td>\n",
              "      <td>0.0</td>\n",
              "      <td>35.0</td>\n",
              "      <td>100.0</td>\n",
              "      <td>20.0</td>\n",
              "      <td>57.1</td>\n",
              "      <td>34.0</td>\n",
              "      <td>97.1</td>\n",
              "    </tr>\n",
              "    <tr>\n",
              "      <th>1514</th>\n",
              "      <td>02M475</td>\n",
              "      <td>Stuyvesant High School</td>\n",
              "      <td>High school</td>\n",
              "      <td>Common Core Algebra</td>\n",
              "      <td>2016</td>\n",
              "      <td>144</td>\n",
              "      <td>89.5</td>\n",
              "      <td>0.0</td>\n",
              "      <td>0.0</td>\n",
              "      <td>144.0</td>\n",
              "      <td>100.0</td>\n",
              "      <td>142.0</td>\n",
              "      <td>98.6</td>\n",
              "      <td>144.0</td>\n",
              "      <td>100.0</td>\n",
              "    </tr>\n",
              "    <tr>\n",
              "      <th>1515</th>\n",
              "      <td>02M475</td>\n",
              "      <td>Stuyvesant High School</td>\n",
              "      <td>High school</td>\n",
              "      <td>Common Core Algebra</td>\n",
              "      <td>2017</td>\n",
              "      <td>63</td>\n",
              "      <td>93.9</td>\n",
              "      <td>0.0</td>\n",
              "      <td>0.0</td>\n",
              "      <td>63.0</td>\n",
              "      <td>100.0</td>\n",
              "      <td>63.0</td>\n",
              "      <td>100.0</td>\n",
              "      <td>63.0</td>\n",
              "      <td>100.0</td>\n",
              "    </tr>\n",
              "    <tr>\n",
              "      <th>...</th>\n",
              "      <td>...</td>\n",
              "      <td>...</td>\n",
              "      <td>...</td>\n",
              "      <td>...</td>\n",
              "      <td>...</td>\n",
              "      <td>...</td>\n",
              "      <td>...</td>\n",
              "      <td>...</td>\n",
              "      <td>...</td>\n",
              "      <td>...</td>\n",
              "      <td>...</td>\n",
              "      <td>...</td>\n",
              "      <td>...</td>\n",
              "      <td>...</td>\n",
              "      <td>...</td>\n",
              "    </tr>\n",
              "    <tr>\n",
              "      <th>146114</th>\n",
              "      <td>02M475</td>\n",
              "      <td>Stuyvesant High School</td>\n",
              "      <td>High school</td>\n",
              "      <td>U.S. History and Government</td>\n",
              "      <td>2016</td>\n",
              "      <td>20</td>\n",
              "      <td>97.4</td>\n",
              "      <td>0.0</td>\n",
              "      <td>0.0</td>\n",
              "      <td>20.0</td>\n",
              "      <td>100.0</td>\n",
              "      <td>20.0</td>\n",
              "      <td>100.0</td>\n",
              "      <td>NaN</td>\n",
              "      <td>NaN</td>\n",
              "    </tr>\n",
              "    <tr>\n",
              "      <th>146115</th>\n",
              "      <td>02M475</td>\n",
              "      <td>Stuyvesant High School</td>\n",
              "      <td>High school</td>\n",
              "      <td>U.S. History and Government</td>\n",
              "      <td>2016</td>\n",
              "      <td>141</td>\n",
              "      <td>97.2</td>\n",
              "      <td>0.0</td>\n",
              "      <td>0.0</td>\n",
              "      <td>141.0</td>\n",
              "      <td>100.0</td>\n",
              "      <td>141.0</td>\n",
              "      <td>100.0</td>\n",
              "      <td>NaN</td>\n",
              "      <td>NaN</td>\n",
              "    </tr>\n",
              "    <tr>\n",
              "      <th>146116</th>\n",
              "      <td>02M475</td>\n",
              "      <td>Stuyvesant High School</td>\n",
              "      <td>High school</td>\n",
              "      <td>U.S. History and Government</td>\n",
              "      <td>2017</td>\n",
              "      <td>571</td>\n",
              "      <td>96.7</td>\n",
              "      <td>0.0</td>\n",
              "      <td>0.0</td>\n",
              "      <td>571.0</td>\n",
              "      <td>100.0</td>\n",
              "      <td>571.0</td>\n",
              "      <td>100.0</td>\n",
              "      <td>NaN</td>\n",
              "      <td>NaN</td>\n",
              "    </tr>\n",
              "    <tr>\n",
              "      <th>146119</th>\n",
              "      <td>02M475</td>\n",
              "      <td>Stuyvesant High School</td>\n",
              "      <td>High school</td>\n",
              "      <td>U.S. History and Government</td>\n",
              "      <td>2017</td>\n",
              "      <td>29</td>\n",
              "      <td>97.2</td>\n",
              "      <td>0.0</td>\n",
              "      <td>0.0</td>\n",
              "      <td>29.0</td>\n",
              "      <td>100.0</td>\n",
              "      <td>29.0</td>\n",
              "      <td>100.0</td>\n",
              "      <td>NaN</td>\n",
              "      <td>NaN</td>\n",
              "    </tr>\n",
              "    <tr>\n",
              "      <th>146120</th>\n",
              "      <td>02M475</td>\n",
              "      <td>Stuyvesant High School</td>\n",
              "      <td>High school</td>\n",
              "      <td>U.S. History and Government</td>\n",
              "      <td>2017</td>\n",
              "      <td>110</td>\n",
              "      <td>97.3</td>\n",
              "      <td>0.0</td>\n",
              "      <td>0.0</td>\n",
              "      <td>110.0</td>\n",
              "      <td>100.0</td>\n",
              "      <td>110.0</td>\n",
              "      <td>100.0</td>\n",
              "      <td>NaN</td>\n",
              "      <td>NaN</td>\n",
              "    </tr>\n",
              "  </tbody>\n",
              "</table>\n",
              "<p>271 rows × 15 columns</p>\n",
              "</div>"
            ],
            "text/plain": [
              "       School DBN  ... Percent Scoring College Readiness\n",
              "1511       02M475  ...                              93.6\n",
              "1512       02M475  ...                              93.8\n",
              "1513       02M475  ...                              97.1\n",
              "1514       02M475  ...                             100.0\n",
              "1515       02M475  ...                             100.0\n",
              "...           ...  ...                               ...\n",
              "146114     02M475  ...                               NaN\n",
              "146115     02M475  ...                               NaN\n",
              "146116     02M475  ...                               NaN\n",
              "146119     02M475  ...                               NaN\n",
              "146120     02M475  ...                               NaN\n",
              "\n",
              "[271 rows x 15 columns]"
            ]
          },
          "metadata": {
            "tags": []
          },
          "execution_count": 51
        }
      ]
    },
    {
      "cell_type": "code",
      "metadata": {
        "colab": {
          "base_uri": "https://localhost:8080/",
          "height": 842
        },
        "id": "w9O99vFdGp9f",
        "outputId": "e64371bf-26b4-43ee-d5de-cfd5c2da6e33"
      },
      "source": [
        "Stuyvesant.sort_values(['Year', 'Regents Exam'])\n",
        "#year = 2015 has many entries for each regents subject - confusing at first,\n",
        "#follow up research suggests missing columns on demographics would explain the multiple entries for example,\n",
        "# for algebra2/trigonometry for 2015. the total tested = 875 is broken down in the subsequent rows  based on\n",
        "#differrent demographic criteria"
      ],
      "execution_count": 52,
      "outputs": [
        {
          "output_type": "execute_result",
          "data": {
            "text/html": [
              "<div>\n",
              "<style scoped>\n",
              "    .dataframe tbody tr th:only-of-type {\n",
              "        vertical-align: middle;\n",
              "    }\n",
              "\n",
              "    .dataframe tbody tr th {\n",
              "        vertical-align: top;\n",
              "    }\n",
              "\n",
              "    .dataframe thead th {\n",
              "        text-align: right;\n",
              "    }\n",
              "</style>\n",
              "<table border=\"1\" class=\"dataframe\">\n",
              "  <thead>\n",
              "    <tr style=\"text-align: right;\">\n",
              "      <th></th>\n",
              "      <th>School DBN</th>\n",
              "      <th>School Name</th>\n",
              "      <th>School Level</th>\n",
              "      <th>Regents Exam</th>\n",
              "      <th>Year</th>\n",
              "      <th>Total Tested</th>\n",
              "      <th>Mean Score</th>\n",
              "      <th>Number Scoring Below 65</th>\n",
              "      <th>Percent Scoring Below 65</th>\n",
              "      <th>Number Scoring 65 or Above</th>\n",
              "      <th>Percent Scoring 65 or Above</th>\n",
              "      <th>Number Scoring 80 or Above</th>\n",
              "      <th>Percent Scoring 80 or Above</th>\n",
              "      <th>Number Scoring College Readiness</th>\n",
              "      <th>Percent Scoring College Readiness</th>\n",
              "    </tr>\n",
              "  </thead>\n",
              "  <tbody>\n",
              "    <tr>\n",
              "      <th>1511</th>\n",
              "      <td>02M475</td>\n",
              "      <td>Stuyvesant High School</td>\n",
              "      <td>High school</td>\n",
              "      <td>Algebra2/Trigonometry</td>\n",
              "      <td>2015</td>\n",
              "      <td>875</td>\n",
              "      <td>92.9</td>\n",
              "      <td>8.0</td>\n",
              "      <td>0.9</td>\n",
              "      <td>867.0</td>\n",
              "      <td>99.1</td>\n",
              "      <td>819.0</td>\n",
              "      <td>93.6</td>\n",
              "      <td>819.0</td>\n",
              "      <td>93.6</td>\n",
              "    </tr>\n",
              "    <tr>\n",
              "      <th>22182</th>\n",
              "      <td>02M475</td>\n",
              "      <td>Stuyvesant High School</td>\n",
              "      <td>High school</td>\n",
              "      <td>Algebra2/Trigonometry</td>\n",
              "      <td>2015</td>\n",
              "      <td>869</td>\n",
              "      <td>92.9</td>\n",
              "      <td>8.0</td>\n",
              "      <td>0.9</td>\n",
              "      <td>861.0</td>\n",
              "      <td>99.1</td>\n",
              "      <td>813.0</td>\n",
              "      <td>93.6</td>\n",
              "      <td>813.0</td>\n",
              "      <td>93.6</td>\n",
              "    </tr>\n",
              "    <tr>\n",
              "      <th>22183</th>\n",
              "      <td>02M475</td>\n",
              "      <td>Stuyvesant High School</td>\n",
              "      <td>High school</td>\n",
              "      <td>Algebra2/Trigonometry</td>\n",
              "      <td>2015</td>\n",
              "      <td>6</td>\n",
              "      <td>94.5</td>\n",
              "      <td>0.0</td>\n",
              "      <td>0.0</td>\n",
              "      <td>6.0</td>\n",
              "      <td>100.0</td>\n",
              "      <td>6.0</td>\n",
              "      <td>100.0</td>\n",
              "      <td>6.0</td>\n",
              "      <td>100.0</td>\n",
              "    </tr>\n",
              "    <tr>\n",
              "      <th>58010</th>\n",
              "      <td>02M475</td>\n",
              "      <td>Stuyvesant High School</td>\n",
              "      <td>High school</td>\n",
              "      <td>Algebra2/Trigonometry</td>\n",
              "      <td>2015</td>\n",
              "      <td>643</td>\n",
              "      <td>93.1</td>\n",
              "      <td>4.0</td>\n",
              "      <td>0.6</td>\n",
              "      <td>639.0</td>\n",
              "      <td>99.4</td>\n",
              "      <td>605.0</td>\n",
              "      <td>94.1</td>\n",
              "      <td>605.0</td>\n",
              "      <td>94.1</td>\n",
              "    </tr>\n",
              "    <tr>\n",
              "      <th>58011</th>\n",
              "      <td>02M475</td>\n",
              "      <td>Stuyvesant High School</td>\n",
              "      <td>High school</td>\n",
              "      <td>Algebra2/Trigonometry</td>\n",
              "      <td>2015</td>\n",
              "      <td>232</td>\n",
              "      <td>92.4</td>\n",
              "      <td>4.0</td>\n",
              "      <td>1.7</td>\n",
              "      <td>228.0</td>\n",
              "      <td>98.3</td>\n",
              "      <td>214.0</td>\n",
              "      <td>92.2</td>\n",
              "      <td>214.0</td>\n",
              "      <td>92.2</td>\n",
              "    </tr>\n",
              "    <tr>\n",
              "      <th>...</th>\n",
              "      <td>...</td>\n",
              "      <td>...</td>\n",
              "      <td>...</td>\n",
              "      <td>...</td>\n",
              "      <td>...</td>\n",
              "      <td>...</td>\n",
              "      <td>...</td>\n",
              "      <td>...</td>\n",
              "      <td>...</td>\n",
              "      <td>...</td>\n",
              "      <td>...</td>\n",
              "      <td>...</td>\n",
              "      <td>...</td>\n",
              "      <td>...</td>\n",
              "      <td>...</td>\n",
              "    </tr>\n",
              "    <tr>\n",
              "      <th>105797</th>\n",
              "      <td>02M475</td>\n",
              "      <td>Stuyvesant High School</td>\n",
              "      <td>High school</td>\n",
              "      <td>U.S. History and Government</td>\n",
              "      <td>2017</td>\n",
              "      <td>318</td>\n",
              "      <td>97.1</td>\n",
              "      <td>0.0</td>\n",
              "      <td>0.0</td>\n",
              "      <td>318.0</td>\n",
              "      <td>100.0</td>\n",
              "      <td>318.0</td>\n",
              "      <td>100.0</td>\n",
              "      <td>NaN</td>\n",
              "      <td>NaN</td>\n",
              "    </tr>\n",
              "    <tr>\n",
              "      <th>105798</th>\n",
              "      <td>02M475</td>\n",
              "      <td>Stuyvesant High School</td>\n",
              "      <td>High school</td>\n",
              "      <td>U.S. History and Government</td>\n",
              "      <td>2017</td>\n",
              "      <td>417</td>\n",
              "      <td>96.5</td>\n",
              "      <td>0.0</td>\n",
              "      <td>0.0</td>\n",
              "      <td>417.0</td>\n",
              "      <td>100.0</td>\n",
              "      <td>417.0</td>\n",
              "      <td>100.0</td>\n",
              "      <td>NaN</td>\n",
              "      <td>NaN</td>\n",
              "    </tr>\n",
              "    <tr>\n",
              "      <th>146116</th>\n",
              "      <td>02M475</td>\n",
              "      <td>Stuyvesant High School</td>\n",
              "      <td>High school</td>\n",
              "      <td>U.S. History and Government</td>\n",
              "      <td>2017</td>\n",
              "      <td>571</td>\n",
              "      <td>96.7</td>\n",
              "      <td>0.0</td>\n",
              "      <td>0.0</td>\n",
              "      <td>571.0</td>\n",
              "      <td>100.0</td>\n",
              "      <td>571.0</td>\n",
              "      <td>100.0</td>\n",
              "      <td>NaN</td>\n",
              "      <td>NaN</td>\n",
              "    </tr>\n",
              "    <tr>\n",
              "      <th>146119</th>\n",
              "      <td>02M475</td>\n",
              "      <td>Stuyvesant High School</td>\n",
              "      <td>High school</td>\n",
              "      <td>U.S. History and Government</td>\n",
              "      <td>2017</td>\n",
              "      <td>29</td>\n",
              "      <td>97.2</td>\n",
              "      <td>0.0</td>\n",
              "      <td>0.0</td>\n",
              "      <td>29.0</td>\n",
              "      <td>100.0</td>\n",
              "      <td>29.0</td>\n",
              "      <td>100.0</td>\n",
              "      <td>NaN</td>\n",
              "      <td>NaN</td>\n",
              "    </tr>\n",
              "    <tr>\n",
              "      <th>146120</th>\n",
              "      <td>02M475</td>\n",
              "      <td>Stuyvesant High School</td>\n",
              "      <td>High school</td>\n",
              "      <td>U.S. History and Government</td>\n",
              "      <td>2017</td>\n",
              "      <td>110</td>\n",
              "      <td>97.3</td>\n",
              "      <td>0.0</td>\n",
              "      <td>0.0</td>\n",
              "      <td>110.0</td>\n",
              "      <td>100.0</td>\n",
              "      <td>110.0</td>\n",
              "      <td>100.0</td>\n",
              "      <td>NaN</td>\n",
              "      <td>NaN</td>\n",
              "    </tr>\n",
              "  </tbody>\n",
              "</table>\n",
              "<p>271 rows × 15 columns</p>\n",
              "</div>"
            ],
            "text/plain": [
              "       School DBN  ... Percent Scoring College Readiness\n",
              "1511       02M475  ...                              93.6\n",
              "22182      02M475  ...                              93.6\n",
              "22183      02M475  ...                             100.0\n",
              "58010      02M475  ...                              94.1\n",
              "58011      02M475  ...                              92.2\n",
              "...           ...  ...                               ...\n",
              "105797     02M475  ...                               NaN\n",
              "105798     02M475  ...                               NaN\n",
              "146116     02M475  ...                               NaN\n",
              "146119     02M475  ...                               NaN\n",
              "146120     02M475  ...                               NaN\n",
              "\n",
              "[271 rows x 15 columns]"
            ]
          },
          "metadata": {
            "tags": []
          },
          "execution_count": 52
        }
      ]
    },
    {
      "cell_type": "code",
      "metadata": {
        "colab": {
          "base_uri": "https://localhost:8080/"
        },
        "id": "AK-GzXjfGMbT",
        "outputId": "d21658d5-6f03-40e1-a6ee-57a643e38fdc"
      },
      "source": [
        "Stuyvesant.info()"
      ],
      "execution_count": 53,
      "outputs": [
        {
          "output_type": "stream",
          "text": [
            "<class 'pandas.core.frame.DataFrame'>\n",
            "Int64Index: 271 entries, 1511 to 146120\n",
            "Data columns (total 15 columns):\n",
            " #   Column                             Non-Null Count  Dtype  \n",
            "---  ------                             --------------  -----  \n",
            " 0   School DBN                         271 non-null    object \n",
            " 1   School Name                        271 non-null    object \n",
            " 2   School Level                       271 non-null    object \n",
            " 3   Regents Exam                       271 non-null    object \n",
            " 4   Year                               271 non-null    int64  \n",
            " 5   Total Tested                       271 non-null    int64  \n",
            " 6   Mean Score                         271 non-null    float64\n",
            " 7   Number Scoring Below 65            271 non-null    float64\n",
            " 8   Percent Scoring Below 65           271 non-null    float64\n",
            " 9   Number Scoring 65 or Above         271 non-null    float64\n",
            " 10  Percent Scoring 65 or Above        271 non-null    float64\n",
            " 11  Number Scoring 80 or Above         271 non-null    float64\n",
            " 12  Percent Scoring 80 or Above        271 non-null    float64\n",
            " 13  Number Scoring College Readiness   131 non-null    float64\n",
            " 14  Percent Scoring College Readiness  131 non-null    float64\n",
            "dtypes: float64(9), int64(2), object(4)\n",
            "memory usage: 33.9+ KB\n"
          ],
          "name": "stdout"
        }
      ]
    },
    {
      "cell_type": "code",
      "metadata": {
        "colab": {
          "base_uri": "https://localhost:8080/",
          "height": 372
        },
        "id": "op34rcczcmeE",
        "outputId": "ec527744-ba91-40bf-ee07-34da922f638c"
      },
      "source": [
        "Stuyvesant.describe()"
      ],
      "execution_count": 54,
      "outputs": [
        {
          "output_type": "execute_result",
          "data": {
            "text/html": [
              "<div>\n",
              "<style scoped>\n",
              "    .dataframe tbody tr th:only-of-type {\n",
              "        vertical-align: middle;\n",
              "    }\n",
              "\n",
              "    .dataframe tbody tr th {\n",
              "        vertical-align: top;\n",
              "    }\n",
              "\n",
              "    .dataframe thead th {\n",
              "        text-align: right;\n",
              "    }\n",
              "</style>\n",
              "<table border=\"1\" class=\"dataframe\">\n",
              "  <thead>\n",
              "    <tr style=\"text-align: right;\">\n",
              "      <th></th>\n",
              "      <th>Year</th>\n",
              "      <th>Total Tested</th>\n",
              "      <th>Mean Score</th>\n",
              "      <th>Number Scoring Below 65</th>\n",
              "      <th>Percent Scoring Below 65</th>\n",
              "      <th>Number Scoring 65 or Above</th>\n",
              "      <th>Percent Scoring 65 or Above</th>\n",
              "      <th>Number Scoring 80 or Above</th>\n",
              "      <th>Percent Scoring 80 or Above</th>\n",
              "      <th>Number Scoring College Readiness</th>\n",
              "      <th>Percent Scoring College Readiness</th>\n",
              "    </tr>\n",
              "  </thead>\n",
              "  <tbody>\n",
              "    <tr>\n",
              "      <th>count</th>\n",
              "      <td>271.000000</td>\n",
              "      <td>271.000000</td>\n",
              "      <td>271.000000</td>\n",
              "      <td>271.000000</td>\n",
              "      <td>271.000000</td>\n",
              "      <td>271.000000</td>\n",
              "      <td>271.000000</td>\n",
              "      <td>271.000000</td>\n",
              "      <td>271.000000</td>\n",
              "      <td>131.000000</td>\n",
              "      <td>131.000000</td>\n",
              "    </tr>\n",
              "    <tr>\n",
              "      <th>mean</th>\n",
              "      <td>2015.918819</td>\n",
              "      <td>319.000000</td>\n",
              "      <td>91.697786</td>\n",
              "      <td>0.918819</td>\n",
              "      <td>0.357196</td>\n",
              "      <td>318.081181</td>\n",
              "      <td>99.643173</td>\n",
              "      <td>302.306273</td>\n",
              "      <td>94.226199</td>\n",
              "      <td>300.259542</td>\n",
              "      <td>98.414504</td>\n",
              "    </tr>\n",
              "    <tr>\n",
              "      <th>std</th>\n",
              "      <td>0.812436</td>\n",
              "      <td>272.248226</td>\n",
              "      <td>3.353151</td>\n",
              "      <td>1.684586</td>\n",
              "      <td>1.358217</td>\n",
              "      <td>271.445174</td>\n",
              "      <td>1.356609</td>\n",
              "      <td>258.377914</td>\n",
              "      <td>8.390944</td>\n",
              "      <td>280.530036</td>\n",
              "      <td>3.209772</td>\n",
              "    </tr>\n",
              "    <tr>\n",
              "      <th>min</th>\n",
              "      <td>2015.000000</td>\n",
              "      <td>6.000000</td>\n",
              "      <td>81.100000</td>\n",
              "      <td>0.000000</td>\n",
              "      <td>0.000000</td>\n",
              "      <td>5.000000</td>\n",
              "      <td>83.300000</td>\n",
              "      <td>3.000000</td>\n",
              "      <td>50.000000</td>\n",
              "      <td>5.000000</td>\n",
              "      <td>83.300000</td>\n",
              "    </tr>\n",
              "    <tr>\n",
              "      <th>25%</th>\n",
              "      <td>2015.000000</td>\n",
              "      <td>35.500000</td>\n",
              "      <td>89.350000</td>\n",
              "      <td>0.000000</td>\n",
              "      <td>0.000000</td>\n",
              "      <td>35.500000</td>\n",
              "      <td>99.700000</td>\n",
              "      <td>32.500000</td>\n",
              "      <td>92.250000</td>\n",
              "      <td>31.000000</td>\n",
              "      <td>99.100000</td>\n",
              "    </tr>\n",
              "    <tr>\n",
              "      <th>50%</th>\n",
              "      <td>2016.000000</td>\n",
              "      <td>241.000000</td>\n",
              "      <td>92.500000</td>\n",
              "      <td>0.000000</td>\n",
              "      <td>0.000000</td>\n",
              "      <td>241.000000</td>\n",
              "      <td>100.000000</td>\n",
              "      <td>237.000000</td>\n",
              "      <td>97.600000</td>\n",
              "      <td>203.000000</td>\n",
              "      <td>99.800000</td>\n",
              "    </tr>\n",
              "    <tr>\n",
              "      <th>75%</th>\n",
              "      <td>2017.000000</td>\n",
              "      <td>553.500000</td>\n",
              "      <td>94.000000</td>\n",
              "      <td>1.000000</td>\n",
              "      <td>0.300000</td>\n",
              "      <td>551.500000</td>\n",
              "      <td>100.000000</td>\n",
              "      <td>519.500000</td>\n",
              "      <td>100.000000</td>\n",
              "      <td>563.500000</td>\n",
              "      <td>100.000000</td>\n",
              "    </tr>\n",
              "    <tr>\n",
              "      <th>max</th>\n",
              "      <td>2017.000000</td>\n",
              "      <td>909.000000</td>\n",
              "      <td>97.400000</td>\n",
              "      <td>8.000000</td>\n",
              "      <td>16.700000</td>\n",
              "      <td>909.000000</td>\n",
              "      <td>100.000000</td>\n",
              "      <td>867.000000</td>\n",
              "      <td>100.000000</td>\n",
              "      <td>908.000000</td>\n",
              "      <td>100.000000</td>\n",
              "    </tr>\n",
              "  </tbody>\n",
              "</table>\n",
              "</div>"
            ],
            "text/plain": [
              "              Year  ...  Percent Scoring College Readiness\n",
              "count   271.000000  ...                         131.000000\n",
              "mean   2015.918819  ...                          98.414504\n",
              "std       0.812436  ...                           3.209772\n",
              "min    2015.000000  ...                          83.300000\n",
              "25%    2015.000000  ...                          99.100000\n",
              "50%    2016.000000  ...                          99.800000\n",
              "75%    2017.000000  ...                         100.000000\n",
              "max    2017.000000  ...                         100.000000\n",
              "\n",
              "[8 rows x 11 columns]"
            ]
          },
          "metadata": {
            "tags": []
          },
          "execution_count": 54
        }
      ]
    },
    {
      "cell_type": "code",
      "metadata": {
        "id": "N96ynPxzV_Pf",
        "colab": {
          "base_uri": "https://localhost:8080/",
          "height": 316
        },
        "outputId": "5db35c77-f7db-4ef8-f640-4878a9372b33"
      },
      "source": [
        "# COMPARISON - STUYVESANT HS, ALL HIGH SCHOOLS, ALL SCHOOLS - MEAN OVERALL SCORES AND HISTOGRAM\n",
        "\n",
        "#stuyvesant: means: mean overall = 91.7, SD = 3.4, range = 81-97.3; 98.4% college ready\n",
        "#all high schools:means: mean overall = 64.4, SD = 10.8, range = 15-98.7; 31% college ready\n",
        "#all schools: means: mean overall = 65.9, SD = 11.3, range = 15-98.7; 36.2% college ready\n",
        "#these results are not surprising given that stuyvesant is one of the top high schools in NYC\n",
        "\n",
        "# the histogram of mean scores for stuyvesant is skewed left - more higher performers,\n",
        "# while the histogram of all schools and high schools are closer to normal distribution - with slight right skew\n",
        "\n",
        "Stuyvesant.hist('Mean Score')  #histogram of mean scores for Stuyvesant HS"
      ],
      "execution_count": 55,
      "outputs": [
        {
          "output_type": "execute_result",
          "data": {
            "text/plain": [
              "array([[<matplotlib.axes._subplots.AxesSubplot object at 0x7f58c0ae9490>]],\n",
              "      dtype=object)"
            ]
          },
          "metadata": {
            "tags": []
          },
          "execution_count": 55
        },
        {
          "output_type": "display_data",
          "data": {
            "image/png": "[encoded data removed]",
            "text/plain": [
              "<Figure size 432x288 with 1 Axes>"
            ]
          },
          "metadata": {
            "tags": [],
            "needs_background": "light"
          }
        }
      ]
    },
    {
      "cell_type": "code",
      "metadata": {
        "id": "Z6iEsMfDOlgs"
      },
      "source": [
        ""
      ],
      "execution_count": 55,
      "outputs": []
    },
    {
      "cell_type": "code",
      "metadata": {
        "colab": {
          "base_uri": "https://localhost:8080/",
          "height": 316
        },
        "id": "UQ5k8CgwN7wB",
        "outputId": "ff3e9241-58f9-492f-c853-c175672f3966"
      },
      "source": [
        "df.hist('Mean Score')  # histogram of mean scores for all schools"
      ],
      "execution_count": 56,
      "outputs": [
        {
          "output_type": "execute_result",
          "data": {
            "text/plain": [
              "array([[<matplotlib.axes._subplots.AxesSubplot object at 0x7f58c0aa6d90>]],\n",
              "      dtype=object)"
            ]
          },
          "metadata": {
            "tags": []
          },
          "execution_count": 56
        },
        {
          "output_type": "display_data",
          "data": {
            "image/png": "[encoded data removed]",
            "text/plain": [
              "<Figure size 432x288 with 1 Axes>"
            ]
          },
          "metadata": {
            "tags": [],
            "needs_background": "light"
          }
        }
      ]
    },
    {
      "cell_type": "code",
      "metadata": {
        "colab": {
          "base_uri": "https://localhost:8080/",
          "height": 316
        },
        "id": "CdKR6nc-P-dQ",
        "outputId": "fe27c5f9-de12-47d2-936f-6e2a0c06b85b"
      },
      "source": [
        "df[df['School Level'] == 'High school'].hist('Mean Score')  # hotgram of mean scores for all high schools"
      ],
      "execution_count": 57,
      "outputs": [
        {
          "output_type": "execute_result",
          "data": {
            "text/plain": [
              "array([[<matplotlib.axes._subplots.AxesSubplot object at 0x7f58c15ecb90>]],\n",
              "      dtype=object)"
            ]
          },
          "metadata": {
            "tags": []
          },
          "execution_count": 57
        },
        {
          "output_type": "display_data",
          "data": {
            "image/png": "[encoded data removed]",
            "text/plain": [
              "<Figure size 432x288 with 1 Axes>"
            ]
          },
          "metadata": {
            "tags": [],
            "needs_background": "light"
          }
        }
      ]
    },
    {
      "cell_type": "code",
      "metadata": {
        "id": "8apmautLY7yJ"
      },
      "source": [
        ""
      ],
      "execution_count": 57,
      "outputs": []
    },
    {
      "cell_type": "code",
      "metadata": {
        "id": "PE8i7QR0w6CM"
      },
      "source": [
        ""
      ],
      "execution_count": 57,
      "outputs": []
    },
    {
      "cell_type": "code",
      "metadata": {
        "colab": {
          "base_uri": "https://localhost:8080/",
          "height": 372
        },
        "id": "r0dLLk6OgoWK",
        "outputId": "3a99abeb-30e8-472f-b230-4cb97c94707f"
      },
      "source": [
        "# COMPARISON - STUYVENSANT HS, BRONX SCIENCE HS, BROOKLYN TECH HS (THE TOP THREE SPECIALIZED HIGH SCHOOLS)\n",
        "\n",
        "# Entry into the specialized high schools is by testing - stuyvesant takes the top scorers, then bronx science, then brooklyn tech\n",
        "# hence, stuyvesant is considered the most elite, followed by bronx science, then brooklyn tech\n",
        "\n",
        "#results from the descriptive statistics below appear to support this perception\n",
        "#stuyvesant: mean overall = 91.7, SD = 3.4, range = 81-97.3; 98.4% college ready\n",
        "#bronx science:mean overall = 90.2, SD = 4.6, range = 75.5-97.6; 94.9% college ready\n",
        "#brooklyn tech: mean overall = 85.8, SD = 6.1, range = 65-96; 90.4% college ready\n",
        "\n",
        "#good next step would be to test if these differences are statistically significant\n",
        "\n",
        "#the histograms of mean scores for the 3 specialized high schools are skewed left\n",
        "#while the histograms for all schools and all high schools are more normally distributed\n",
        "#like stuyvesant, the histograms for mean scores for bronx science and brooklyn tech are skewed left\n",
        "#the dtudent bodies cluster towards higher performers - not surprising as the students in these\n",
        "#schools are the stronger performing ones on the specialized high school test and less representative of the\n",
        "#general school population\n",
        "\n",
        "Stuyvesant = df[df['School DBN'] == '02M475']\n",
        "Stuyvesant.describe()"
      ],
      "execution_count": 58,
      "outputs": [
        {
          "output_type": "execute_result",
          "data": {
            "text/html": [
              "<div>\n",
              "<style scoped>\n",
              "    .dataframe tbody tr th:only-of-type {\n",
              "        vertical-align: middle;\n",
              "    }\n",
              "\n",
              "    .dataframe tbody tr th {\n",
              "        vertical-align: top;\n",
              "    }\n",
              "\n",
              "    .dataframe thead th {\n",
              "        text-align: right;\n",
              "    }\n",
              "</style>\n",
              "<table border=\"1\" class=\"dataframe\">\n",
              "  <thead>\n",
              "    <tr style=\"text-align: right;\">\n",
              "      <th></th>\n",
              "      <th>Year</th>\n",
              "      <th>Total Tested</th>\n",
              "      <th>Mean Score</th>\n",
              "      <th>Number Scoring Below 65</th>\n",
              "      <th>Percent Scoring Below 65</th>\n",
              "      <th>Number Scoring 65 or Above</th>\n",
              "      <th>Percent Scoring 65 or Above</th>\n",
              "      <th>Number Scoring 80 or Above</th>\n",
              "      <th>Percent Scoring 80 or Above</th>\n",
              "      <th>Number Scoring College Readiness</th>\n",
              "      <th>Percent Scoring College Readiness</th>\n",
              "    </tr>\n",
              "  </thead>\n",
              "  <tbody>\n",
              "    <tr>\n",
              "      <th>count</th>\n",
              "      <td>271.000000</td>\n",
              "      <td>271.000000</td>\n",
              "      <td>271.000000</td>\n",
              "      <td>271.000000</td>\n",
              "      <td>271.000000</td>\n",
              "      <td>271.000000</td>\n",
              "      <td>271.000000</td>\n",
              "      <td>271.000000</td>\n",
              "      <td>271.000000</td>\n",
              "      <td>131.000000</td>\n",
              "      <td>131.000000</td>\n",
              "    </tr>\n",
              "    <tr>\n",
              "      <th>mean</th>\n",
              "      <td>2015.918819</td>\n",
              "      <td>319.000000</td>\n",
              "      <td>91.697786</td>\n",
              "      <td>0.918819</td>\n",
              "      <td>0.357196</td>\n",
              "      <td>318.081181</td>\n",
              "      <td>99.643173</td>\n",
              "      <td>302.306273</td>\n",
              "      <td>94.226199</td>\n",
              "      <td>300.259542</td>\n",
              "      <td>98.414504</td>\n",
              "    </tr>\n",
              "    <tr>\n",
              "      <th>std</th>\n",
              "      <td>0.812436</td>\n",
              "      <td>272.248226</td>\n",
              "      <td>3.353151</td>\n",
              "      <td>1.684586</td>\n",
              "      <td>1.358217</td>\n",
              "      <td>271.445174</td>\n",
              "      <td>1.356609</td>\n",
              "      <td>258.377914</td>\n",
              "      <td>8.390944</td>\n",
              "      <td>280.530036</td>\n",
              "      <td>3.209772</td>\n",
              "    </tr>\n",
              "    <tr>\n",
              "      <th>min</th>\n",
              "      <td>2015.000000</td>\n",
              "      <td>6.000000</td>\n",
              "      <td>81.100000</td>\n",
              "      <td>0.000000</td>\n",
              "      <td>0.000000</td>\n",
              "      <td>5.000000</td>\n",
              "      <td>83.300000</td>\n",
              "      <td>3.000000</td>\n",
              "      <td>50.000000</td>\n",
              "      <td>5.000000</td>\n",
              "      <td>83.300000</td>\n",
              "    </tr>\n",
              "    <tr>\n",
              "      <th>25%</th>\n",
              "      <td>2015.000000</td>\n",
              "      <td>35.500000</td>\n",
              "      <td>89.350000</td>\n",
              "      <td>0.000000</td>\n",
              "      <td>0.000000</td>\n",
              "      <td>35.500000</td>\n",
              "      <td>99.700000</td>\n",
              "      <td>32.500000</td>\n",
              "      <td>92.250000</td>\n",
              "      <td>31.000000</td>\n",
              "      <td>99.100000</td>\n",
              "    </tr>\n",
              "    <tr>\n",
              "      <th>50%</th>\n",
              "      <td>2016.000000</td>\n",
              "      <td>241.000000</td>\n",
              "      <td>92.500000</td>\n",
              "      <td>0.000000</td>\n",
              "      <td>0.000000</td>\n",
              "      <td>241.000000</td>\n",
              "      <td>100.000000</td>\n",
              "      <td>237.000000</td>\n",
              "      <td>97.600000</td>\n",
              "      <td>203.000000</td>\n",
              "      <td>99.800000</td>\n",
              "    </tr>\n",
              "    <tr>\n",
              "      <th>75%</th>\n",
              "      <td>2017.000000</td>\n",
              "      <td>553.500000</td>\n",
              "      <td>94.000000</td>\n",
              "      <td>1.000000</td>\n",
              "      <td>0.300000</td>\n",
              "      <td>551.500000</td>\n",
              "      <td>100.000000</td>\n",
              "      <td>519.500000</td>\n",
              "      <td>100.000000</td>\n",
              "      <td>563.500000</td>\n",
              "      <td>100.000000</td>\n",
              "    </tr>\n",
              "    <tr>\n",
              "      <th>max</th>\n",
              "      <td>2017.000000</td>\n",
              "      <td>909.000000</td>\n",
              "      <td>97.400000</td>\n",
              "      <td>8.000000</td>\n",
              "      <td>16.700000</td>\n",
              "      <td>909.000000</td>\n",
              "      <td>100.000000</td>\n",
              "      <td>867.000000</td>\n",
              "      <td>100.000000</td>\n",
              "      <td>908.000000</td>\n",
              "      <td>100.000000</td>\n",
              "    </tr>\n",
              "  </tbody>\n",
              "</table>\n",
              "</div>"
            ],
            "text/plain": [
              "              Year  ...  Percent Scoring College Readiness\n",
              "count   271.000000  ...                         131.000000\n",
              "mean   2015.918819  ...                          98.414504\n",
              "std       0.812436  ...                           3.209772\n",
              "min    2015.000000  ...                          83.300000\n",
              "25%    2015.000000  ...                          99.100000\n",
              "50%    2016.000000  ...                          99.800000\n",
              "75%    2017.000000  ...                         100.000000\n",
              "max    2017.000000  ...                         100.000000\n",
              "\n",
              "[8 rows x 11 columns]"
            ]
          },
          "metadata": {
            "tags": []
          },
          "execution_count": 58
        }
      ]
    },
    {
      "cell_type": "code",
      "metadata": {
        "colab": {
          "base_uri": "https://localhost:8080/",
          "height": 372
        },
        "id": "qRf5CrKxw_Io",
        "outputId": "eead01e5-79ce-4338-e740-bb45e4a351d8"
      },
      "source": [
        "BronxScience = df[df['School DBN'] == '10X445']\n",
        "BronxScience.head(3)\n",
        "BronxScience.describe()"
      ],
      "execution_count": 59,
      "outputs": [
        {
          "output_type": "execute_result",
          "data": {
            "text/html": [
              "<div>\n",
              "<style scoped>\n",
              "    .dataframe tbody tr th:only-of-type {\n",
              "        vertical-align: middle;\n",
              "    }\n",
              "\n",
              "    .dataframe tbody tr th {\n",
              "        vertical-align: top;\n",
              "    }\n",
              "\n",
              "    .dataframe thead th {\n",
              "        text-align: right;\n",
              "    }\n",
              "</style>\n",
              "<table border=\"1\" class=\"dataframe\">\n",
              "  <thead>\n",
              "    <tr style=\"text-align: right;\">\n",
              "      <th></th>\n",
              "      <th>Year</th>\n",
              "      <th>Total Tested</th>\n",
              "      <th>Mean Score</th>\n",
              "      <th>Number Scoring Below 65</th>\n",
              "      <th>Percent Scoring Below 65</th>\n",
              "      <th>Number Scoring 65 or Above</th>\n",
              "      <th>Percent Scoring 65 or Above</th>\n",
              "      <th>Number Scoring 80 or Above</th>\n",
              "      <th>Percent Scoring 80 or Above</th>\n",
              "      <th>Number Scoring College Readiness</th>\n",
              "      <th>Percent Scoring College Readiness</th>\n",
              "    </tr>\n",
              "  </thead>\n",
              "  <tbody>\n",
              "    <tr>\n",
              "      <th>count</th>\n",
              "      <td>331.000000</td>\n",
              "      <td>331.000000</td>\n",
              "      <td>331.000000</td>\n",
              "      <td>331.000000</td>\n",
              "      <td>331.000000</td>\n",
              "      <td>331.000000</td>\n",
              "      <td>331.000000</td>\n",
              "      <td>331.000000</td>\n",
              "      <td>331.000000</td>\n",
              "      <td>160.000000</td>\n",
              "      <td>160.000000</td>\n",
              "    </tr>\n",
              "    <tr>\n",
              "      <th>mean</th>\n",
              "      <td>2015.942598</td>\n",
              "      <td>276.897281</td>\n",
              "      <td>90.189426</td>\n",
              "      <td>2.205438</td>\n",
              "      <td>1.097281</td>\n",
              "      <td>274.691843</td>\n",
              "      <td>98.903323</td>\n",
              "      <td>252.069486</td>\n",
              "      <td>90.350151</td>\n",
              "      <td>246.600000</td>\n",
              "      <td>94.912500</td>\n",
              "    </tr>\n",
              "    <tr>\n",
              "      <th>std</th>\n",
              "      <td>0.808870</td>\n",
              "      <td>257.186058</td>\n",
              "      <td>4.563708</td>\n",
              "      <td>5.387986</td>\n",
              "      <td>2.826566</td>\n",
              "      <td>255.044242</td>\n",
              "      <td>2.825461</td>\n",
              "      <td>234.259422</td>\n",
              "      <td>11.461433</td>\n",
              "      <td>248.376494</td>\n",
              "      <td>10.444099</td>\n",
              "    </tr>\n",
              "    <tr>\n",
              "      <th>min</th>\n",
              "      <td>2015.000000</td>\n",
              "      <td>6.000000</td>\n",
              "      <td>75.500000</td>\n",
              "      <td>0.000000</td>\n",
              "      <td>0.000000</td>\n",
              "      <td>5.000000</td>\n",
              "      <td>80.000000</td>\n",
              "      <td>3.000000</td>\n",
              "      <td>37.500000</td>\n",
              "      <td>4.000000</td>\n",
              "      <td>45.500000</td>\n",
              "    </tr>\n",
              "    <tr>\n",
              "      <th>25%</th>\n",
              "      <td>2015.000000</td>\n",
              "      <td>36.500000</td>\n",
              "      <td>87.100000</td>\n",
              "      <td>0.000000</td>\n",
              "      <td>0.000000</td>\n",
              "      <td>34.500000</td>\n",
              "      <td>99.400000</td>\n",
              "      <td>32.000000</td>\n",
              "      <td>83.950000</td>\n",
              "      <td>30.750000</td>\n",
              "      <td>97.425000</td>\n",
              "    </tr>\n",
              "    <tr>\n",
              "      <th>50%</th>\n",
              "      <td>2016.000000</td>\n",
              "      <td>183.000000</td>\n",
              "      <td>89.800000</td>\n",
              "      <td>0.000000</td>\n",
              "      <td>0.000000</td>\n",
              "      <td>182.000000</td>\n",
              "      <td>100.000000</td>\n",
              "      <td>166.000000</td>\n",
              "      <td>94.400000</td>\n",
              "      <td>151.000000</td>\n",
              "      <td>99.400000</td>\n",
              "    </tr>\n",
              "    <tr>\n",
              "      <th>75%</th>\n",
              "      <td>2017.000000</td>\n",
              "      <td>468.000000</td>\n",
              "      <td>93.750000</td>\n",
              "      <td>2.000000</td>\n",
              "      <td>0.600000</td>\n",
              "      <td>462.500000</td>\n",
              "      <td>100.000000</td>\n",
              "      <td>429.000000</td>\n",
              "      <td>99.800000</td>\n",
              "      <td>450.250000</td>\n",
              "      <td>100.000000</td>\n",
              "    </tr>\n",
              "    <tr>\n",
              "      <th>max</th>\n",
              "      <td>2017.000000</td>\n",
              "      <td>850.000000</td>\n",
              "      <td>97.600000</td>\n",
              "      <td>34.000000</td>\n",
              "      <td>20.000000</td>\n",
              "      <td>845.000000</td>\n",
              "      <td>100.000000</td>\n",
              "      <td>781.000000</td>\n",
              "      <td>100.000000</td>\n",
              "      <td>783.000000</td>\n",
              "      <td>100.000000</td>\n",
              "    </tr>\n",
              "  </tbody>\n",
              "</table>\n",
              "</div>"
            ],
            "text/plain": [
              "              Year  ...  Percent Scoring College Readiness\n",
              "count   331.000000  ...                         160.000000\n",
              "mean   2015.942598  ...                          94.912500\n",
              "std       0.808870  ...                          10.444099\n",
              "min    2015.000000  ...                          45.500000\n",
              "25%    2015.000000  ...                          97.425000\n",
              "50%    2016.000000  ...                          99.400000\n",
              "75%    2017.000000  ...                         100.000000\n",
              "max    2017.000000  ...                         100.000000\n",
              "\n",
              "[8 rows x 11 columns]"
            ]
          },
          "metadata": {
            "tags": []
          },
          "execution_count": 59
        }
      ]
    },
    {
      "cell_type": "code",
      "metadata": {
        "colab": {
          "base_uri": "https://localhost:8080/",
          "height": 316
        },
        "id": "bz3SHFGUawfG",
        "outputId": "49441c1d-e3ac-417d-dd4a-b59bedab5330"
      },
      "source": [
        "\n",
        "BronxScience.hist('Mean Score')\n"
      ],
      "execution_count": 60,
      "outputs": [
        {
          "output_type": "execute_result",
          "data": {
            "text/plain": [
              "array([[<matplotlib.axes._subplots.AxesSubplot object at 0x7f58c0ac6590>]],\n",
              "      dtype=object)"
            ]
          },
          "metadata": {
            "tags": []
          },
          "execution_count": 60
        },
        {
          "output_type": "display_data",
          "data": {
            "image/png": "[encoded data removed]",
            "text/plain": [
              "<Figure size 432x288 with 1 Axes>"
            ]
          },
          "metadata": {
            "tags": [],
            "needs_background": "light"
          }
        }
      ]
    },
    {
      "cell_type": "code",
      "metadata": {
        "colab": {
          "base_uri": "https://localhost:8080/",
          "height": 372
        },
        "id": "GuoXs70vqWUT",
        "outputId": "7c93559d-afe8-478c-988b-123059618f69"
      },
      "source": [
        "\n",
        "BrooklynTech = df[df['School DBN'] == '13K430']\n",
        "BrooklynTech.head(3)\n",
        "BrooklynTech.describe()"
      ],
      "execution_count": 61,
      "outputs": [
        {
          "output_type": "execute_result",
          "data": {
            "text/html": [
              "<div>\n",
              "<style scoped>\n",
              "    .dataframe tbody tr th:only-of-type {\n",
              "        vertical-align: middle;\n",
              "    }\n",
              "\n",
              "    .dataframe tbody tr th {\n",
              "        vertical-align: top;\n",
              "    }\n",
              "\n",
              "    .dataframe thead th {\n",
              "        text-align: right;\n",
              "    }\n",
              "</style>\n",
              "<table border=\"1\" class=\"dataframe\">\n",
              "  <thead>\n",
              "    <tr style=\"text-align: right;\">\n",
              "      <th></th>\n",
              "      <th>Year</th>\n",
              "      <th>Total Tested</th>\n",
              "      <th>Mean Score</th>\n",
              "      <th>Number Scoring Below 65</th>\n",
              "      <th>Percent Scoring Below 65</th>\n",
              "      <th>Number Scoring 65 or Above</th>\n",
              "      <th>Percent Scoring 65 or Above</th>\n",
              "      <th>Number Scoring 80 or Above</th>\n",
              "      <th>Percent Scoring 80 or Above</th>\n",
              "      <th>Number Scoring College Readiness</th>\n",
              "      <th>Percent Scoring College Readiness</th>\n",
              "    </tr>\n",
              "  </thead>\n",
              "  <tbody>\n",
              "    <tr>\n",
              "      <th>count</th>\n",
              "      <td>359.000000</td>\n",
              "      <td>359.000000</td>\n",
              "      <td>359.000000</td>\n",
              "      <td>359.000000</td>\n",
              "      <td>359.000000</td>\n",
              "      <td>359.000000</td>\n",
              "      <td>359.000000</td>\n",
              "      <td>359.000000</td>\n",
              "      <td>359.000000</td>\n",
              "      <td>182.000000</td>\n",
              "      <td>182.000000</td>\n",
              "    </tr>\n",
              "    <tr>\n",
              "      <th>mean</th>\n",
              "      <td>2015.930362</td>\n",
              "      <td>488.637883</td>\n",
              "      <td>85.789415</td>\n",
              "      <td>17.827298</td>\n",
              "      <td>3.721727</td>\n",
              "      <td>470.810585</td>\n",
              "      <td>96.278552</td>\n",
              "      <td>380.139276</td>\n",
              "      <td>78.089694</td>\n",
              "      <td>383.813187</td>\n",
              "      <td>90.397253</td>\n",
              "    </tr>\n",
              "    <tr>\n",
              "      <th>std</th>\n",
              "      <td>0.814085</td>\n",
              "      <td>461.805072</td>\n",
              "      <td>6.080843</td>\n",
              "      <td>41.354081</td>\n",
              "      <td>6.798503</td>\n",
              "      <td>442.192118</td>\n",
              "      <td>6.797885</td>\n",
              "      <td>363.066791</td>\n",
              "      <td>20.509342</td>\n",
              "      <td>403.657954</td>\n",
              "      <td>17.008192</td>\n",
              "    </tr>\n",
              "    <tr>\n",
              "      <th>min</th>\n",
              "      <td>2015.000000</td>\n",
              "      <td>6.000000</td>\n",
              "      <td>65.000000</td>\n",
              "      <td>0.000000</td>\n",
              "      <td>0.000000</td>\n",
              "      <td>4.000000</td>\n",
              "      <td>57.100000</td>\n",
              "      <td>2.000000</td>\n",
              "      <td>16.700000</td>\n",
              "      <td>2.000000</td>\n",
              "      <td>27.300000</td>\n",
              "    </tr>\n",
              "    <tr>\n",
              "      <th>25%</th>\n",
              "      <td>2015.000000</td>\n",
              "      <td>87.000000</td>\n",
              "      <td>81.100000</td>\n",
              "      <td>0.000000</td>\n",
              "      <td>0.000000</td>\n",
              "      <td>84.000000</td>\n",
              "      <td>94.700000</td>\n",
              "      <td>55.000000</td>\n",
              "      <td>61.250000</td>\n",
              "      <td>46.250000</td>\n",
              "      <td>93.725000</td>\n",
              "    </tr>\n",
              "    <tr>\n",
              "      <th>50%</th>\n",
              "      <td>2016.000000</td>\n",
              "      <td>346.000000</td>\n",
              "      <td>85.500000</td>\n",
              "      <td>1.000000</td>\n",
              "      <td>0.400000</td>\n",
              "      <td>342.000000</td>\n",
              "      <td>99.600000</td>\n",
              "      <td>266.000000</td>\n",
              "      <td>84.600000</td>\n",
              "      <td>240.500000</td>\n",
              "      <td>97.700000</td>\n",
              "    </tr>\n",
              "    <tr>\n",
              "      <th>75%</th>\n",
              "      <td>2017.000000</td>\n",
              "      <td>836.000000</td>\n",
              "      <td>90.950000</td>\n",
              "      <td>10.500000</td>\n",
              "      <td>5.300000</td>\n",
              "      <td>814.500000</td>\n",
              "      <td>100.000000</td>\n",
              "      <td>628.500000</td>\n",
              "      <td>97.550000</td>\n",
              "      <td>635.250000</td>\n",
              "      <td>99.775000</td>\n",
              "    </tr>\n",
              "    <tr>\n",
              "      <th>max</th>\n",
              "      <td>2017.000000</td>\n",
              "      <td>1729.000000</td>\n",
              "      <td>96.100000</td>\n",
              "      <td>289.000000</td>\n",
              "      <td>42.900000</td>\n",
              "      <td>1607.000000</td>\n",
              "      <td>100.000000</td>\n",
              "      <td>1365.000000</td>\n",
              "      <td>100.000000</td>\n",
              "      <td>1465.000000</td>\n",
              "      <td>100.000000</td>\n",
              "    </tr>\n",
              "  </tbody>\n",
              "</table>\n",
              "</div>"
            ],
            "text/plain": [
              "              Year  ...  Percent Scoring College Readiness\n",
              "count   359.000000  ...                         182.000000\n",
              "mean   2015.930362  ...                          90.397253\n",
              "std       0.814085  ...                          17.008192\n",
              "min    2015.000000  ...                          27.300000\n",
              "25%    2015.000000  ...                          93.725000\n",
              "50%    2016.000000  ...                          97.700000\n",
              "75%    2017.000000  ...                          99.775000\n",
              "max    2017.000000  ...                         100.000000\n",
              "\n",
              "[8 rows x 11 columns]"
            ]
          },
          "metadata": {
            "tags": []
          },
          "execution_count": 61
        }
      ]
    },
    {
      "cell_type": "code",
      "metadata": {
        "colab": {
          "base_uri": "https://localhost:8080/",
          "height": 316
        },
        "id": "iQxt8iEBbVEI",
        "outputId": "42570ad0-becc-4c59-f37a-2c48780a07d8"
      },
      "source": [
        "\n",
        "BrooklynTech.hist('Mean Score')\n"
      ],
      "execution_count": 62,
      "outputs": [
        {
          "output_type": "execute_result",
          "data": {
            "text/plain": [
              "array([[<matplotlib.axes._subplots.AxesSubplot object at 0x7f58c08ffe50>]],\n",
              "      dtype=object)"
            ]
          },
          "metadata": {
            "tags": []
          },
          "execution_count": 62
        },
        {
          "output_type": "display_data",
          "data": {
            "image/png": "[encoded data removed]",
            "text/plain": [
              "<Figure size 432x288 with 1 Axes>"
            ]
          },
          "metadata": {
            "tags": [],
            "needs_background": "light"
          }
        }
      ]
    },
    {
      "cell_type": "code",
      "metadata": {
        "colab": {
          "base_uri": "https://localhost:8080/"
        },
        "id": "u78AF84DVHqh",
        "outputId": "41f952bc-4e42-4f53-d186-9faca95f9ab0"
      },
      "source": [
        "#ARRAY AVERAGE MEAN SCORES FOR ALL REGENTS EXAMS\n",
        "labels = ['Stuyvesant', 'BronxScience', 'BrooklynTech', 'AllHighSchools', 'AllSchools']\n",
        "AvgMeanScore = [91.7,90.2,85.7,64.4,65.9]\n",
        "arr = np.array(AvgMeanScore)\n",
        "d = {'Stuyvesant':91.7,\n",
        "     'BronxScience':90.2,\n",
        "     'BrooklynTech':85.7,\n",
        "     'AllHighSchools':64.4,\n",
        "     'AllSchools':65.9}\n",
        "pd.Series(data=AvgMeanScore, index=labels)\n"
      ],
      "execution_count": 63,
      "outputs": [
        {
          "output_type": "execute_result",
          "data": {
            "text/plain": [
              "Stuyvesant        91.7\n",
              "BronxScience      90.2\n",
              "BrooklynTech      85.7\n",
              "AllHighSchools    64.4\n",
              "AllSchools        65.9\n",
              "dtype: float64"
            ]
          },
          "metadata": {
            "tags": []
          },
          "execution_count": 63
        }
      ]
    },
    {
      "cell_type": "code",
      "metadata": {
        "colab": {
          "base_uri": "https://localhost:8080/",
          "height": 347
        },
        "id": "fWqkoM5yZJ9k",
        "outputId": "8e5c0fc4-bdb0-4dc8-bdfc-4fae72fa6c11"
      },
      "source": [
        "#PLOT AVERAGE MEAN SCORES FOR ALL REGENTS EXAMS\n",
        "pd.Series(data=AvgMeanScore, index=labels).plot(kind='bar', color='red')\n"
      ],
      "execution_count": 64,
      "outputs": [
        {
          "output_type": "execute_result",
          "data": {
            "text/plain": [
              "<matplotlib.axes._subplots.AxesSubplot at 0x7f58c08231d0>"
            ]
          },
          "metadata": {
            "tags": []
          },
          "execution_count": 64
        },
        {
          "output_type": "display_data",
          "data": {
            "image/png": "[encoded data removed]",
            "text/plain": [
              "<Figure size 432x288 with 1 Axes>"
            ]
          },
          "metadata": {
            "tags": [],
            "needs_background": "light"
          }
        }
      ]
    }
  ]
}